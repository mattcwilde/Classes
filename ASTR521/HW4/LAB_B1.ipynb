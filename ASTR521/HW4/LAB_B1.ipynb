{
 "cells": [
  {
   "cell_type": "markdown",
   "metadata": {},
   "source": [
    "# 1 Stratification of the solar atmosphere\n",
    "\n",
    "## 1.1 FALC temperature stratification\n",
    "\n",
    "**Figure 2 shows the FALC temperature stratification. It was made with IDL code similar to the following. Write similar code and make it work.**"
   ]
  },
  {
   "cell_type": "code",
   "execution_count": null,
   "metadata": {
    "collapsed": false
   },
   "outputs": [],
   "source": [
    "%matplotlib inline\n",
    "import numpy as np\n",
    "import matplotlib.pyplot as plt\n",
    "import matplotlib as mpl\n",
    "import astropy.constants as const\n",
    "\n",
    "#use the pretty LaTeX fonts\n",
    "mpl.rcParams.update({'text.usetex': True})\n",
    "plt.rc('font', family='serif', size=10)\n",
    "mpl.rc('axes.formatter', useoffset=False)\n",
    "\n",
    "# plt.style.use('ggplot')"
   ]
  },
  {
   "cell_type": "code",
   "execution_count": null,
   "metadata": {
    "collapsed": true
   },
   "outputs": [],
   "source": [
    "k = const.k_B.cgs.value"
   ]
  },
  {
   "cell_type": "code",
   "execution_count": null,
   "metadata": {
    "collapsed": false
   },
   "outputs": [],
   "source": [
    "!head falc.dat"
   ]
  },
  {
   "cell_type": "code",
   "execution_count": null,
   "metadata": {
    "collapsed": false
   },
   "outputs": [],
   "source": [
    "# read in the data\n",
    "h, tau5, colm, temp, vturb, nhyd, nprot, nel, ptot, pgasptot, dens = np.loadtxt('falc.dat',skiprows=4, unpack=True)\n",
    "\n",
    "hsun = h"
   ]
  },
  {
   "cell_type": "code",
   "execution_count": null,
   "metadata": {
    "collapsed": false,
    "scrolled": true
   },
   "outputs": [],
   "source": [
    "fig, ax = plt.subplots()\n",
    "ax.plot(h,temp)\n",
    "ax.set_ylim(3000,10000)\n",
    "ax.set_xlabel('height [km]')\n",
    "ax.set_ylabel('temperature [K]')\n",
    "ax.set_title('FALC temperature stratification')\n",
    "plt.show()"
   ]
  },
  {
   "cell_type": "markdown",
   "metadata": {
    "collapsed": true
   },
   "source": [
    "## 1.2 FALC density stratification\n",
    "\n",
    "**Plot the total pressure $p_{total}$ against the column mass $m$, both linearly and logarithmically. You will find that they scale linearly. Exlpain what assumption has caused $p_{total} = c m$ and determine the value of solar surface gravity $g = c$ that went into the FALC-producing code.**"
   ]
  },
  {
   "cell_type": "code",
   "execution_count": null,
   "metadata": {
    "collapsed": false
   },
   "outputs": [],
   "source": [
    "fig, ax = plt.subplots(ncols=2)\n",
    "\n",
    "ax[0].plot(colm,ptot)\n",
    "ax[0].set_xlabel('column mass [g cm$^{-2}$]')\n",
    "ax[0].set_ylabel('pressure [dyne cm$^{-2}$]')\n",
    "\n",
    "ax[1].loglog(colm,ptot)\n",
    "ax[1].set_xlabel('column mass [g cm$^{-2}$]')\n",
    "\n",
    "plt.show()"
   ]
  },
  {
   "cell_type": "markdown",
   "metadata": {},
   "source": [
    "We assumed hydrostatic equilibrium.  \n",
    "\n",
    "$$ \\frac{P}{h} = \\rho g  = \\frac{m g}{V} = \\frac{m_{col}g}{h} \\rightarrow  P = gm $$\n",
    "\n",
    "And $g = 27396.5 \\rightarrow $log $g = 4.4$"
   ]
  },
  {
   "cell_type": "code",
   "execution_count": null,
   "metadata": {
    "collapsed": false
   },
   "outputs": [],
   "source": [
    "g = (ptot[-1] - ptot[0])/(colm[-1] - colm[0]) \n",
    "print \"solar g, logg = \",g, np.log10(g)"
   ]
  },
  {
   "cell_type": "markdown",
   "metadata": {},
   "source": [
    "**Fontenla et al (1993) also assumed complete mixing, i.e., the same element mix at all heights. Check this by plotting the ratio of the hydrogen mass density to the total mass density against height. Then add helium to hydrogen using their abundance and mass ratios ($N_{He}/N_{H} = 0.1, m_{He} = 3.97 m_{H}$), estimate the fraction of the total mass density made up by the remaining elements in the model mix (\"the metals\").**"
   ]
  },
  {
   "cell_type": "code",
   "execution_count": null,
   "metadata": {
    "collapsed": false
   },
   "outputs": [],
   "source": [
    "mh = 1.67352e-24 # mass of hydroen [g]\n",
    "H_ratio = nhyd*mh / dens\n",
    "fig, ax = plt.subplots()\n",
    "ax.plot(h,H_ratio, label='H')\n",
    "ax.set_ylabel('density fraction of H')\n",
    "ax.set_xlabel('height [km]')\n",
    "\n",
    "plt.show()"
   ]
  },
  {
   "cell_type": "code",
   "execution_count": null,
   "metadata": {
    "collapsed": false
   },
   "outputs": [],
   "source": [
    "fig, ax = plt.subplots()\n",
    "HHe_ratio = (nhyd*mh + 0.1*nhyd*3.97*mh) / dens\n",
    "ax.plot(h, HHe_ratio)\n",
    "ax.set_ylabel('density fraction of H + He')\n",
    "ax.set_xlabel('height [km]')\n",
    "plt.show()"
   ]
  },
  {
   "cell_type": "code",
   "execution_count": null,
   "metadata": {
    "collapsed": false
   },
   "outputs": [],
   "source": [
    "fig, ax = plt.subplots()\n",
    "metal_ratio = 1 - (nhyd*mh + 0.1*nhyd*3.97*mh)/dens\n",
    "ax.plot(h, metal_ratio)\n",
    "ax.set_ylabel('density fraction of metals')\n",
    "ax.set_xlabel('height [km]')\n",
    "plt.show()"
   ]
  },
  {
   "cell_type": "code",
   "execution_count": null,
   "metadata": {
    "collapsed": false
   },
   "outputs": [],
   "source": [
    "print(r\"average metal fraction is ~ {:.2}\".format((1 - HHe_ratio).mean()))"
   ]
  },
  {
   "cell_type": "markdown",
   "metadata": {},
   "source": [
    "**Plot the column mass against height. The curve becomes nearly straight when you make the $y$-axis logarithmic. Why is that? Why isn't it exactly straight?**\n",
    "\n",
    "It is neary straight since via hydrostaic equilibrium $log(m_{col}) = -h \\mu g/kT$ but it depends on $\\mu$ which changes slightly at different depths in the atmosphere as seen below. \n"
   ]
  },
  {
   "cell_type": "code",
   "execution_count": null,
   "metadata": {
    "collapsed": false
   },
   "outputs": [],
   "source": [
    "mu = dens/((nhyd+0.1*nhyd+nprot)*mh)\n",
    "plt.plot(h,mu)\n",
    "plt.xlabel('height [km]')\n",
    "plt.ylabel(r'$\\mu$')"
   ]
  },
  {
   "cell_type": "code",
   "execution_count": null,
   "metadata": {
    "collapsed": false,
    "scrolled": true
   },
   "outputs": [],
   "source": [
    "fig, ax = plt.subplots(ncols=2)\n",
    "ax[0].plot(h, colm)\n",
    "ax[0].set_xlabel('height [km]')\n",
    "ax[0].set_ylabel('column mass [g cm^-2]')\n",
    "ax[1].semilogy(h, colm)\n",
    "ax[1].set_xlabel('height [km]')\n",
    "fig.tight_layout()\n",
    "plt.show()"
   ]
  },
  {
   "cell_type": "markdown",
   "metadata": {
    "collapsed": true
   },
   "source": [
    "**Plot the gas density against height. Estimate the density scale height $H_{\\rho}$ in $\\rho \\approx \\rho(0)exp(-h/H_{\\rho})$ in the photosphere.**"
   ]
  },
  {
   "cell_type": "code",
   "execution_count": null,
   "metadata": {
    "collapsed": false
   },
   "outputs": [],
   "source": [
    "def rho(h, rho0, H):\n",
    "    return rho0*np.exp(-h/H)\n",
    "\n",
    "plt.semilogy(h, dens)\n",
    "plt.semilogy(h, rho(h, dens[79], 125))\n",
    "plt.text(1500,1e-8, r\"$H_{\\rho} = 125$\")\n",
    "plt.ylabel('gas density [g cm$^{-3}$]')\n",
    "plt.xlabel('height [km]')\n",
    "plt.show()"
   ]
  },
  {
   "cell_type": "markdown",
   "metadata": {},
   "source": [
    "scale height $H_{\\rho} \\approx 125$"
   ]
  },
  {
   "cell_type": "markdown",
   "metadata": {},
   "source": [
    "**Compute the gas pressure and plot it against height. Overplot the product $(nH+ne)kT$. Plot the ratio of the two curves to show their differences. Do the differences measure deviations from the ideal gas law or something else? Now add the helium density NHe to the product and enlarge the deviations. Comments?**\n",
    "\n",
    "The differences are not deviations from the ideal gas law, rather they reflect the fact we arent including the contribution from He."
   ]
  },
  {
   "cell_type": "code",
   "execution_count": null,
   "metadata": {
    "collapsed": false
   },
   "outputs": [],
   "source": [
    "#$ P_{gas} = P_{tot} - \\rho v_{t}^2/2 $\n",
    "#pgas = ptot - dens*vturb**2/2\n",
    "pgas = pgasptot*ptot\n",
    "plt.semilogy(h, pgas, label=r'$P_{gas}$')\n",
    "plt.semilogy(h, (nhyd+nel)*k*temp, label = r'$(nH+ne)kT$' )\n",
    "plt.xlabel('height [km]')\n",
    "plt.ylabel('pressure [dyn cm^-2]')\n",
    "\n",
    "plt.legend()\n",
    "plt.show()"
   ]
  },
  {
   "cell_type": "code",
   "execution_count": null,
   "metadata": {
    "collapsed": false
   },
   "outputs": [],
   "source": [
    "p2 = (nhyd+nel)*k*temp\n",
    "p3 = (nhyd+nel+0.1*nhyd)*k*temp\n",
    "\n",
    "plt.plot(h, p2/pgas, label=r'$(n_H+n_e)kT/P_{gas}$')\n",
    "# plt.plot(h, p3/pgas, label=r'$(nH+nHe+ne)kT/P_{gas}$')\n",
    "\n",
    "plt.xlabel('height [km]')\n",
    "plt.ylabel('ratio of pressures')\n",
    "\n",
    "plt.legend(loc='upper left')\n",
    "plt.show()"
   ]
  },
  {
   "cell_type": "code",
   "execution_count": null,
   "metadata": {
    "collapsed": false
   },
   "outputs": [],
   "source": [
    "p3 = (nhyd + nel + 0.1*nhyd)*k*temp\n",
    "plt.plot(h, p3/pgas-1, label=r'$(nH+nHe+ne)kT/P_{gas}-1 $')\n",
    "\n",
    "plt.xlabel('height [km]')\n",
    "plt.ylabel('ratio of pressures')\n",
    "\n",
    "plt.legend(loc='upper left')\n",
    "plt.show()\n"
   ]
  },
  {
   "cell_type": "markdown",
   "metadata": {},
   "source": [
    "**Comments?**\n",
    "\n",
    "The addition of the He density puts the gas pressure in agreement with the ideal gas law."
   ]
  },
  {
   "cell_type": "markdown",
   "metadata": {},
   "source": [
    "**Plot the total hydrogen density against height and overplot curves for the electron density, the proton density, and the density of the electrons that do not result from hydrogen ionization. Explain their behavior. You may find inspiration in Figure 6 on page 13. The last curve is parallel to the hydrogen density over a considerable height range. What does that imply? And what happens at larger height?**"
   ]
  },
  {
   "cell_type": "code",
   "execution_count": null,
   "metadata": {
    "collapsed": false
   },
   "outputs": [],
   "source": [
    "plt.semilogy(h, nhyd, label=r'$n_H$')\n",
    "plt.semilogy(h, nel, label=r'$n_e$')\n",
    "plt.semilogy(h, nprot, label=r'$n_p$')\n",
    "n_metal = nel - nprot\n",
    "plt.semilogy(h, n_metal, label=r'$n_{metal e}$')\n",
    "plt.legend()\n",
    "plt.show()"
   ]
  },
  {
   "cell_type": "markdown",
   "metadata": {},
   "source": [
    "The $n_p$ traces the temperature as it decreases then inverts. From $h=0$ until the inversion, $n_e$ is dominated by electrons coming from ionized metals. At the inversion, more H becomes ionized and this becomes the dominant electron source. The density of electrons due to metal ionization paralles the density of hydrogren since $n_H$ traces the density of metals through out the atmosphere, which exponentially decreases with height. At larger heights up in the atmosphere the temperature rises enough to further ionization of the metals, increaseing the number of electrons (compared to the number of metal ions) and flattening out the $n_{metal e^-}$curve."
   ]
  },
  {
   "cell_type": "markdown",
   "metadata": {},
   "source": [
    "**Plot the ionization fraction of hydrogen logarithmically against height. Why does this curve look like the one in Figure 2? And why is it tilted with respect to that?**\n"
   ]
  },
  {
   "cell_type": "code",
   "execution_count": null,
   "metadata": {
    "collapsed": false
   },
   "outputs": [],
   "source": [
    "N = nprot + nel - n_metal\n",
    "plt.semilogy(h, N/nhyd, label=r'$n_H$')\n",
    "plt.xlabel('height [km]')\n",
    "plt.ylabel('$N/N_H$')\n",
    "plt.show()"
   ]
  },
  {
   "cell_type": "markdown",
   "metadata": {},
   "source": [
    "The ionization fraction mirrors the temperature stratification since the temperature sets the ionization rate given by the Saha equation which scales as $T^{3/2}e^{-T}$. This follows T until very high temperatures in the outer atmosphere where the exponential takes over and the ionization fraction diverges from the temperature curve. "
   ]
  },
  {
   "cell_type": "markdown",
   "metadata": {},
   "source": [
    "** Let us now compare the photon and particle densities. In thermodynamic equilibrium (TE) the radiation is isotropic with intensity $I_{\\nu} = B_{\\nu}$ and has total energy density (Stefan Boltzmann)**\n",
    "\n",
    "$$u = \\frac{1}{c} \\iint B_{\\nu}d\\Omega d\\nu = \\frac{4\\sigma}{c} T^4 $$\n",
    "\n",
    "**so that the total photon density for isotropic TE radiation is given, with $u_{\\nu} = du/d\\nu$, $T$ in K and $N_{phot}$ in photons per cm$^3$, by**\n",
    "\n",
    "\n",
    "$$ N_{phot} = \\int_{0}^{\\infty} \\frac{u_{\\nu}}{h\\nu}d\\nu \\approx 20T^3 $$\n",
    "\n",
    "**This equation gives a reasonable estimate for the photon density at the deepest model location, why?**\n",
    "\n",
    "We are assuming the deepest levels are in LTE since the density is high enough for collisions to couple photons and Hydrogen.\n",
    "\n",
    "**Compute the value there and compare it to the hydrogen density.**\n",
    "\n",
    "$N_{phot} = 1.6 \\times 10^{13}$ and $N_{phot}/N_{H} = 0.00012$\n"
   ]
  },
  {
   "cell_type": "code",
   "execution_count": null,
   "metadata": {
    "collapsed": false
   },
   "outputs": [],
   "source": [
    "n = 20*temp[-1]**3\n",
    "#print n, nhyd[-1], temp[-1], temp[0]\n",
    "print \"{:.2}\".format(n/nhyd[-1])\n",
    "\n",
    "natmo = 20*5770**3/(2*np.pi)\n",
    "\n",
    "print natmo, natmo/nhyd[0]\n"
   ]
  },
  {
   "cell_type": "markdown",
   "metadata": {},
   "source": [
    "**Why is the equation not valid higher up in the atmosphere?**\n",
    "It is not valid higher up in the atmosphere because the density is low enough that we are in the NLTE regime.\n",
    "\n",
    "\n",
    "**The photon density there is $N_{phot} \\approx 20T_{eff}^3/2\\pi$ with $T_{eff} = 5770$K the effective solar temperature (since $\\pi B(T_{eff}) = \\sigma T_{eff}^3 = \\mathscr{F}^+ = \\pi \\overline{I^{+}}$ with $\\mathscr{F}^+$ the emergeng flux and $\\overline{I^{+}}$ the disk averaged emergent intensity). Compare it to the hydrogen density at the highest location in the FALC model. The medium there is insensitive to these photons (except those at the center wavelength of the hydrogen Ly$\\alpha$ line), why?**\n",
    "$N_{phot} = 6 \\times 10^{11}$ and $N_{phot}/N_{H} = 110$\n",
    "\n",
    "The medium is insensitive to these photons since the optical depth outside of line center is $<<1$ (the pressure is low so there is no pressure broadening) and thus we are in NLTE due to the low density at these altitudes.\n"
   ]
  },
  {
   "cell_type": "markdown",
   "metadata": {},
   "source": [
    "## 1.3 Comparison with the earth’s atmosphere\n",
    "\n",
    "**Write IDL code to read file earth.dat.**"
   ]
  },
  {
   "cell_type": "code",
   "execution_count": null,
   "metadata": {
    "collapsed": false
   },
   "outputs": [],
   "source": [
    "!head earth.dat"
   ]
  },
  {
   "cell_type": "code",
   "execution_count": null,
   "metadata": {
    "collapsed": false
   },
   "outputs": [],
   "source": [
    "h, logP, T, logdens, logN = np.loadtxt('earth.dat', unpack=True)"
   ]
  },
  {
   "cell_type": "markdown",
   "metadata": {},
   "source": [
    "**Plot the temperature, pressure, particle density and gas density against height, logarithmically where\n",
    "appropriate.**"
   ]
  },
  {
   "cell_type": "code",
   "execution_count": null,
   "metadata": {
    "collapsed": false
   },
   "outputs": [],
   "source": [
    "plt.plot(h, T)\n",
    "plt.ylabel('T [K]')\n",
    "plt.xlabel('height [km]')\n",
    "plt.title('Temperature v height')\n",
    "plt.text(25, 1200, 'EARTH ATMOSPHERE')\n",
    "plt.show()"
   ]
  },
  {
   "cell_type": "code",
   "execution_count": null,
   "metadata": {
    "collapsed": false
   },
   "outputs": [],
   "source": [
    "P = 10**logP\n",
    "plt.semilogy(h, P)\n",
    "plt.ylabel('P [dyn cm$^{-2}$]')\n",
    "plt.title('Pressure v height')\n",
    "plt.xlabel('height [km]')\n",
    "plt.show()"
   ]
  },
  {
   "cell_type": "code",
   "execution_count": null,
   "metadata": {
    "collapsed": false
   },
   "outputs": [],
   "source": [
    "N = 10**logN\n",
    "plt.semilogy(h, N)\n",
    "plt.ylabel('N [cm$^{-3}$]')\n",
    "plt.title('particle density v height')\n",
    "plt.xlabel('height [km]')\n",
    "plt.show()"
   ]
  },
  {
   "cell_type": "code",
   "execution_count": null,
   "metadata": {
    "collapsed": false
   },
   "outputs": [],
   "source": [
    "dens = 10**logdens\n",
    "plt.semilogy(h, dens)\n",
    "plt.ylabel(r'$\\rho$ [g cm$^{-3}$]')\n",
    "plt.title('gas density v height')\n",
    "plt.xlabel('height [km]')\n",
    "plt.show()"
   ]
  },
  {
   "cell_type": "markdown",
   "metadata": {},
   "source": [
    "**Plot the pressure and density stratifications together in normalized units in one graph. Comments?**"
   ]
  },
  {
   "cell_type": "code",
   "execution_count": null,
   "metadata": {
    "collapsed": false
   },
   "outputs": [],
   "source": [
    "# normalze:\n",
    "\n",
    "norm = (logP[0] + logdens[0])\n",
    "\n",
    "\n",
    "plt.plot(h, logdens/norm+0.9, label='density')\n",
    "plt.plot(h, logP/norm-2.0, label = 'pressure')\n",
    "plt.ylabel(r'density, pressure [normalized]')\n",
    "plt.title('normalized stratification v height')\n",
    "plt.xlabel('height [km]')\n",
    "plt.legend()\n",
    "plt.show()"
   ]
  },
  {
   "cell_type": "markdown",
   "metadata": {},
   "source": [
    "The pressure and density follow each other for most of the height of the atmosphere. However, they depart at around heights around 120km. This departure must be due to a difference in species at higher heights acording to the ideal gas law, $P = (N/V)kT = (\\rho/\\mu)kT$."
   ]
  },
  {
   "cell_type": "markdown",
   "metadata": {},
   "source": [
    "**Plot the mean molecular weight $\\mu_E = \\overline{m}/m_H = \\rho/(N m_H)$ against height. Why does it decrease in the high atmosphere?**"
   ]
  },
  {
   "cell_type": "code",
   "execution_count": null,
   "metadata": {
    "collapsed": false
   },
   "outputs": [],
   "source": [
    "# h, logP, T, logdens, logN\n",
    "\n",
    "dens = 10**(logdens)\n",
    "N = 10**(logN)\n",
    "\n",
    "mu = dens/(N*mh)"
   ]
  },
  {
   "cell_type": "code",
   "execution_count": null,
   "metadata": {
    "collapsed": false
   },
   "outputs": [],
   "source": [
    "plt.plot(h, mu)\n",
    "plt.ylabel(r'$\\mu$')\n",
    "plt.title('mean molecular weight per particle')\n",
    "plt.xlabel('height [km]')\n",
    "plt.show()"
   ]
  },
  {
   "cell_type": "markdown",
   "metadata": {},
   "source": [
    "The mean molecular weight decreases high in the atmosphere because heavier molecules segregate to the lower atmosphere as only the lighter molecules have enough kinetic energy to reach those heights. In addition, as the height increases molecules may become dissasociated due to UV dissociation. "
   ]
  },
  {
   "cell_type": "markdown",
   "metadata": {},
   "source": [
    "**Estimate the density scales height of the lower terrestrial atmosphere. Which quantities make it differ from the solar one? How much harder do you have to breathe on Mount Everest?**\n",
    "\n",
    "The density profile makes the earth scale height differ from the solar scale height. "
   ]
  },
  {
   "cell_type": "code",
   "execution_count": null,
   "metadata": {
    "collapsed": false
   },
   "outputs": [],
   "source": [
    "plt.semilogy(h, dens)\n",
    "plt.semilogy(h, rho(h, dens[0], 7))\n",
    "plt.ylabel(r'$\\rho$ [g cm$^{-3}$]')\n",
    "plt.title('gas density v height')\n",
    "plt.xlabel('height [km]')\n",
    "plt.ylim(1e-14, 1e-2)\n",
    "plt.text(200,1e-6, r\"$H_{\\rho} = $7 km\")\n",
    "plt.show()"
   ]
  },
  {
   "cell_type": "code",
   "execution_count": null,
   "metadata": {
    "collapsed": false
   },
   "outputs": [],
   "source": [
    "print \"density at summit\",dens[8] / dens[0]\n",
    "print \"pressure at summit\",10**logP[8] / 10**logP[0]"
   ]
  },
  {
   "cell_type": "markdown",
   "metadata": {},
   "source": [
    "Everest is ~9000m ~10km so the gas density is ~1/3 (slightly less than $1/e$) the density at sea level while the pressure is 1/4 that of the surface. Therefore one would have to breath ~3 times harder to get the same amount of oxygen. "
   ]
  },
  {
   "cell_type": "markdown",
   "metadata": {},
   "source": [
    "**Compare the terrestrial parameter values to the solar ones, at the base of each atmosphere. What is the ratio of the particle densities at h = 0 in the two atmospheres?**\n"
   ]
  },
  {
   "cell_type": "code",
   "execution_count": null,
   "metadata": {
    "collapsed": true
   },
   "outputs": [],
   "source": [
    "# terrestrial: h, logP, T, logdens, logN\n",
    "# solar: hsun, ptot, temp, dens, nhyd"
   ]
  },
  {
   "cell_type": "code",
   "execution_count": null,
   "metadata": {
    "collapsed": false
   },
   "outputs": [],
   "source": [
    "print \"      solar \\t earth\"\n",
    "print \"h     {:.2} \\t {:.2}\".format(hsun[-11], h[0])\n",
    "print \"press {:.2} \\t {:.2}\".format(ptot[-11], 10**logP[0])\n",
    "print \"temp  {:.2} \\t {:.2}\".format(temp[-11], T[0])\n",
    "print \"dens  {:.2} \\t {:.2}\".format(dens[-11], 10**logdens[0])\n",
    "print \"N     {:.2} \\t {:.2}\".format(nhyd[-11], 10**logN[0])\n",
    "print '\\n'\n",
    "print \"ratio of particle density N_earth/N_sun {:.4}\".format(10**logN[0]/nhyd[-11])"
   ]
  },
  {
   "cell_type": "code",
   "execution_count": null,
   "metadata": {
    "collapsed": false
   },
   "outputs": [],
   "source": [
    "mcol_earth = 10**logP[0]/980.665\n",
    "print mcol_earth"
   ]
  },
  {
   "cell_type": "markdown",
   "metadata": {},
   "source": [
    "**The standard gravity at the earth’s surface is $g_E = 980.665$ cm s$^{−2}$. Use this value to estimate the atmospheric column mass (g cm$^{−2}$) at the earth’s surface and compare that also to the value at the base of the solar atmosphere.**\n",
    "\n",
    "using $P_{tot} = g m_{col} \\rightarrow m_{col} = 1043.46 g/cm^2$ \n",
    "\n",
    "\n",
    "**Final question: the energy flux of the sunshine reaching our planet (\"irradiance\") is**\n",
    "\n",
    "$$ \\mathscr{R} = \\frac{4\\pi R^2}{4\\pi D^2} = \\mathscr{F}^+_{\\odot} $$\n",
    "\n",
    "**with $\\mathscr{F}^+_{\\odot} = \\pi B(T^{\\odot}_{eff})$ the emergent solar flux, $R$ the solar radius and $D$ the sun-earth distance so that the sunshine photon density at earth is**\n",
    "\n",
    "$$ N_{phot} = \\pi \\frac{R^2}{D^2} N^{top}_{phot} $$\n",
    "\n",
    "**with $N^{top}_{phot}$ the photon density at the top of FALC which you determined at the end of Section 1.1. Compare $N_{phot}$ to the particle density in the air around us, and to the local thermal photon production derived from (2). Comments?**"
   ]
  },
  {
   "cell_type": "code",
   "execution_count": null,
   "metadata": {
    "collapsed": true
   },
   "outputs": [],
   "source": [
    "R = const.R_sun.cgs.value\n",
    "D = const.au.cgs.value\n",
    "Teff = 5770\n",
    "Nphot_sun = (20*Teff**3)/(2*np.pi)\n",
    "Nphot_earth = np.pi * (R**2/D**2) * Nphot_sun\n",
    "\n",
    "Tearth = T[0] \n",
    "Nphot_from_earth = (20*Tearth**3)/(2*np.pi)"
   ]
  },
  {
   "cell_type": "code",
   "execution_count": null,
   "metadata": {
    "collapsed": false
   },
   "outputs": [],
   "source": [
    "print \"photon density at earth from the sun: {:.2}\".format(Nphot_earth)\n",
    "print \"particle density around us: {:.2}\".format((10**(logN[0])))\n",
    "print \"local thermal photon production: {:.2}\".format(Nphot_from_earth)"
   ]
  },
  {
   "cell_type": "markdown",
   "metadata": {},
   "source": [
    "The photon density is ~11 orders of magnitude less than the particle density at the surface of earth. In addition the local thermal photon production is greater than that recieved by the sun."
   ]
  }
 ],
 "metadata": {
  "kernelspec": {
   "display_name": "Python 2",
   "language": "python",
   "name": "python2"
  },
  "language_info": {
   "codemirror_mode": {
    "name": "ipython",
    "version": 2
   },
   "file_extension": ".py",
   "mimetype": "text/x-python",
   "name": "python",
   "nbconvert_exporter": "python",
   "pygments_lexer": "ipython2",
   "version": "2.7.11"
  }
 },
 "nbformat": 4,
 "nbformat_minor": 0
}
