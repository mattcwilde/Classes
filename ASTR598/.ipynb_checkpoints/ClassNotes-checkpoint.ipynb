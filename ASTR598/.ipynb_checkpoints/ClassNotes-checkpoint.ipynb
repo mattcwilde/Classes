{
 "cells": [
  {
   "cell_type": "markdown",
   "metadata": {},
   "source": [
    "# ASTR 598 Notes:"
   ]
  },
  {
   "cell_type": "markdown",
   "metadata": {},
   "source": [
    "## Feb 5:"
   ]
  },
  {
   "cell_type": "code",
   "execution_count": 7,
   "metadata": {
    "collapsed": false
   },
   "outputs": [],
   "source": [
    "class PriorityQueue(object):\n",
    "\n",
    "    def __init__(self, MAX=0):\n",
    "        self.a = [0]\n",
    "        self.N = 0\n",
    "        self.max = MAX\n",
    "        return None\n",
    "\n",
    "    def min(self):\n",
    "        \"\"\"Error code\"\"\"\n",
    "        self.m = self.a[1]\n",
    "        return self.m\n",
    "\n",
    "    def size(self):\n",
    "        return self.N\n",
    "\n",
    "    def isEmpty(self):\n",
    "        if len(self.a) == 0:\n",
    "            return True\n",
    "        else:\n",
    "            return False\n",
    "\n",
    "    def isFull(self):\n",
    "        if True:\n",
    "            pass\n",
    "        return False\n",
    "\n",
    "    def insert(self, i):\n",
    "        self.i = i\n",
    "        self.temp = 0\n",
    "        self.k = N\n",
    "        self.N += 1\n",
    "        if self.N > self.max:\n",
    "            a[self.N] = self.i\n",
    "            return Error\n",
    "            k = self.N\n",
    "        while (self.k > 1) and (self.a[self.k/2] > self.a[self.k]):\n",
    "            \"\"\"\n",
    "            heapsort O(NlogN)\n",
    "\n",
    "            as long as not at root and as long as parents value is \n",
    "            > child do something \n",
    "\n",
    "            for child of index k:\n",
    "            parent index is k/2 \n",
    "\n",
    "            !!!!! integer division super important\n",
    "            \"\"\"\n",
    "\n",
    "            # exchange parent and child\n",
    "            temp = a[self.k/2]\n",
    "            a[self.k/2] = a[self.k]\n",
    "            a[self.k] = temp\n",
    "            k = k/2\n",
    "        return None\n",
    "    \n",
    "    def delMin(self):\n",
    "        if N == 0:\n",
    "            print \"Error\"\n",
    "            return None\n",
    "        else:\n",
    "            self.min = self.a[1]\n",
    "            self.a[1] = self.a[N]\n",
    "            self.a[N] = 0\n",
    "\n",
    "            # loop backwards\n",
    "            N = N - 1\n",
    "            k = 1\n",
    "            while 2*k <= N:\n",
    "                # left child\n",
    "                if (2*k == N) or (self.a[2*k] < self.a[2*k+1]):\n",
    "                    j = 2*k # lesser child or only child\n",
    "                else:\n",
    "                    j = 2*k + 1 # right child and is the smaller child\n",
    "                    \n",
    "                # only child or lesser child\n",
    "                if (self.a[k] > a[j]):\n",
    "                    temp = a[k]\n",
    "                    a[k] = a[j]\n",
    "                    k = j\n",
    "                else:\n",
    "                    break\n",
    "            return self.min"
   ]
  },
  {
   "cell_type": "markdown",
   "metadata": {},
   "source": [
    "## Algorithm: mergesort\n",
    "\n",
    "Takes two sorted lists and merges them into a sorted list"
   ]
  },
  {
   "cell_type": "code",
   "execution_count": 15,
   "metadata": {
    "collapsed": true
   },
   "outputs": [],
   "source": [
    "def merge(a, b, c):\n",
    "    \n",
    "    \"\"\" Takes two sorted lists and merges them into a sorted list specified\n",
    "        upon calling. \n",
    "        \n",
    "        O(NlogN)\n",
    "    \"\"\"\n",
    "    k = 0 # c\n",
    "    i = 0 # a\n",
    "    j = 0 # b\n",
    "    \n",
    "    \n",
    "    while (i <  len(a)) and (j < len(b)):\n",
    "        if a[i] < b[j]:\n",
    "            c[k] = a[i]\n",
    "            i += 1\n",
    "            k += 1\n",
    "        else:\n",
    "            c[k] = b[j]\n",
    "            j += 1\n",
    "            k += 1\n",
    "    #  only one of these two will run \n",
    "    # fills in the rest of c if a or b are finished\n",
    "    while i < len(a):\n",
    "        c[k] = a[i]\n",
    "        i += 1\n",
    "        k += 1 \n",
    "    \n",
    "    while j < len(b):\n",
    "        c[k] = b[j]\n",
    "        j += 1\n",
    "        k +=1\n",
    "    return None"
   ]
  },
  {
   "cell_type": "code",
   "execution_count": 10,
   "metadata": {
    "collapsed": true
   },
   "outputs": [],
   "source": [
    "import numpy as np"
   ]
  },
  {
   "cell_type": "code",
   "execution_count": 27,
   "metadata": {
    "collapsed": false
   },
   "outputs": [],
   "source": [
    "a = np.sort(np.random.randint(100,size=5))\n",
    "b = np.sort(np.random.randint(100,size=8))\n",
    "\n",
    "c = np.zeros(len(a)+len(b))\n",
    "\n",
    "merge(a,b,c)"
   ]
  },
  {
   "cell_type": "code",
   "execution_count": 28,
   "metadata": {
    "collapsed": false
   },
   "outputs": [
    {
     "name": "stdout",
     "output_type": "stream",
     "text": [
      "[11 37 41 47 48] [ 0  4 20 26 69 83 89 93] [  0.   4.  11.  20.  26.  37.  41.  47.  48.  69.  83.  89.  93.]\n"
     ]
    }
   ],
   "source": [
    "print a, b, c"
   ]
  },
  {
   "cell_type": "markdown",
   "metadata": {},
   "source": [
    "## Feb 12:\n",
    "\n",
    "Going over HWs:\n",
    "\n",
    "#### HW1:\n",
    "\n",
    "1) units in readme and comments\n",
    "\n",
    "2) $F = Gm1m2/(r^2)$ where $r = sqrt((x1-x2)^2 + (y1-y2)^2)$\n",
    "    dont use x1==x2 if floats. use abs(x1-x2) < epsilon\n",
    "    \n",
    "3) use composition instead of inheritance\n",
    "\n",
    "4) efficiency: dont compute sqrt if you are going to square\n",
    "\n",
    "\n",
    "#### HW2:\n",
    "(LinkedList)\n",
    "\n",
    "1) check for Null\n",
    "\n",
    "2) @staticmethod generally dont use them \n",
    "    static gives you math.complex.add(c1,c2)\n",
    "    non static would be c1.add(c2)\n",
    "\n",
    "3) dont use file names that are key names\n",
    "\n",
    "#### HW3:\n",
    "\n",
    "1) check for empyt stack during pop(), or top()\n",
    "\n",
    "2) make errors real and exit\n",
    "\n",
    "    if (x == None):\n",
    "        print error # error should have a real string \n",
    "        break # exit the loop \n",
    "\n",
    "        then you dont need an else unless you have more than two cases\n",
    "    \n",
    "3) read the question\n",
    "\n",
    "#### python specific stuff\n",
    "\n",
    "    class Complex:\n",
    "        # constructor\n",
    "        def __init__(self, r=0.0, i=0.0):\n",
    "            self.real = r\n",
    "            self.imag = i\n",
    "            \n",
    "        def hello:\n",
    "            self.xyz # dont do this. Self only goes on the variables from the constructor\n",
    "            \n",
    "            \n"
   ]
  },
  {
   "cell_type": "markdown",
   "metadata": {},
   "source": [
    "### StableSorts\n",
    "\n",
    "after sorting still have the correct order \n",
    "\n",
    "mergesort is a stable sort\n",
    "\n",
    "Heapsort is NOT a stable sort\n",
    "\n",
    "    unosrted                                  sorted\n",
    "    keys\n",
    "    -                                          - \n",
    "    -                                          - \n",
    "    -                                          - \n",
    "    chicago 11:00am                            chicago 1100\n",
    "    -                                          chicago 1300\n",
    "    -                                          - \n",
    "    chicago 13:00hrs                           - \n",
    "    -                                          - \n",
    "\n",
    "\n",
    "#### finishing up mergesort:\n",
    "\n",
    "    a[] = [3][5][17][][][][][][][][][]\n",
    "\n",
    "    result c[] = [1 from b][2 from b][3 from a][][][][][][][][][][][][]\n",
    "\n",
    "    b[] = [1][2][4][5][]"
   ]
  },
  {
   "cell_type": "code",
   "execution_count": 18,
   "metadata": {
    "collapsed": false
   },
   "outputs": [],
   "source": [
    "class mergesort(object):\n",
    "    def __init__(self, a):\n",
    "        #self.aux = []*len(a)\n",
    "        # overloading funciton ok since takes a different amount of input\n",
    "        # signature of function is different so computer names them differently\n",
    "        sort(a, 0, len(a)-1)\n",
    "        return None\n",
    "\n",
    "    #need aux as a global veriable\n",
    "    #aux = []*len(a)\n",
    "    #sort(a, 0, len(a)-1)\n",
    "\n",
    "\n",
    "    def sort(a, low, hi):\n",
    "        # base case of recursion to end recursion\n",
    "        if (hi <= low):\n",
    "            return None\n",
    "\n",
    "        #      low        mid        hi\n",
    "        # []   []   []   []    []    []    []\n",
    "        mid = low + (hi - low)/2\n",
    "\n",
    "        # calling a function in a definition of that function\n",
    "        # this is what recursion is\n",
    "\n",
    "        # DIVIDE and CONQUER!!!!!\n",
    "        # sort left half\n",
    "\n",
    "        # if the parameters were equal to the initial parameters it would run forever\n",
    "        sort(a, low, mid) \n",
    "\n",
    "        # sort right half\n",
    "        sort(a, mid+1, hi) \n",
    "\n",
    "        #now merge the two sorted halfs\n",
    "        merge(a, low, mid, hi)\n",
    "\n",
    "\n",
    "    def merge(a, lo, mid, hi):\n",
    "        i = lo\n",
    "        j = mid + 1\n",
    "\n",
    "        # make a copy\n",
    "        aux = [0]*len(a)\n",
    "        for k in range(lo, hi + 1):\n",
    "            aux[k] = a[k]\n",
    "\n",
    "        # could just copy\n",
    "        #aux = np.copy(a)\n",
    "\n",
    "        k = lo\n",
    "        while (k <= hi):\n",
    "            while((i <= mid) and (j <= hi)):\n",
    "\n",
    "                if(aux[j] < aux[i]):\n",
    "                    #pick the smaller one\n",
    "                    aux[k] = aux[j]\n",
    "                    k = k + 1\n",
    "                    j = j + 1\n",
    "                else:\n",
    "                    a[k] = aux[i]\n",
    "                    i = i + 1 \n",
    "                    k = k + 1 \n",
    "\n",
    "            # Now either i > mid or j > hi\n",
    "            # so only one of the below loops will run\n",
    "            while(i <= mid):\n",
    "                a[k] = aux[i]\n",
    "                i = i + 1\n",
    "                k = k + 1 \n",
    "            while(j <= hi):\n",
    "                a[k] = aux[j]\n",
    "                j = j + 1\n",
    "                k = k + 1\n",
    "        return None    "
   ]
  },
  {
   "cell_type": "markdown",
   "metadata": {},
   "source": [
    "Divide and Conquer:\n",
    "\n",
    "height is logN: \n",
    "\n",
    "         [][][][][][][][][]\n",
    "            /       \\\n",
    "        [][][][]    [][][][][]\n",
    "          /  \\       /      \\\n",
    "       [][]  [][]   [][][]   [][]\n",
    "    \n",
    "\n",
    "\n",
    "Quicksort is Not stable"
   ]
  },
  {
   "cell_type": "code",
   "execution_count": 23,
   "metadata": {
    "collapsed": false
   },
   "outputs": [],
   "source": [
    "import numpy as np\n",
    "a = np.random.randint(0, 100, 10)"
   ]
  },
  {
   "cell_type": "code",
   "execution_count": 24,
   "metadata": {
    "collapsed": true
   },
   "outputs": [],
   "source": [
    "b = list(a)"
   ]
  },
  {
   "cell_type": "code",
   "execution_count": 25,
   "metadata": {
    "collapsed": false
   },
   "outputs": [
    {
     "data": {
      "text/plain": [
       "[36, 60, 16, 38, 29, 12, 82, 2, 6, 15]"
      ]
     },
     "execution_count": 25,
     "metadata": {},
     "output_type": "execute_result"
    }
   ],
   "source": [
    "b"
   ]
  },
  {
   "cell_type": "code",
   "execution_count": 26,
   "metadata": {
    "collapsed": false
   },
   "outputs": [],
   "source": [
    "c = a.copy()"
   ]
  },
  {
   "cell_type": "code",
   "execution_count": 27,
   "metadata": {
    "collapsed": false
   },
   "outputs": [
    {
     "name": "stdout",
     "output_type": "stream",
     "text": [
      "[36 60 16 38 29 12 82  2  6 15] [36 60 16 38 29 12 82  2  6 15]\n"
     ]
    }
   ],
   "source": [
    "print a, c"
   ]
  },
  {
   "cell_type": "code",
   "execution_count": 28,
   "metadata": {
    "collapsed": true
   },
   "outputs": [],
   "source": [
    "d = np.copy(b)"
   ]
  },
  {
   "cell_type": "code",
   "execution_count": 29,
   "metadata": {
    "collapsed": false
   },
   "outputs": [
    {
     "name": "stdout",
     "output_type": "stream",
     "text": [
      "[36 60 16 38 29 12 82  2  6 15]\n"
     ]
    }
   ],
   "source": [
    "print d"
   ]
  },
  {
   "cell_type": "code",
   "execution_count": 30,
   "metadata": {
    "collapsed": false
   },
   "outputs": [],
   "source": [
    "merge(b, 1, len(b)/2, len(b)-1)"
   ]
  },
  {
   "cell_type": "code",
   "execution_count": 31,
   "metadata": {
    "collapsed": false
   },
   "outputs": [
    {
     "data": {
      "text/plain": [
       "[36, 60, 16, 38, 29, 12, 82, 2, 6, 15]"
      ]
     },
     "execution_count": 31,
     "metadata": {},
     "output_type": "execute_result"
    }
   ],
   "source": [
    "b"
   ]
  },
  {
   "cell_type": "code",
   "execution_count": null,
   "metadata": {
    "collapsed": true
   },
   "outputs": [],
   "source": []
  }
 ],
 "metadata": {
  "kernelspec": {
   "display_name": "Python 2",
   "language": "python",
   "name": "python2"
  },
  "language_info": {
   "codemirror_mode": {
    "name": "ipython",
    "version": 2
   },
   "file_extension": ".py",
   "mimetype": "text/x-python",
   "name": "python",
   "nbconvert_exporter": "python",
   "pygments_lexer": "ipython2",
   "version": "2.7.11"
  }
 },
 "nbformat": 4,
 "nbformat_minor": 0
}
