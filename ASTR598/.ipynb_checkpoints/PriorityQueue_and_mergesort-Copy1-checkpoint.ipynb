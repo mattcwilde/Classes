{
 "cells": [
  {
   "cell_type": "code",
   "execution_count": 145,
   "metadata": {
    "collapsed": false
   },
   "outputs": [],
   "source": [
    "class PriorityQueue(object):\n",
    "\n",
    "    def __init__(self, MAX=0):\n",
    "        self.a = [0]*MAX\n",
    "        self.N = 0\n",
    "        self.max = MAX\n",
    "        return None\n",
    "\n",
    "    def min(self):\n",
    "        \"\"\"Error code\"\"\"\n",
    "        m = self.a[1]\n",
    "        return m\n",
    "\n",
    "    def size(self):\n",
    "        return self.N\n",
    "\n",
    "    def isEmpty(self):\n",
    "        if len(self.a) == 0:\n",
    "            return True\n",
    "        else:\n",
    "            return False\n",
    "\n",
    "    def isFull(self):\n",
    "        if self.N == self.max+1:\n",
    "            return True\n",
    "        else:\n",
    "            return False\n",
    "\n",
    "    def insert(self, i):\n",
    "        self.N = self.N + 1\n",
    "        if self.N > self.max:\n",
    "            self.k = self.N\n",
    "            a[self.N] = i\n",
    "            print \"Error\"\n",
    "            return Nonw\n",
    "            k = self.N\n",
    "        else:\n",
    "            k = self.N\n",
    "            self.a[self.N] = i\n",
    "            while (k > 1) and (self.a[k/2] > self.a[k]):\n",
    "                \"\"\"\n",
    "                heapsort O(NlogN)\n",
    "\n",
    "                as long as not at root and as long as parents value is \n",
    "                > child do something \n",
    "\n",
    "                for child of index k:\n",
    "                parent index is k/2 \n",
    "\n",
    "                !!!!! integer division super important\n",
    "                \"\"\"\n",
    "\n",
    "                # exchange parent and child\n",
    "                temp = self.a[k/2]\n",
    "                self.a[k/2] = self.a[k]\n",
    "                self.a[k] = temp\n",
    "                k = k/2\n",
    "        return None\n",
    "    \n",
    "    def delMin(self):\n",
    "        \n",
    "        \n",
    "        if self.isEmpty():\n",
    "            print \"Error\"\n",
    "            return None\n",
    "        else:\n",
    "            # minimum value\n",
    "            m = self.a[1]\n",
    "            \n",
    "            # put last value to top\n",
    "            self.a[1] = self.a[self.N]\n",
    "            self.a[self.N] = 0\n",
    "\n",
    "            # loop backwards\n",
    "            self.N = self.N - 1\n",
    "            \n",
    "            # start loop at root\n",
    "            k = 1 \n",
    "            while 2*k <= self.N:\n",
    "                # Note: right child is 2k+1, left is 2k\n",
    "                \n",
    "                # left child\n",
    "                if (2*k == self.N) or (self.a[2*k] < self.a[2*k+1]):\n",
    "                    j = 2*k # lesser child or only child\n",
    "                else:\n",
    "                    j = 2*k + 1 # right child and is the smaller child\n",
    "                    \n",
    "                # See if heap has been ordered by checking if \n",
    "                # parent > child\n",
    "                if (self.a[k] > self.a[j]):\n",
    "                    temp = self.a[k]\n",
    "                    self.a[k] = self.a[j]\n",
    "                    self.a[j] = temp\n",
    "                    k = j\n",
    "                else:\n",
    "                    # binary heap condition satisfied\n",
    "                    # parent < child\n",
    "                    break\n",
    "            return m"
   ]
  },
  {
   "cell_type": "code",
   "execution_count": 146,
   "metadata": {
    "collapsed": false
   },
   "outputs": [],
   "source": [
    "q = PriorityQueue(10)"
   ]
  },
  {
   "cell_type": "code",
   "execution_count": 147,
   "metadata": {
    "collapsed": false,
    "scrolled": true
   },
   "outputs": [
    {
     "name": "stdout",
     "output_type": "stream",
     "text": [
      "[0, 5, 0, 0, 0, 0, 0, 0, 0, 0] 1\n"
     ]
    }
   ],
   "source": [
    "q.insert(5)\n",
    "print q.a, q.N"
   ]
  },
  {
   "cell_type": "code",
   "execution_count": 148,
   "metadata": {
    "collapsed": false
   },
   "outputs": [
    {
     "name": "stdout",
     "output_type": "stream",
     "text": [
      "[0, 2, 5, 0, 0, 0, 0, 0, 0, 0] 2\n"
     ]
    }
   ],
   "source": [
    "q.insert(2)\n",
    "print q.a, q.N"
   ]
  },
  {
   "cell_type": "code",
   "execution_count": 149,
   "metadata": {
    "collapsed": false
   },
   "outputs": [
    {
     "name": "stdout",
     "output_type": "stream",
     "text": [
      "[0, 1, 5, 2, 0, 0, 0, 0, 0, 0] 3\n"
     ]
    }
   ],
   "source": [
    "q.insert(1)\n",
    "print q.a, q.N"
   ]
  },
  {
   "cell_type": "code",
   "execution_count": 150,
   "metadata": {
    "collapsed": false
   },
   "outputs": [
    {
     "name": "stdout",
     "output_type": "stream",
     "text": [
      "[0, 1, 4, 2, 5, 0, 0, 0, 0, 0] 4\n"
     ]
    }
   ],
   "source": [
    "q.insert(4)\n",
    "print q.a, q.N"
   ]
  },
  {
   "cell_type": "code",
   "execution_count": 151,
   "metadata": {
    "collapsed": false
   },
   "outputs": [
    {
     "name": "stdout",
     "output_type": "stream",
     "text": [
      "[0, 1, 4, 2, 5, 5, 0, 0, 0, 0] 5\n"
     ]
    }
   ],
   "source": [
    "q.insert(5)\n",
    "print q.a, q.N"
   ]
  },
  {
   "cell_type": "code",
   "execution_count": 152,
   "metadata": {
    "collapsed": false
   },
   "outputs": [
    {
     "name": "stdout",
     "output_type": "stream",
     "text": [
      "1 [0, 2, 4, 5, 5, 0, 0, 0, 0, 0] 4\n"
     ]
    }
   ],
   "source": [
    "print q.delMin(), q.a, q.N"
   ]
  },
  {
   "cell_type": "code",
   "execution_count": 153,
   "metadata": {
    "collapsed": false
   },
   "outputs": [
    {
     "name": "stdout",
     "output_type": "stream",
     "text": [
      "[0, 4, 5, 5, 0, 0, 0, 0, 0, 0] 3\n"
     ]
    }
   ],
   "source": [
    "q.delMin()\n",
    "print q.a, q.N"
   ]
  },
  {
   "cell_type": "code",
   "execution_count": 117,
   "metadata": {
    "collapsed": true
   },
   "outputs": [],
   "source": [
    "import numpy as np"
   ]
  },
  {
   "cell_type": "code",
   "execution_count": 154,
   "metadata": {
    "collapsed": false
   },
   "outputs": [
    {
     "name": "stdout",
     "output_type": "stream",
     "text": [
      "[48 17 23 24 93 15 21 41 28 34 34 54 75 31 13  8 57 27 40 36]\n"
     ]
    }
   ],
   "source": [
    "randos = np.random.randint(0,100,20)\n",
    "print randos"
   ]
  },
  {
   "cell_type": "code",
   "execution_count": 155,
   "metadata": {
    "collapsed": false
   },
   "outputs": [
    {
     "name": "stdout",
     "output_type": "stream",
     "text": [
      "list of random ints = [97 96 83 40 56 41 83 20 65  3 91 24 72 97 63 38 42 75  8 33]\n",
      "[0, 3, 8, 24, 20, 33, 41, 63, 42, 38, 40, 91, 96, 72, 97, 83, 97, 56, 75, 65, 83, 0, 0, 0, 0, 0, 0, 0, 0, 0]\n",
      "20\n",
      "3\n",
      "8\n",
      "20\n",
      "24\n",
      "33\n",
      "38\n",
      "40\n",
      "41\n",
      "42\n",
      "56\n",
      "63\n",
      "65\n",
      "72\n",
      "75\n",
      "83\n",
      "83\n",
      "91\n",
      "96\n",
      "97\n",
      "97\n"
     ]
    }
   ],
   "source": [
    "import numpy as np\n",
    "\n",
    "randos = np.random.randint(0,100,20)\n",
    "print \"list of random ints =\",randos\n",
    "\n",
    "#create instance of priority queue\n",
    "pq = PriorityQueue(30)\n",
    "for r in randos:\n",
    "    pq.insert(r)\n",
    "    #print r\n",
    "#print pq.a, r\n",
    "\n",
    "print pq.a\n",
    "\n",
    "print pq.N\n",
    "for i in range(20):\n",
    "    print pq.delMin()\n",
    "\n"
   ]
  },
  {
   "cell_type": "code",
   "execution_count": null,
   "metadata": {
    "collapsed": true
   },
   "outputs": [],
   "source": []
  }
 ],
 "metadata": {
  "kernelspec": {
   "display_name": "Python 2",
   "language": "python",
   "name": "python2"
  },
  "language_info": {
   "codemirror_mode": {
    "name": "ipython",
    "version": 2
   },
   "file_extension": ".py",
   "mimetype": "text/x-python",
   "name": "python",
   "nbconvert_exporter": "python",
   "pygments_lexer": "ipython2",
   "version": "2.7.11"
  }
 },
 "nbformat": 4,
 "nbformat_minor": 0
}
