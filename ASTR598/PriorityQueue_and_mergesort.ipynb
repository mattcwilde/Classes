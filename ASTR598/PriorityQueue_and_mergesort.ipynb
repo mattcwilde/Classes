{
 "cells": [
  {
   "cell_type": "code",
   "execution_count": 7,
   "metadata": {
    "collapsed": false
   },
   "outputs": [],
   "source": [
    "class PriorityQueue(object):\n",
    "\n",
    "    def __init__(self, MAX=0):\n",
    "        self.a = []\n",
    "        self.N = 0\n",
    "        self.max = MAX\n",
    "\n",
    "    def min(self):\n",
    "        \"\"\"Error code\"\"\"\n",
    "        self.m = self.a[1]\n",
    "        return self.m\n",
    "\n",
    "    def size(self):\n",
    "        return self.N\n",
    "\n",
    "    def isEmpty(self):\n",
    "        if len(self.a) == 0:\n",
    "            return True\n",
    "        else:\n",
    "            return False\n",
    "\n",
    "    def isFull(self):\n",
    "        if True:\n",
    "            pass\n",
    "        return False\n",
    "\n",
    "    def insert(self, i):\n",
    "        self.i = i\n",
    "        self.temp = 0\n",
    "        self.k = 0\n",
    "        self.N += 1\n",
    "        if self.N > self.max:\n",
    "            a[self.N] = self.i\n",
    "            return Error\n",
    "            k = self.N\n",
    "        while (self.k > 1) and (self.a[self.k/2] > self.a[self.k]):\n",
    "            \"\"\"\n",
    "            heapsort O(NlogN)\n",
    "\n",
    "            as long as not at root and as long as parents value is \n",
    "            > child do something \n",
    "\n",
    "            for child of index k:\n",
    "            parent index is k/2 \n",
    "\n",
    "            !!!!! integer division super important\n",
    "            \"\"\"\n",
    "\n",
    "            # exchange parent and child\n",
    "            temp = a[self.k/2]\n",
    "            a[self.k/2] = a[self.k]\n",
    "            a[self.k] = temp\n",
    "            k = k/2\n",
    "        return None\n",
    "    \n",
    "    def delMin(self):\n",
    "        if N == 0:\n",
    "            print \"Error\"\n",
    "            return None\n",
    "        else:\n",
    "            self.min = self.a[1]\n",
    "            self.a[1] = self.a[N]\n",
    "            self.a[N] = 0\n",
    "\n",
    "            # loop backwards\n",
    "            N = N - 1\n",
    "            k = 1\n",
    "            while 2*k <= N:\n",
    "                # left child\n",
    "                if (2*k == N) or (self.a[2*k] < self.a[2*k+1]):\n",
    "                    j = 2*k # lesser child or only child\n",
    "                else:\n",
    "                    j = 2*k + 1 # right child and is the smaller child\n",
    "                    \n",
    "                # only child or lesser child\n",
    "                if (self.a[k] > a[j]):\n",
    "                    temp = a[k]\n",
    "                    a[k] = a[j]\n",
    "                    k = j\n",
    "                else:\n",
    "                    break\n",
    "            return self.min\n",
    "                \n",
    "        "
   ]
  },
  {
   "cell_type": "markdown",
   "metadata": {},
   "source": [
    "## Algorithm: mergesort\n",
    "\n",
    "Takes two sorted lists and merges them into a sorted list"
   ]
  },
  {
   "cell_type": "code",
   "execution_count": 15,
   "metadata": {
    "collapsed": true
   },
   "outputs": [],
   "source": [
    "def merge(a, b, c):\n",
    "    \n",
    "    \"\"\" Takes two sorted lists and merges them into a sorted list specified\n",
    "        upon calling. \n",
    "        \n",
    "        O(NlogN)\n",
    "    \"\"\"\n",
    "    k = 0 # c\n",
    "    i = 0 # a\n",
    "    j = 0 # b\n",
    "    \n",
    "    \n",
    "    while (i <  len(a)) and (j < len(b)):\n",
    "        if a[i] < b[j]:\n",
    "            c[k] = a[i]\n",
    "            i += 1\n",
    "            k += 1\n",
    "        else:\n",
    "            c[k] = b[j]\n",
    "            j += 1\n",
    "            k += 1\n",
    "    #  only one of these two will run \n",
    "    # fills in the rest of c if a or b are finished\n",
    "    while i < len(a):\n",
    "        c[k] = a[i]\n",
    "        i += 1\n",
    "        k += 1 \n",
    "    \n",
    "    while j < len(b):\n",
    "        c[k] = b[j]\n",
    "        j += 1\n",
    "        k +=1\n",
    "    return None\n",
    "    \n",
    "    \n",
    "    "
   ]
  },
  {
   "cell_type": "code",
   "execution_count": 10,
   "metadata": {
    "collapsed": true
   },
   "outputs": [],
   "source": [
    "import numpy as np"
   ]
  },
  {
   "cell_type": "code",
   "execution_count": 27,
   "metadata": {
    "collapsed": false
   },
   "outputs": [],
   "source": [
    "a = np.sort(np.random.randint(100,size=5))\n",
    "b = np.sort(np.random.randint(100,size=8))\n",
    "\n",
    "c = np.zeros(len(a)+len(b))\n",
    "\n",
    "merge(a,b,c)"
   ]
  },
  {
   "cell_type": "code",
   "execution_count": 28,
   "metadata": {
    "collapsed": false
   },
   "outputs": [
    {
     "name": "stdout",
     "output_type": "stream",
     "text": [
      "[11 37 41 47 48] [ 0  4 20 26 69 83 89 93] [  0.   4.  11.  20.  26.  37.  41.  47.  48.  69.  83.  89.  93.]\n"
     ]
    }
   ],
   "source": [
    "print a, b, c"
   ]
  },
  {
   "cell_type": "code",
   "execution_count": null,
   "metadata": {
    "collapsed": true
   },
   "outputs": [],
   "source": []
  }
 ],
 "metadata": {
  "kernelspec": {
   "display_name": "Python 2",
   "language": "python",
   "name": "python2"
  },
  "language_info": {
   "codemirror_mode": {
    "name": "ipython",
    "version": 2
   },
   "file_extension": ".py",
   "mimetype": "text/x-python",
   "name": "python",
   "nbconvert_exporter": "python",
   "pygments_lexer": "ipython2",
   "version": "2.7.11"
  }
 },
 "nbformat": 4,
 "nbformat_minor": 0
}
