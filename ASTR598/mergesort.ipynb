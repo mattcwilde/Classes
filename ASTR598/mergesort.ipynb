{
 "cells": [
  {
   "cell_type": "code",
   "execution_count": 50,
   "metadata": {
    "collapsed": true
   },
   "outputs": [],
   "source": [
    "def sort(a, lo, hi, aux):\n",
    "    # base case of recursion to end recursion\n",
    "    if (hi <= lo):\n",
    "        return\n",
    "\n",
    "    #      low        mid        hi\n",
    "    # []   []   []   []    []    []    []\n",
    "    mid = lo + (hi - lo)/2\n",
    "\n",
    "    # calling a function in a definition of that function\n",
    "    # this is what recursion is\n",
    "\n",
    "    # DIVIDE and CONQUER!!!!!\n",
    "    # sort left half\n",
    "\n",
    "    # if the parameters were equal to the initial parameters it would run forever\n",
    "    sort(a, lo, mid, aux) \n",
    "\n",
    "    # sort right half\n",
    "    sort(a, mid+1, hi, aux) \n",
    "\n",
    "    #now merge the two sorted halfs\n",
    "    merge(a, lo, mid, hi, aux)\n",
    "\n",
    "\n",
    "def merge(a, lo, mid, hi, aux):\n",
    "    i = lo\n",
    "    j = mid + 1\n",
    "\n",
    "    # make a copy\n",
    "    #aux = [0]*len(a)\n",
    "    aux[lo:hi+1] = a[lo:hi+1]\n",
    "\n",
    "    k = lo\n",
    "    while (k <= hi):\n",
    "        while((i <= mid) and (j <= hi)):\n",
    "\n",
    "            if(aux[j] < aux[i]):\n",
    "                #pick the smaller one\n",
    "                a[k] = aux[j]\n",
    "                k = k + 1\n",
    "                j = j + 1\n",
    "            else:\n",
    "                a[k] = aux[i]\n",
    "                i = i + 1 \n",
    "                k = k + 1 \n",
    "\n",
    "        # Now either i > mid or j > hi\n",
    "        # so only one of the below loops will run\n",
    "        while(i <= mid):\n",
    "            a[k] = aux[i]\n",
    "            i = i + 1\n",
    "            k = k + 1 \n",
    "        while(j <= hi):\n",
    "            a[k] = aux[j]\n",
    "            j = j + 1\n",
    "            k = k + 1\n",
    "    return a  \n",
    "\n",
    "def mergesort(a):\n",
    "    #aux = [0]*len(a)\n",
    "    aux = np.copy(a)\n",
    "    # overloading funciton ok since takes a different amount of input\n",
    "    # signature of function is different so computer names them differently\n",
    "    sort(a, 0, len(a)-1, aux)\n",
    "    return a"
   ]
  },
  {
   "cell_type": "code",
   "execution_count": 51,
   "metadata": {
    "collapsed": true
   },
   "outputs": [],
   "source": [
    "import numpy as np"
   ]
  },
  {
   "cell_type": "code",
   "execution_count": 56,
   "metadata": {
    "collapsed": true
   },
   "outputs": [],
   "source": [
    "a = [1,3,5,7]\n",
    "b = [2,4,6,8]\n",
    "c = a + b"
   ]
  },
  {
   "cell_type": "code",
   "execution_count": 57,
   "metadata": {
    "collapsed": false
   },
   "outputs": [
    {
     "name": "stdout",
     "output_type": "stream",
     "text": [
      "[1, 3, 5, 7, 2, 4, 6, 8]\n"
     ]
    }
   ],
   "source": [
    "print c"
   ]
  },
  {
   "cell_type": "code",
   "execution_count": 54,
   "metadata": {
    "collapsed": false
   },
   "outputs": [
    {
     "data": {
      "text/plain": [
       "[1, 2, 3, 4, 5, 6, 7, 8]"
      ]
     },
     "execution_count": 54,
     "metadata": {},
     "output_type": "execute_result"
    }
   ],
   "source": [
    "mergesort(c)"
   ]
  },
  {
   "cell_type": "code",
   "execution_count": 67,
   "metadata": {
    "collapsed": true
   },
   "outputs": [],
   "source": [
    "def sort(a, lo, hi):\n",
    "    # base case of recursion to end recursion\n",
    "    if (hi <= lo):\n",
    "        return\n",
    "\n",
    "    #      low        mid        hi\n",
    "    # []   []   []   []    []    []    []\n",
    "    mid = lo + (hi - lo)/2\n",
    "\n",
    "    # calling a function in a definition of that function\n",
    "    # this is what recursion is\n",
    "\n",
    "    # DIVIDE and CONQUER!!!!!\n",
    "    # sort left half\n",
    "\n",
    "    # if the parameters were equal to the initial parameters it would run forever\n",
    "    sort(a, lo, mid) \n",
    "\n",
    "    # sort right half\n",
    "    sort(a, mid+1, hi) \n",
    "\n",
    "    #now merge the two sorted halfs\n",
    "    merge(a, lo, mid, hi)\n",
    "\n",
    "\n",
    "def merge(a, lo, mid, hi):\n",
    "    i = lo\n",
    "    j = mid + 1\n",
    "\n",
    "    # make a copy\n",
    "    aux = [0]*len(a)\n",
    "    aux[lo:hi+1] = a[lo:hi+1]\n",
    "\n",
    "    k = lo\n",
    "    while (k <= hi):\n",
    "        while((i <= mid) and (j <= hi)):\n",
    "\n",
    "            if(aux[j] < aux[i]):\n",
    "                #pick the smaller one\n",
    "                a[k] = aux[j]\n",
    "                k = k + 1\n",
    "                j = j + 1\n",
    "            else:\n",
    "                a[k] = aux[i]\n",
    "                i = i + 1 \n",
    "                k = k + 1 \n",
    "\n",
    "        # Now either i > mid or j > hi\n",
    "        # so only one of the below loops will run\n",
    "        while(i <= mid):\n",
    "            a[k] = aux[i]\n",
    "            i = i + 1\n",
    "            k = k + 1 \n",
    "        while(j <= hi):\n",
    "            a[k] = aux[j]\n",
    "            j = j + 1\n",
    "            k = k + 1\n",
    "    return a  \n",
    "\n",
    "def mergesort(a):\n",
    "    #aux = [0]*len(a)\n",
    "    #aux = np.copy(a)\n",
    "    # overloading funciton ok since takes a different amount of input\n",
    "    # signature of function is different so computer names them differently\n",
    "    sort(a, 0, len(a)-1)\n",
    "    return a"
   ]
  },
  {
   "cell_type": "code",
   "execution_count": 68,
   "metadata": {
    "collapsed": false
   },
   "outputs": [
    {
     "data": {
      "text/plain": [
       "array([ 0,  2,  2,  3,  4,  4,  5,  5,  6,  7,  9, 12, 12, 13, 14, 14, 15,\n",
       "       17, 17, 18, 19, 20, 21, 22, 22, 23, 23, 23, 25, 27, 27, 29, 29, 31,\n",
       "       31, 32, 33, 35, 35, 35, 38, 38, 39, 40, 42, 44, 47, 47, 48, 49, 50,\n",
       "       51, 51, 51, 52, 52, 53, 53, 54, 56, 57, 58, 58, 59, 59, 60, 62, 62,\n",
       "       63, 64, 66, 68, 71, 71, 73, 73, 74, 74, 75, 78, 79, 79, 80, 82, 84,\n",
       "       84, 84, 84, 87, 88, 90, 92, 94, 94, 96, 97, 98, 98, 99, 99])"
      ]
     },
     "execution_count": 68,
     "metadata": {},
     "output_type": "execute_result"
    }
   ],
   "source": [
    "a = np.random.randint(0,100,100)\n",
    "mergesort(a)"
   ]
  },
  {
   "cell_type": "code",
   "execution_count": 69,
   "metadata": {
    "collapsed": true
   },
   "outputs": [],
   "source": [
    "N = [100,10000,1000000,100000000]"
   ]
  },
  {
   "cell_type": "code",
   "execution_count": 70,
   "metadata": {
    "collapsed": true
   },
   "outputs": [],
   "source": [
    "n = [int(1e2), int(1e4), int(1e6), int(1e8)]"
   ]
  },
  {
   "cell_type": "code",
   "execution_count": 71,
   "metadata": {
    "collapsed": false
   },
   "outputs": [
    {
     "data": {
      "text/plain": [
       "True"
      ]
     },
     "execution_count": 71,
     "metadata": {},
     "output_type": "execute_result"
    }
   ],
   "source": [
    "n == N"
   ]
  },
  {
   "cell_type": "code",
   "execution_count": 73,
   "metadata": {
    "collapsed": false
   },
   "outputs": [
    {
     "ename": "NameError",
     "evalue": "name 'timeit' is not defined",
     "output_type": "error",
     "traceback": [
      "\u001b[0;31m---------------------------------------------------------------------------\u001b[0m",
      "\u001b[0;31mNameError\u001b[0m                                 Traceback (most recent call last)",
      "\u001b[0;32m<ipython-input-73-168bb2aa3097>\u001b[0m in \u001b[0;36m<module>\u001b[0;34m()\u001b[0m\n\u001b[0;32m----> 1\u001b[0;31m \u001b[0mave_t\u001b[0m \u001b[0;34m=\u001b[0m \u001b[0mnp\u001b[0m\u001b[0;34m.\u001b[0m\u001b[0mmean\u001b[0m\u001b[0;34m(\u001b[0m\u001b[0mtimeit\u001b[0m\u001b[0;34m.\u001b[0m\u001b[0mTimer\u001b[0m\u001b[0;34m(\u001b[0m\u001b[0mpartial\u001b[0m\u001b[0;34m(\u001b[0m\u001b[0mmergesort\u001b[0m\u001b[0;34m.\u001b[0m\u001b[0mmergesort\u001b[0m\u001b[0;34m,\u001b[0m\u001b[0marr\u001b[0m\u001b[0;34m)\u001b[0m\u001b[0;34m)\u001b[0m\u001b[0;34m.\u001b[0m\u001b[0mrepeat\u001b[0m\u001b[0;34m(\u001b[0m\u001b[0mrepeat\u001b[0m\u001b[0;34m=\u001b[0m\u001b[0;36m1\u001b[0m\u001b[0;34m,\u001b[0m \u001b[0mnumber\u001b[0m\u001b[0;34m=\u001b[0m\u001b[0;36m1\u001b[0m\u001b[0;34m)\u001b[0m\u001b[0;34m)\u001b[0m\u001b[0;34m\u001b[0m\u001b[0m\n\u001b[0m",
      "\u001b[0;31mNameError\u001b[0m: name 'timeit' is not defined"
     ]
    }
   ],
   "source": [
    "ave_t = np.mean(timeit.Timer(partial(mergesort.mergesort,arr)).repeat(repeat=1, number=1))\n"
   ]
  },
  {
   "cell_type": "code",
   "execution_count": null,
   "metadata": {
    "collapsed": true
   },
   "outputs": [],
   "source": []
  }
 ],
 "metadata": {
  "kernelspec": {
   "display_name": "Python 2",
   "language": "python",
   "name": "python2"
  },
  "language_info": {
   "codemirror_mode": {
    "name": "ipython",
    "version": 2
   },
   "file_extension": ".py",
   "mimetype": "text/x-python",
   "name": "python",
   "nbconvert_exporter": "python",
   "pygments_lexer": "ipython2",
   "version": "2.7.11"
  }
 },
 "nbformat": 4,
 "nbformat_minor": 0
}
