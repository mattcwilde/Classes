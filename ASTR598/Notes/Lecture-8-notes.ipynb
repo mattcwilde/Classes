{
 "cells": [
  {
   "cell_type": "markdown",
   "metadata": {},
   "source": [
    "## Hash funcitons $\\rightarrow$ cryptography (not really)\n",
    "\n",
    "hash tables ( == associative arrays)\n",
    "\n",
    "$\\downarrow$\n",
    "\n",
    "\n",
    "\n",
    "spars multidimensional arrays, especially for higher dimensions\n",
    "\n",
    "memory $\\propto L^d$\n",
    "\n",
    "in python, have their own hash table: Dictionary\n",
    "    \n",
    "    telephone = {}\n",
    "    telephone['tom'] = 123\n",
    "    telephone['john'] = ussb\n",
    "\n",
    "\n",
    "When downloading software, downloads come with hashcodes md5, sha-1 \n",
    "\n",
    "    md5sum myprogram.tar\n",
    "    sha1sum myprogram.tar\n",
    "    \n",
    "Use them when using git\n",
    "\n",
    "In python, can use built in package, but for scientific computing want to make your own, maybe not cryptographically secure but good enough"
   ]
  },
  {
   "cell_type": "code",
   "execution_count": 2,
   "metadata": {
    "collapsed": true
   },
   "outputs": [],
   "source": [
    "# built in package\n",
    "import hashlib"
   ]
  },
  {
   "cell_type": "markdown",
   "metadata": {},
   "source": [
    "### hash funciton\n",
    "h(x) --> (map)--> fixed lenght data eg 16 character string\n",
    "\n",
    "    if (x != y) then h(x) != h(y)\n",
    "    if (h(x) == h(y)) then very likely that x == y\n",
    "where x and y could be `.c` files\n",
    "\n",
    "#### collision:\n",
    "    h(x) == h(y)\n",
    "But \n",
    "    \n",
    "    `x != y`\n",
    "\n",
    "#### making a hash table:\n",
    "    key = (x1, x2, x3, x4) --> int\n",
    "    \n",
    "if this is an multi-dim array $\\rightarrow L^4 \\rightarrow 200^4$\n",
    "\n",
    "use key to get an integer, and map to an index in a table\n",
    "\n",
    "if my `int > tablesize`, can use \n",
    "\n",
    "`mod tablesize`\n",
    "\n",
    "but then can have two values mapping to same index. so we **use a linked list to resolve collisions.**\n",
    "\n",
    "\n",
    "[]\n",
    "\n",
    "[]\n",
    "\n",
    "[]\n",
    "\n",
    "[]\n",
    "\n",
    "[] -> [] -> [] -> [] (linked list) where [] == [key, data]\n",
    "\n",
    "[]\n",
    "\n",
    "[]\n",
    "\n",
    "\n",
    "\n",
    "use much less memory than a multidimensional array. but how big do we make `tablesize`?\n",
    "\n",
    "Large enough to not have too many collisions see: http://mnras.oxfordjournals.org/content/439/1/644\n",
    "\n",
    "Hash table insert and lookup are $O(1)$\n",
    "\n",
    "`tablesize` should be prime number\n"
   ]
  },
  {
   "cell_type": "markdown",
   "metadata": {},
   "source": [
    "### Make a hash code:"
   ]
  },
  {
   "cell_type": "code",
   "execution_count": 3,
   "metadata": {
    "collapsed": true
   },
   "outputs": [],
   "source": [
    "import math"
   ]
  },
  {
   "cell_type": "code",
   "execution_count": 8,
   "metadata": {
    "collapsed": false
   },
   "outputs": [],
   "source": [
    "def hash_code():\n",
    "    \"\"\" Key prime is the least prime greater than 100 (or the largest dimensional array)\n",
    "        python will automatically make it type Long see math.factorial(1000)\n",
    "        this key then, is a base key_prime (in our case base101) integer.\n",
    "    \"\"\"\n",
    "    key_prime = 101\n",
    "    h = (x1 * key_prime * key_prime * key_prime \n",
    "        + x2 * key_prime * key_prime\n",
    "        + x3 * key_prime\n",
    "        + x4)\n",
    "    return h"
   ]
  },
  {
   "cell_type": "markdown",
   "metadata": {},
   "source": [
    "This is better than a multi-dim array like m[100][100][100][100] and we have m[1][2][3][6].\n",
    "\n",
    "to use this, would have something like:\n",
    "\n",
    "    put(key, value)\n",
    "    get(key) returns long int"
   ]
  },
  {
   "cell_type": "code",
   "execution_count": 14,
   "metadata": {
    "collapsed": false
   },
   "outputs": [
    {
     "ename": "SyntaxError",
     "evalue": "invalid syntax (<ipython-input-14-3324b476ad31>, line 25)",
     "output_type": "error",
     "traceback": [
      "\u001b[0;36m  File \u001b[0;32m\"<ipython-input-14-3324b476ad31>\"\u001b[0;36m, line \u001b[0;32m25\u001b[0m\n\u001b[0;31m    m[x1][x2[x3][x4] = v\u001b[0m\n\u001b[0m                     ^\u001b[0m\n\u001b[0;31mSyntaxError\u001b[0m\u001b[0;31m:\u001b[0m invalid syntax\n"
     ]
    }
   ],
   "source": [
    "def boolean_equal(k1, k2):\n",
    "    if k1.x1 == k2.x2:\n",
    "        # ...\n",
    "        \n",
    "        return True\n",
    "        \n",
    "class Key(object):\n",
    "    def __init__(self, x1, x2, x3, x4):\n",
    "        self.x1 = x1\n",
    "        self.x2 = x2\n",
    "        self.x3 = x3\n",
    "        self.x4 = x4\n",
    "        \n",
    "        \n",
    "class Value(object):\n",
    "    def __init__(self, r):\n",
    "        self.r = r\n",
    "    \n",
    "class Node(object):\n",
    "    def __init__(self, k, v, nxt):\n",
    "        # ...\n",
    "        pass\n",
    "\n",
    "def put(k, v):\n",
    "    m[x1][x2[x3][x4] = v\n",
    "\n",
    "def get(k):\n",
    "    # move through the linked list to find your key"
   ]
  },
  {
   "cell_type": "code",
   "execution_count": null,
   "metadata": {
    "collapsed": true
   },
   "outputs": [],
   "source": []
  }
 ],
 "metadata": {
  "kernelspec": {
   "display_name": "Python 2",
   "language": "python",
   "name": "python2"
  },
  "language_info": {
   "codemirror_mode": {
    "name": "ipython",
    "version": 2
   },
   "file_extension": ".py",
   "mimetype": "text/x-python",
   "name": "python",
   "nbconvert_exporter": "python",
   "pygments_lexer": "ipython2",
   "version": "2.7.11"
  }
 },
 "nbformat": 4,
 "nbformat_minor": 0
}
