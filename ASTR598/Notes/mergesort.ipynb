{
 "cells": [
  {
   "cell_type": "markdown",
   "metadata": {},
   "source": [
    "## Two different mergesort algorithms.\n",
    "\n",
    "The key feature is allocating an array in mergesort() not merge() so it only allocates once. Otherwise exceedingly slow. \n",
    "\n",
    "Can do this in two ways. \n",
    "\n",
    "1) Make aux a global variable using the `global` command\n",
    " \n",
    "2) Make global in mergesort and pass it to each command\n"
   ]
  },
  {
   "cell_type": "code",
   "execution_count": 43,
   "metadata": {
    "collapsed": true
   },
   "outputs": [],
   "source": [
    "import numpy as np"
   ]
  },
  {
   "cell_type": "markdown",
   "metadata": {},
   "source": [
    "#### 2) pass aux through all functions "
   ]
  },
  {
   "cell_type": "code",
   "execution_count": 37,
   "metadata": {
    "collapsed": true
   },
   "outputs": [],
   "source": [
    "def sort(a, lo, hi, aux):\n",
    "    # base case of recursion to end recursion\n",
    "    if (hi <= lo):\n",
    "        return\n",
    "\n",
    "    #      low        mid        hi\n",
    "    # []   []   []   []    []    []    []\n",
    "    mid = lo + (hi - lo)/2\n",
    "\n",
    "    # calling a function in a definition of that function\n",
    "    # this is what recursion is\n",
    "\n",
    "    # DIVIDE and CONQUER!!!!!\n",
    "    # sort left half\n",
    "\n",
    "    # if the parameters were equal to the initial parameters it would run forever\n",
    "    sort(a, lo, mid, aux) \n",
    "\n",
    "    # sort right half\n",
    "    sort(a, mid+1, hi, aux) \n",
    "\n",
    "    #now merge the two sorted halfs\n",
    "    merge(a, lo, mid, hi, aux)\n",
    "\n",
    "\n",
    "def merge(a, lo, mid, hi, aux):\n",
    "    i = lo\n",
    "    j = mid + 1\n",
    "\n",
    "    # make a copy\n",
    "    #aux = [0]*len(a)\n",
    "    aux[lo:hi+1] = a[lo:hi+1]\n",
    "\n",
    "    k = lo\n",
    "    while (k <= hi):\n",
    "        while((i <= mid) and (j <= hi)):\n",
    "\n",
    "            if(aux[j] < aux[i]):\n",
    "                #pick the smaller one\n",
    "                a[k] = aux[j]\n",
    "                k = k + 1\n",
    "                j = j + 1\n",
    "            else:\n",
    "                a[k] = aux[i]\n",
    "                i = i + 1 \n",
    "                k = k + 1 \n",
    "\n",
    "        # Now either i > mid or j > hi\n",
    "        # so only one of the below loops will run\n",
    "        while(i <= mid):\n",
    "            a[k] = aux[i]\n",
    "            i = i + 1\n",
    "            k = k + 1 \n",
    "        while(j <= hi):\n",
    "            a[k] = aux[j]\n",
    "            j = j + 1\n",
    "            k = k + 1\n",
    "    return a  \n",
    "\n",
    "def mergesort(a):\n",
    "    aux = [0]*len(a)\n",
    "    # overloading funciton ok since takes a different amount of input\n",
    "    # signature of function is different so computer names them differently\n",
    "    sort(a, 0, len(a)-1, aux)\n",
    "    return a"
   ]
  },
  {
   "cell_type": "code",
   "execution_count": 39,
   "metadata": {
    "collapsed": true
   },
   "outputs": [],
   "source": [
    "a = [1,3,5,7]\n",
    "b = [2,4,6,8]\n",
    "c = a + b"
   ]
  },
  {
   "cell_type": "code",
   "execution_count": 41,
   "metadata": {
    "collapsed": false
   },
   "outputs": [
    {
     "name": "stdout",
     "output_type": "stream",
     "text": [
      "[1, 3, 5, 7, 2, 4, 6, 8]\n"
     ]
    }
   ],
   "source": [
    "print(c)"
   ]
  },
  {
   "cell_type": "code",
   "execution_count": 42,
   "metadata": {
    "collapsed": false
   },
   "outputs": [
    {
     "data": {
      "text/plain": [
       "[1, 2, 3, 4, 5, 6, 7, 8]"
      ]
     },
     "execution_count": 42,
     "metadata": {},
     "output_type": "execute_result"
    }
   ],
   "source": [
    "mergesort(c)"
   ]
  },
  {
   "cell_type": "markdown",
   "metadata": {},
   "source": [
    "## 1) use global for aux creation. broken at the moment."
   ]
  },
  {
   "cell_type": "code",
   "execution_count": 44,
   "metadata": {
    "collapsed": true
   },
   "outputs": [],
   "source": [
    "def sort(a, lo, hi):\n",
    "    # base case of recursion to end recursion\n",
    "    if (hi <= lo):\n",
    "        return\n",
    "\n",
    "    #      low        mid        hi\n",
    "    # []   []   []   []    []    []    []\n",
    "    mid = lo + (hi - lo)/2\n",
    "\n",
    "    # calling a function in a definition of that function\n",
    "    # this is what recursion is\n",
    "\n",
    "    # DIVIDE and CONQUER!!!!!\n",
    "    # sort left half\n",
    "\n",
    "    # if the parameters were equal to the initial parameters it would run forever\n",
    "    sort(a, lo, mid) \n",
    "\n",
    "    # sort right half\n",
    "    sort(a, mid+1, hi) \n",
    "\n",
    "    #now merge the two sorted halfs\n",
    "    merge(a, lo, mid, hi)\n",
    "\n",
    "\n",
    "def merge(a, lo, mid, hi):\n",
    "    i = lo\n",
    "    j = mid + 1\n",
    "\n",
    "    # make a copy\n",
    "    #aux = a[:]\n",
    "    #aux[lo:hi+1] = a[lo:hi+1]\n",
    "\n",
    "    k = lo\n",
    "    while (k <= hi):\n",
    "        while((i <= mid) and (j <= hi)):\n",
    "\n",
    "            if(aux[j] < aux[i]):\n",
    "                #pick the smaller one\n",
    "                a[k] = aux[j]\n",
    "                k = k + 1\n",
    "                j = j + 1\n",
    "            else:\n",
    "                a[k] = aux[i]\n",
    "                i = i + 1 \n",
    "                k = k + 1 \n",
    "\n",
    "        # Now either i > mid or j > hi\n",
    "        # so only one of the below loops will run\n",
    "        while(i <= mid):\n",
    "            a[k] = aux[i]\n",
    "            i = i + 1\n",
    "            k = k + 1 \n",
    "        while(j <= hi):\n",
    "            a[k] = aux[j]\n",
    "            j = j + 1\n",
    "            k = k + 1\n",
    "    return a  \n",
    "\n",
    "def mergesort(a):\n",
    "    global aux\n",
    "    aux = a[:]\n",
    "    #aux = np.copy(a)\n",
    "    # overloading funciton ok since takes a different amount of input\n",
    "    # signature of function is different so computer names them differently\n",
    "    sort(a, 0, len(a)-1)\n",
    "    return a"
   ]
  },
  {
   "cell_type": "code",
   "execution_count": 45,
   "metadata": {
    "collapsed": false
   },
   "outputs": [
    {
     "name": "stdout",
     "output_type": "stream",
     "text": [
      "[ 9  9 31 38 77 94  6 19  0 10 74 46 86 30 93 96 66 22 15 33 43 65 90 55 95\n",
      " 73  5 60 46 21 68 67  9  3 79 29 49  2 10  4 70  7 38  0 48 23 88 52  4 74\n",
      " 74 20 38 24 18 87 70 97 30 89 74 19 55  8 86 79 19 45 39 67 64 15 99 46 34\n",
      " 84 29 20 67 87 51  0 51 77 77  0 84 65 91 25  0 54 91 37 90 26 49 14 46 48]\n",
      "[ 0  0  0  0  0  0  0  0  0  0  0  0  0  0  0  0  0  0  0  0  0  0  0  0  0\n",
      "  0  0  0  0  0  0  0  0  0  0  0  0  0  0  0  0  0  0  0  0  0  0  0  0  0\n",
      "  0  0  0  0  0  0  0  0  0  0  0  0  0  0  0  0  0  0  0  0  0  0  0  0  0\n",
      "  0  0  0  0  0  0  0  0  0  0  0  0  0  0  0  0 14 14 14 14 14 14 14 46 48]\n"
     ]
    }
   ],
   "source": [
    "a = np.random.randint(0,100,100)\n",
    "print(a)\n",
    "print(mergesort(a))"
   ]
  },
  {
   "cell_type": "code",
   "execution_count": 33,
   "metadata": {
    "collapsed": true
   },
   "outputs": [],
   "source": [
    "N = [100,10000,1000000,100000000]"
   ]
  },
  {
   "cell_type": "code",
   "execution_count": 70,
   "metadata": {
    "collapsed": true
   },
   "outputs": [],
   "source": []
  },
  {
   "cell_type": "code",
   "execution_count": 71,
   "metadata": {
    "collapsed": false
   },
   "outputs": [
    {
     "data": {
      "text/plain": [
       "True"
      ]
     },
     "execution_count": 71,
     "metadata": {},
     "output_type": "execute_result"
    }
   ],
   "source": [
    "n == N"
   ]
  },
  {
   "cell_type": "code",
   "execution_count": 24,
   "metadata": {
    "collapsed": false
   },
   "outputs": [
    {
     "name": "stdout",
     "output_type": "stream",
     "text": [
      "10000 0.10779039065 seconds\n"
     ]
    }
   ],
   "source": [
    "from __future__ import print_function\n",
    "from functools import partial\n",
    "\n",
    "import numpy as np\n",
    "import timeit\n",
    "\n",
    "n = [int(1e2), int(1e4), int(1e6), int(1e8)]\n",
    "n = int(1e4)\n",
    "# N = [10,20,30,40]\n",
    "time = np.zeros(len(N))\n",
    "\n",
    "\n",
    "arr = np.random.randint(low=0, high=n, size=n)\n",
    "ave_t = np.mean(timeit.Timer(partial(mergesort,arr)).repeat(repeat=3, number=1))\n",
    "print(n, ave_t, 'seconds')"
   ]
  },
  {
   "cell_type": "code",
   "execution_count": 9,
   "metadata": {
    "collapsed": false
   },
   "outputs": [
    {
     "data": {
      "text/plain": [
       "1000000"
      ]
     },
     "execution_count": 9,
     "metadata": {},
     "output_type": "execute_result"
    }
   ],
   "source": [
    "len(arr)"
   ]
  },
  {
   "cell_type": "code",
   "execution_count": null,
   "metadata": {
    "collapsed": true
   },
   "outputs": [],
   "source": []
  }
 ],
 "metadata": {
  "kernelspec": {
   "display_name": "Python 2",
   "language": "python",
   "name": "python2"
  },
  "language_info": {
   "codemirror_mode": {
    "name": "ipython",
    "version": 2
   },
   "file_extension": ".py",
   "mimetype": "text/x-python",
   "name": "python",
   "nbconvert_exporter": "python",
   "pygments_lexer": "ipython2",
   "version": "2.7.11"
  }
 },
 "nbformat": 4,
 "nbformat_minor": 0
}
