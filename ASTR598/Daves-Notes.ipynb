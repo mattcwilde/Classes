{
 "cells": [
  {
   "cell_type": "markdown",
   "metadata": {},
   "source": [
    "* General Notes: \n",
    "    * qsub -I -q build (if you belong to a heavy-use queue and need a bit of time to test python code)\n",
    "    * wiki.hyak.uw.edu for hyak wiki\n",
    "\n",
    "* Data structures, algorithms\n",
    "    * Data struture: way to organize your data\n",
    "        * Linked list, array, etc\n",
    "    * Algorithm : How you operate on your data structures \n",
    "        * Sorting arrays (merge sort quick sort, heap sort, selection sort)\n",
    "        * Efficiency (O(n^p)) is important...specifically asymptotic behavior (N->huge)\n",
    "            * Ex: merge sort is O(NlogN), selection sort is O(N^2)\n",
    "    * ADT: Abstract Data Type\n",
    "        * Good to limit scope of object... specific tool for specific job\n",
    "        * API (Application Programming Interface): behavior for each object, don't care how its implimented\n",
    "        \n",
    "* Stacks\n",
    "    * void push(int i)\n",
    "        * put i on the top of stack\n",
    "    * int pop(int i)\n",
    "            \n",
    "    * Ex: bottom [][][][][][][] top\n",
    "        * push(10), push(2)\n",
    "        * bottom [10][20][][][][][] top\n",
    "        * x = pop()\n",
    "        * x = 20\n",
    "        * bottom [10][][][][][][] top\n",
    "    * size() gives # of elements in stack\n",
    "    * top() returns top value without removing it\n",
    "    * isEmpty() tells if stack has nothing\n",
    "    * Can be implimented as a linked list or an array\n",
    "    \n",
    "* Stack example: see if (,) are balanced (like in text editors)\n",
    "    * (()(())) -> push to the stack subject to the code for each character c\n",
    "        * if(c == \")\"): stack.pop()\n",
    "    * [(][(], encounted a \")\", then pop to get [(]\n",
    "    * Continue throug string and check isEmpty at end.  If True, (,) are balanced!"
   ]
  },
  {
   "cell_type": "code",
   "execution_count": null,
   "metadata": {
    "collapsed": true
   },
   "outputs": [],
   "source": []
  }
 ],
 "metadata": {
  "kernelspec": {
   "display_name": "Python 2",
   "language": "python",
   "name": "python2"
  },
  "language_info": {
   "codemirror_mode": {
    "name": "ipython",
    "version": 2
   },
   "file_extension": ".py",
   "mimetype": "text/x-python",
   "name": "python",
   "nbconvert_exporter": "python",
   "pygments_lexer": "ipython2",
   "version": "2.7.11"
  }
 },
 "nbformat": 4,
 "nbformat_minor": 0
}
