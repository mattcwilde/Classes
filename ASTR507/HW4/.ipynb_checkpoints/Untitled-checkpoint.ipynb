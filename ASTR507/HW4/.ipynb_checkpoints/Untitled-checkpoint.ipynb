{
 "cells": [
  {
   "cell_type": "code",
   "execution_count": 1,
   "metadata": {
    "collapsed": false
   },
   "outputs": [
    {
     "name": "stderr",
     "output_type": "stream",
     "text": [
      "/Users/mattwilde/anaconda/lib/python2.7/site-packages/IPython/kernel/__init__.py:13: ShimWarning: The `IPython.kernel` package has been deprecated. You should import from ipykernel or jupyter_client instead.\n",
      "  \"You should import from ipykernel or jupyter_client instead.\", ShimWarning)\n"
     ]
    }
   ],
   "source": [
    "%matplotlib inline\n",
    "from __future__ import division\n",
    "from astropy import constants as const\n",
    "# from astropy import units as u\n",
    "import numpy as np\n",
    "import matplotlib.pyplot as plt\n",
    "from numba import jit\n",
    "plt.rc('font', family='serif', size=15)"
   ]
  },
  {
   "cell_type": "code",
   "execution_count": 2,
   "metadata": {
    "collapsed": true
   },
   "outputs": [],
   "source": [
    "# universal constants\n",
    "G = const.G.cgs.value\n",
    "m_p = const.m_p.cgs.value\n",
    "M_sun = const.M_sun.cgs.value\n",
    "R_sun = const.R_sun.cgs.value\n",
    "c = const.c.cgs.value\n",
    "h = const.h.cgs.value\n",
    "\n",
    "FPS = np.array([6.22, 6.121, 0.006004, 0.16345, 6.50, 11.8440, 17.24, 1.065,\n",
    "      6.54, 11.8421, -22.003, 1.5552, 9.3, 14.19, 23.73, -1.508, 1.79,\n",
    "       15.13], dtype=float)\n",
    "SLy = np.array([6.22, 6.121, 0.005925, 0.16326, 6.48, 11.4971, 19.105, 0.8928,\n",
    "      6.54, 11.4950, -22.775, 1.5707, 4.3, 14.08, 27.80, -1.653, 1.50, \n",
    "       14.67], dtype=float)\n",
    "d = {'FPS':FPS, 'SLy':SLy}\n",
    "\n",
    "@jit\n",
    "def f0(x):\n",
    "    \"\"\"eq. 13\"\"\"\n",
    "    f = 1 / (np.exp(x) + 1)\n",
    "    return f\n",
    "\n",
    "@jit\n",
    "def EOS(rho,arg):\n",
    "    \"\"\" eq. 14\n",
    "        Takes in rho, model and gives P(rho)\n",
    "    \"\"\"\n",
    "    xi = np.log10(rho)\n",
    "    if not type(arg) == str:\n",
    "        print \"FPS or SLy not a string\"\n",
    "    zeta = ((d[arg][0] + d[arg][1]*xi + d[arg][2]*xi**3) / (1 + d[arg][3]*xi))*f0(d[arg][4]*(xi - d[arg][5]))\n",
    "    zeta += (d[arg][6] + d[arg][7]*xi)*f0(d[arg][8]*(d[arg][9] - xi))\n",
    "    zeta += (d[arg][10] + d[arg][11]*xi)*f0(d[arg][12]*(d[arg][13] - xi))\n",
    "    zeta += (d[arg][14] + d[arg][15]*xi)*f0(d[arg][16]*(d[arg][17] - xi))\n",
    "    return 10**zeta # P = EOS(rho, model)\n",
    "\n",
    "@jit\n",
    "def dPdrho(rho,P,arg):\n",
    "    \"\"\"eq. 19\n",
    "    \n",
    "    This function takes in (rho, P,'FPS' or 'SLy'). \n",
    "    It returns dP/drho = (P/rho) * dzeta/dxi\n",
    "    \"\"\"\n",
    "    \n",
    "    xi = np.log10(rho)\n",
    "    z = ((d[arg][1] - d[arg][0]*d[arg][3]*xi**2 + 2*d[arg][2]*d[arg][3]*xi**3) / (1 + d[arg][3]*xi)**2\n",
    "         -(d[arg][4]*(d[arg][0] + d[arg][1]*xi + \n",
    "                      d[arg][2]*xi**3) / (1 + \n",
    "                                          d[arg][3]*xi)*f0(d[arg][4]*(d[arg][5] - \n",
    "                                                                      xi))))*(f0(d[arg][4]*(xi - \n",
    "                                                                                            d[arg][5])))\n",
    "    s = 0.\n",
    "    for i in range(1,4):\n",
    "        bracket2 = (d[arg][4*(i+1)-1] + d[arg][(4*(i+1)+1)-1]*(d[arg][(4*(i+1)-1)-1] + d[arg][(4*(i+1))-1] * xi)\n",
    "                   *f0(d[arg][(4*(i+1)+1)-1]*(xi - d[arg][(4*(i+1)+2)-1])))\n",
    "        s += f0(d[arg][(4*(i+1)+1)-1]*(d[arg][(4*(i+1)+2)-1] - xi))*bracket2\n",
    "        \n",
    "    dzdx = z + s\n",
    "    return (P/rho)*dzdx # dP/drho\n",
    "\n",
    "@jit\n",
    "def dPdr(rho, P, r, M):\n",
    "    \"\"\" TOV equation. \n",
    "        Takes in (rho, P, r, M)\n",
    "    \"\"\"\n",
    "    bracket1 = rho + P/c**2\n",
    "    bracket2 = M + 4*np.pi*(r**3)*(P/c**2)\n",
    "    bracket3 = (1 - (2*G*M)/(r*(c**2)))**(-1)\n",
    "    dPdr = (-G/r**2) * bracket1*bracket2*bracket3\n",
    "    return dPdr\n",
    "\n",
    "@jit\n",
    "def drhodr(rho, P, r, M, arg):\n",
    "    \"\"\" drho/dr\n",
    "    \"\"\"\n",
    "    \n",
    "    return dPdr(rho, P, r, M) / dPdrho(rho, P, arg)\n",
    "    \n",
    "@jit\n",
    "def dM(rho,r,dr):\n",
    "    \"\"\"M(<r)\"\"\"\n",
    "    \n",
    "    dm = 4*np.pi*(r**2)*rho*dr\n",
    "    return dm\n"
   ]
  },
  {
   "cell_type": "code",
   "execution_count": 20,
   "metadata": {
    "collapsed": false
   },
   "outputs": [],
   "source": [
    "# initialize lists\n",
    "size = int(1e6)\n",
    "rho_list = np.zeros(size+1, dtype=float)\n",
    "P_list = np.zeros(size+1, dtype=float)\n",
    "m_list = np.zeros(size+1, dtype=float)\n",
    "r_list = np.zeros(size+1, dtype=float)\n",
    "dPdrho_list = np.zeros(size+1, dtype=float)\n",
    "\n",
    "# step size\n",
    "dr = 100.0 # cm\n",
    "\n",
    "@jit\n",
    "def NS_Profile(rho_c, arg):\n",
    "    \"\"\" A function to step integrate the equations governing the NS stepping out in radius each step. \n",
    "    \n",
    "    input: central density and model name.\n",
    "    \n",
    "    output: lists of each variable\n",
    "    \"\"\"\n",
    "    \n",
    "    # central starting values\n",
    "    r = dr # cm\n",
    "    rho = rho_c # density in g/cc\n",
    "    m = dM(rho, r, dr) # mass in g\n",
    "    P = EOS(rho, arg) # Pressure in dynes/cm2\n",
    "    i = int(0)\n",
    "    \n",
    "    # add these values to list to keep track\n",
    "    rho_list[0] = rho\n",
    "    P_list[0] = P\n",
    "    m_list[0] = m\n",
    "    r_list[0] = r\n",
    "\n",
    "    # while rho > rhoc*0.005:\n",
    "    while rho > 0:\n",
    "        # update density\n",
    "        rho = drhodr(rho, P, r, m, arg)*dr + rho\n",
    "        rho_list[i+1] = rho\n",
    "\n",
    "        # update mass\n",
    "        m = dM(rho, r, dr) + m\n",
    "        m_list[i+1] = m\n",
    "\n",
    "        # update pressure\n",
    "        P = EOS(rho, arg)\n",
    "        P_list[i+1] = P\n",
    "\n",
    "        # update dP/drho\n",
    "        dPdrho_list[i+1] = dPdrho(rho, P, arg)\n",
    "\n",
    "        # advance r\n",
    "        r = r + dr\n",
    "        r_list[i+1] = r\n",
    "\n",
    "        # advance i\n",
    "        i = i + 1\n",
    "\n",
    "    return rho_list, P_list, m_list, r_list, dPdrho_list, i \n",
    "    # print i, rho, m/M_sun, P, r/1e5"
   ]
  },
  {
   "cell_type": "code",
   "execution_count": 18,
   "metadata": {
    "collapsed": false
   },
   "outputs": [
    {
     "name": "stderr",
     "output_type": "stream",
     "text": [
      "/Users/mattwilde/anaconda/lib/python2.7/site-packages/numba/dataflow.py:284: RuntimeWarning: Python2 style print partially supported.  Please use Python3 style print.\n",
      "  \"Python3 style print.\", RuntimeWarning)\n"
     ]
    },
    {
     "ename": "IndexError",
     "evalue": "index 4 is out of bounds for axis 0 with size 4",
     "output_type": "error",
     "traceback": [
      "\u001b[0;31m---------------------------------------------------------------------------\u001b[0m",
      "\u001b[0;31mIndexError\u001b[0m                                Traceback (most recent call last)",
      "\u001b[0;32m<ipython-input-18-727ffe765619>\u001b[0m in \u001b[0;36m<module>\u001b[0;34m()\u001b[0m\n\u001b[1;32m     23\u001b[0m             \u001b[0mFPS_max_m\u001b[0m\u001b[0;34m[\u001b[0m\u001b[0mj\u001b[0m\u001b[0;34m]\u001b[0m \u001b[0;34m=\u001b[0m \u001b[0mm_list\u001b[0m\u001b[0;34m.\u001b[0m\u001b[0mmax\u001b[0m\u001b[0;34m(\u001b[0m\u001b[0;34m)\u001b[0m\u001b[0;34m\u001b[0m\u001b[0m\n\u001b[1;32m     24\u001b[0m         \u001b[0;32mif\u001b[0m \u001b[0mmodel\u001b[0m \u001b[0;34m==\u001b[0m \u001b[0;34m'SLy'\u001b[0m\u001b[0;34m:\u001b[0m\u001b[0;34m\u001b[0m\u001b[0m\n\u001b[0;32m---> 25\u001b[0;31m             \u001b[0mNS_Profile\u001b[0m\u001b[0;34m(\u001b[0m\u001b[0mrho_i\u001b[0m\u001b[0;34m,\u001b[0m \u001b[0mmodel\u001b[0m\u001b[0;34m)\u001b[0m\u001b[0;34m\u001b[0m\u001b[0m\n\u001b[0m\u001b[1;32m     26\u001b[0m             \u001b[0mSLy_max_m\u001b[0m\u001b[0;34m[\u001b[0m\u001b[0mj\u001b[0m\u001b[0;34m]\u001b[0m \u001b[0;34m=\u001b[0m \u001b[0mm_list\u001b[0m\u001b[0;34m.\u001b[0m\u001b[0mmax\u001b[0m\u001b[0;34m(\u001b[0m\u001b[0;34m)\u001b[0m\u001b[0;34m\u001b[0m\u001b[0m\n",
      "\u001b[0;31mIndexError\u001b[0m: index 4 is out of bounds for axis 0 with size 4"
     ]
    }
   ],
   "source": [
    "num_of_rhos = 20\n",
    "rho_c_list = np.logspace(np.log10(np.log10(2.5e14)), np.log10(np.log10(2e16)), num_of_rhos)\n",
    "'''\n",
    "FPS_different_rhoc_m = np.zeros([num_of_rhos, size], dtype=float)\n",
    "FPS_different_rhoc_rho = np.zeros([num_of_rhos, size], dtype=float)\n",
    "FPS_different_rhoc_P = np.zeros([num_of_rhos, size], dtype=float)\n",
    "FPS_different_rhoc_r = np.zeros([num_of_rhos, size], dtype=float)\n",
    "FPS_different_rhoc_dPdrho = np.zeros([num_of_rhos, size], dtype=float)\n",
    "\n",
    "SLy_different_rhoc_m = np.zeros([num_of_rhos, size], dtype=float)\n",
    "SLy_different_rhoc_rho = np.zeros([num_of_rhos, size], dtype=float)\n",
    "SLy_different_rhoc_P = np.zeros([num_of_rhos, size], dtype=float)\n",
    "SLy_different_rhoc_r = np.zeros([num_of_rhos, size], dtype=float)\n",
    "SLy_different_rhoc_dPdrho = np.zeros([num_of_rhos, size], dtype=float)\n",
    "'''\n",
    "\n",
    "FPS_max_m = np.zeros(num_of_rhos, dtype=float)\n",
    "SLy_max_m = np.zeros(num_of_rhos, dtype=float)\n",
    "for j,rho_i in enumerate(rho_c_list):\n",
    "    for model in d.keys():\n",
    "        if model == 'FPS':\n",
    "            NS_Profile(rho_i, model)           \n",
    "            FPS_max_m[j] = m_list.max()\n",
    "        if model == 'SLy':\n",
    "            NS_Profile(rho_i, model)       \n",
    "            SLy_max_m[j] = m_list.max()"
   ]
  },
  {
   "cell_type": "code",
   "execution_count": 13,
   "metadata": {
    "collapsed": false
   },
   "outputs": [],
   "source": [
    "num_of_rhos = 20\n",
    "rho_c_list = np.logspace(np.log10(np.log10(2.5e14)), np.log10(np.log10(2e16)), num_of_rhos)"
   ]
  },
  {
   "cell_type": "code",
   "execution_count": 14,
   "metadata": {
    "collapsed": false
   },
   "outputs": [],
   "source": [
    "FPS_different_rhoc_m = np.zeros([size,num_of_rhos], dtype=float)"
   ]
  },
  {
   "cell_type": "code",
   "execution_count": 17,
   "metadata": {
    "collapsed": false
   },
   "outputs": [
    {
     "data": {
      "text/plain": [
       "4"
      ]
     },
     "execution_count": 17,
     "metadata": {},
     "output_type": "execute_result"
    }
   ],
   "source": [
    "m_list = np.array([0,1,4,-10])\n",
    "m_list.max()"
   ]
  },
  {
   "cell_type": "code",
   "execution_count": null,
   "metadata": {
    "collapsed": true
   },
   "outputs": [],
   "source": []
  }
 ],
 "metadata": {
  "kernelspec": {
   "display_name": "Python 2",
   "language": "python",
   "name": "python2"
  },
  "language_info": {
   "codemirror_mode": {
    "name": "ipython",
    "version": 2
   },
   "file_extension": ".py",
   "mimetype": "text/x-python",
   "name": "python",
   "nbconvert_exporter": "python",
   "pygments_lexer": "ipython2",
   "version": "2.7.10"
  }
 },
 "nbformat": 4,
 "nbformat_minor": 0
}
