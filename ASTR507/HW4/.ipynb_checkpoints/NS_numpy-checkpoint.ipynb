{
 "cells": [
  {
   "cell_type": "code",
   "execution_count": 10,
   "metadata": {
    "collapsed": false
   },
   "outputs": [],
   "source": [
    "%matplotlib inline\n",
    "from __future__ import division\n",
    "from astropy import constants as const\n",
    "# from astropy import units as u\n",
    "import numpy as np\n",
    "import matplotlib.pyplot as plt\n",
    "plt.rc('font', family='serif', size=15)\n",
    "from numba import jit"
   ]
  },
  {
   "cell_type": "code",
   "execution_count": 18,
   "metadata": {
    "collapsed": false
   },
   "outputs": [],
   "source": [
    "# universal constants\n",
    "G = const.G.cgs.value\n",
    "m_p = const.m_p.cgs.value\n",
    "M_sun = const.M_sun.cgs.value\n",
    "R_sun = const.R_sun.cgs.value\n",
    "c = const.c.cgs.value\n",
    "h = const.h.cgs.value\n",
    "\n",
    "FPS = np.array([6.22, 6.121, 0.006004, 0.16345, 6.50, 11.8440, 17.24, 1.065,\n",
    "      6.54, 11.8421, -22.003, 1.5552, 9.3, 14.19, 23.73, -1.508, 1.79,\n",
    "       15.13], dtype=float)\n",
    "SLy = np.array([6.22, 6.121, 0.005925, 0.16326, 6.48, 11.4971, 19.105, 0.8928,\n",
    "      6.54, 11.4950, -22.775, 1.5707, 4.3, 14.08, 27.80, -1.653, 1.50, \n",
    "       14.67], dtype=float)\n",
    "d = {'FPS':FPS, 'SLy':SLy}\n",
    "\n",
    "@jit\n",
    "def f0(x):\n",
    "    \"\"\"eq. 13\"\"\"\n",
    "    f = 1 / (np.exp(x) + 1)\n",
    "    return f\n",
    "\n",
    "@jit\n",
    "def EOS(rho,arg):\n",
    "    \"\"\" eq. 14\n",
    "        Takes in rho, model and gives P(rho)\n",
    "    \"\"\"\n",
    "    xi = np.log10(rho)\n",
    "    if not type(arg) == str:\n",
    "        print \"FPS or SLy not a string\"\n",
    "    zeta = ((d[arg][0] + d[arg][1]*xi + d[arg][2]*xi**3) / (1 + d[arg][3]*xi))*f0(d[arg][4]*(xi - d[arg][5]))\n",
    "    zeta += (d[arg][6] + d[arg][7]*xi)*f0(d[arg][8]*(d[arg][9] - xi))\n",
    "    zeta += (d[arg][10] + d[arg][11]*xi)*f0(d[arg][12]*(d[arg][13] - xi))\n",
    "    zeta += (d[arg][14] + d[arg][15]*xi)*f0(d[arg][16]*(d[arg][17] - xi))\n",
    "    return 10**zeta # P = EOS(rho, model)\n",
    "\n",
    "@jit\n",
    "def dPdrho(rho,P,arg):\n",
    "    \"\"\"eq. 19\n",
    "    \n",
    "    This function takes in (rho, P,'FPS' or 'SLy'). \n",
    "    It returns dP/drho = (P/rho) * dzeta/dxi\n",
    "    \"\"\"\n",
    "    \n",
    "    xi = np.log10(rho)\n",
    "    z = ((d[arg][1] - d[arg][0]*d[arg][3]*xi**2 + 2*d[arg][2]*d[arg][3]*xi**3) / (1 + d[arg][3]*xi)**2\n",
    "         -(d[arg][4]*(d[arg][0] + d[arg][1]*xi + \n",
    "                      d[arg][2]*xi**3) / (1 + \n",
    "                                          d[arg][3]*xi)*f0(d[arg][4]*(d[arg][5] - \n",
    "                                                                      xi))))*(f0(d[arg][4]*(xi - \n",
    "                                                                                            d[arg][5])))\n",
    "    s = 0.\n",
    "    for i in range(1,4):\n",
    "        bracket2 = (d[arg][4*(i+1)-1] + d[arg][(4*(i+1)+1)-1]*(d[arg][(4*(i+1)-1)-1] + d[arg][(4*(i+1))-1] * xi)\n",
    "                   *f0(d[arg][(4*(i+1)+1)-1]*(xi - d[arg][(4*(i+1)+2)-1])))\n",
    "        s += f0(d[arg][(4*(i+1)+1)-1]*(d[arg][(4*(i+1)+2)-1] - xi))*bracket2\n",
    "        \n",
    "    dzdx = z + s\n",
    "    return (P/rho)*dzdx # dP/drho\n",
    "\n",
    "@jit\n",
    "def dPdr(rho, P, r, M):\n",
    "    \"\"\" TOV equation. \n",
    "        Takes in (rho, P, r, M)\n",
    "    \"\"\"\n",
    "    bracket1 = rho + P/c**2\n",
    "    bracket2 = M + 4*np.pi*(r**3)*(P/c**2)\n",
    "    bracket3 = (1 - (2*G*M)/(r*(c**2)))**(-1)\n",
    "    dPdr = (-G/r**2) * bracket1*bracket2*bracket3\n",
    "    return dPdr\n",
    "\n",
    "@jit\n",
    "def drhodr(rho, P, r, M, arg):\n",
    "    \"\"\" drho/dr\n",
    "    \"\"\"\n",
    "    \n",
    "    return dPdr(rho, P, r, M) / dPdrho(rho, P, arg)\n",
    "    \n",
    "@jit\n",
    "def dM(rho,r,dr):\n",
    "    \"\"\"M(<r)\"\"\"\n",
    "    \n",
    "    dm = 4*np.pi*(r**2)*rho*dr\n",
    "    return dm\n"
   ]
  },
  {
   "cell_type": "code",
   "execution_count": 4,
   "metadata": {
    "collapsed": false
   },
   "outputs": [],
   "source": [
    "# initialize lists\n",
    "size = int(2e5)\n",
    "rho_list = np.zeros(size+1, dtype=float)\n",
    "P_list = np.zeros(size+1, dtype=float)\n",
    "m_list = np.zeros(size+1, dtype=float)\n",
    "r_list = np.zeros(size+1, dtype=float)\n",
    "dPdrho_list = np.zeros(size+1, dtype=float)\n",
    "\n",
    "# step size\n",
    "dr = 100.0 # cm\n",
    "\n",
    "\n",
    "def NS_Profile(rho_c, arg):\n",
    "    \"\"\" A function to step integrate the equations governing the NS stepping out in radius each step. \n",
    "    \n",
    "    input: central density and model name.\n",
    "    \n",
    "    output: lists of each variable\n",
    "    \"\"\"\n",
    "    \n",
    "    # central starting values\n",
    "    r = dr # cm\n",
    "    rho = rho_c # density in g/cc\n",
    "    m = dM(rho, r, dr) # mass in g\n",
    "    P = EOS(rho, arg) # Pressure in dynes/cm2\n",
    "    i = int(0)\n",
    "    \n",
    "    # add these values to list to keep track\n",
    "    rho_list[0] = rho\n",
    "    P_list[0] = P\n",
    "    m_list[0] = m\n",
    "    r_list[0] = r\n",
    "    \n",
    "    if rho_list[i].size == size:\n",
    "        print(\"ran out of space. rho_list > size\")\n",
    "    \n",
    "    # while rho > rhoc*0.005:\n",
    "    while i+1 < size and rho > 0:\n",
    "        # update density\n",
    "        rho = drhodr(rho, P, r, m, arg)*dr + rho\n",
    "        rho_list[i+1] = rho\n",
    "\n",
    "        # update mass\n",
    "        m = dM(rho, r, dr) + m\n",
    "        m_list[i+1] = m\n",
    "\n",
    "        # update pressure\n",
    "        P = EOS(rho, arg)\n",
    "        P_list[i+1] = P\n",
    "\n",
    "        # update dP/drho\n",
    "        dPdrho_list[i+1] = dPdrho(rho, P, arg)\n",
    "\n",
    "        # advance r\n",
    "        r = r + dr\n",
    "        r_list[i+1] = r\n",
    "\n",
    "        # advance i\n",
    "        i = i + 1\n",
    "    \n",
    "    '''\n",
    "    # shrink arrays to be only as large as they need to be \n",
    "    rho_list = rho_list[np.where(r_list > 0)]\n",
    "    P_list = P_list[np.where(r_list > 0)]\n",
    "    m_list = m_list[np.where(r_list > 0)]\n",
    "    r_list = r_list[np.where(r_list > 0)]\n",
    "    dPdrho_list = dPdrho_list[np.where(r_list > 0)]\n",
    "    '''\n",
    "    return rho_list, P_list, m_list, r_list, dPdrho_list, i "
   ]
  },
  {
   "cell_type": "code",
   "execution_count": null,
   "metadata": {
    "collapsed": false
   },
   "outputs": [],
   "source": [
    "num_of_rhos = 10\n",
    "# rho_c_list = np.logspace(np.log10(np.log10(2.5e14)), np.log10(np.log10(2e16)), num_of_rhos)\n",
    "rho_c_list = np.linspace(2.5e14, 2e16, num_of_rhos)\n",
    "'''\n",
    "FPS_different_rhoc_m = np.zeros([num_of_rhos, size], dtype=float)\n",
    "FPS_different_rhoc_rho = np.zeros([num_of_rhos, size], dtype=float)\n",
    "FPS_different_rhoc_P = np.zeros([num_of_rhos, size], dtype=float)\n",
    "FPS_different_rhoc_r = np.zeros([num_of_rhos, size], dtype=float)\n",
    "FPS_different_rhoc_dPdrho = np.zeros([num_of_rhos, size], dtype=float)\n",
    "\n",
    "SLy_different_rhoc_m = np.zeros([num_of_rhos, size], dtype=float)\n",
    "SLy_different_rhoc_rho = np.zeros([num_of_rhos, size], dtype=float)\n",
    "SLy_different_rhoc_P = np.zeros([num_of_rhos, size], dtype=float)\n",
    "SLy_different_rhoc_r = np.zeros([num_of_rhos, size], dtype=float)\n",
    "SLy_different_rhoc_dPdrho = np.zeros([num_of_rhos, size], dtype=float)\n",
    "'''\n",
    "\n",
    "FPS_max_m = np.zeros(num_of_rhos, dtype=float)\n",
    "SLy_max_m = np.zeros(num_of_rhos, dtype=float)\n",
    "for j,rho_i in enumerate(rho_c_list):\n",
    "    for model in d.keys():\n",
    "        if model == 'FPS':\n",
    "            NS_Profile(rho_i, model)           \n",
    "            FPS_max_m[j] = m_list.max()\n",
    "        if model == 'SLy':\n",
    "            NS_Profile(rho_i, model)       \n",
    "            SLy_max_m[j] = m_list.max()"
   ]
  },
  {
   "cell_type": "code",
   "execution_count": null,
   "metadata": {
    "collapsed": false
   },
   "outputs": [],
   "source": [
    "print rho_c_list.size, FPS_max_m.size\n",
    "print rho_c_list.min(), rho_c_list.max(), FPS_max_m.min(), FPS_max_m.max()\n",
    "# m_list = m_list[np.where(m_list > 0)]\n",
    "print m_list\n",
    "plt.plot(m_list)\n",
    "print len(m_list)"
   ]
  },
  {
   "cell_type": "code",
   "execution_count": null,
   "metadata": {
    "collapsed": false
   },
   "outputs": [],
   "source": [
    "plt.figure(figsize=(10,8))\n",
    "plt.loglog(rho_c_list, FPS_max_m)\n",
    "plt.loglog(rho_c_list, SLy_max_m)\n",
    "# plt.plot(rho_c_list, SLy_max_m)\n",
    "# plt.xlim(2.5e+14, 2e+16)"
   ]
  },
  {
   "cell_type": "code",
   "execution_count": 7,
   "metadata": {
    "collapsed": false
   },
   "outputs": [
    {
     "name": "stdout",
     "output_type": "stream",
     "text": [
      "1 loops, best of 3: 19 s per loop\n"
     ]
    }
   ],
   "source": [
    "%timeit NS_Profile(1e6, 'FPS')"
   ]
  },
  {
   "cell_type": "code",
   "execution_count": 15,
   "metadata": {
    "collapsed": false
   },
   "outputs": [],
   "source": [
    "# initialize lists\n",
    "size = int(2e5)\n",
    "rho_list = np.zeros(size+1, dtype=float)\n",
    "P_list = np.zeros(size+1, dtype=float)\n",
    "m_list = np.zeros(size+1, dtype=float)\n",
    "r_list = np.zeros(size+1, dtype=float)\n",
    "dPdrho_list = np.zeros(size+1, dtype=float)\n",
    "\n",
    "# step size\n",
    "dr = 100.0 # cm\n",
    "\n",
    "@jit\n",
    "def numba_NS_Profile(rho_c, arg):\n",
    "    \"\"\" A function to step integrate the equations governing the NS stepping out in radius each step. \n",
    "    \n",
    "    input: central density and model name.\n",
    "    \n",
    "    output: lists of each variable\n",
    "    \"\"\"\n",
    "    \n",
    "    # central starting values\n",
    "    r = dr # cm\n",
    "    rho = rho_c # density in g/cc\n",
    "    m = dM(rho, r, dr) # mass in g\n",
    "    P = EOS(rho, arg) # Pressure in dynes/cm2\n",
    "    i = int(0)\n",
    "    \n",
    "    # add these values to list to keep track\n",
    "    rho_list[0] = rho\n",
    "    P_list[0] = P\n",
    "    m_list[0] = m\n",
    "    r_list[0] = r\n",
    "    \n",
    "    if rho_list[i].size == size:\n",
    "        print(\"ran out of space. rho_list > size\")\n",
    "    \n",
    "    # while rho > rhoc*0.005:\n",
    "    while i+1 < size and rho > 0:\n",
    "        # update density\n",
    "        rho = drhodr(rho, P, r, m, arg)*dr + rho\n",
    "        rho_list[i+1] = rho\n",
    "\n",
    "        # update mass\n",
    "        m = dM(rho, r, dr) + m\n",
    "        m_list[i+1] = m\n",
    "\n",
    "        # update pressure\n",
    "        P = EOS(rho, arg)\n",
    "        P_list[i+1] = P\n",
    "\n",
    "        # update dP/drho\n",
    "        dPdrho_list[i+1] = dPdrho(rho, P, arg)\n",
    "\n",
    "        # advance r\n",
    "        r = r + dr\n",
    "        r_list[i+1] = r\n",
    "\n",
    "        # advance i\n",
    "        i = i + 1\n",
    "    \n",
    "    '''\n",
    "    # shrink arrays to be only as large as they need to be \n",
    "    rho_list = rho_list[np.where(r_list > 0)]\n",
    "    P_list = P_list[np.where(r_list > 0)]\n",
    "    m_list = m_list[np.where(r_list > 0)]\n",
    "    r_list = r_list[np.where(r_list > 0)]\n",
    "    dPdrho_list = dPdrho_list[np.where(r_list > 0)]\n",
    "    '''\n",
    "    return rho_list, P_list, m_list, r_list, dPdrho_list, i "
   ]
  },
  {
   "cell_type": "code",
   "execution_count": 17,
   "metadata": {
    "collapsed": false
   },
   "outputs": [
    {
     "name": "stdout",
     "output_type": "stream",
     "text": [
      "1 loops, best of 3: 18.6 s per loop\n"
     ]
    }
   ],
   "source": [
    "%timeit numba_NS_Profile(1e6, 'FPS')"
   ]
  },
  {
   "cell_type": "code",
   "execution_count": 19,
   "metadata": {
    "collapsed": true
   },
   "outputs": [],
   "source": [
    "# initialize lists\n",
    "rho_list = []\n",
    "P_list = []\n",
    "m_list = []\n",
    "r_list = []\n",
    "dPdrho_list = []\n",
    "\n",
    "# step size\n",
    "dr = 100.0 # cm\n",
    "def python_NS_Profile(rho_c, arg):\n",
    "    \"\"\" A function to step integrate the equations governing the NS stepping out in radius each step. \n",
    "    \n",
    "    input: central density and model name.\n",
    "    \n",
    "    output: lists of each variable\n",
    "    \"\"\"\n",
    "    \n",
    "    # central starting values\n",
    "    r = dr # cm\n",
    "    rho = rho_c # density in g/cc\n",
    "    m = dM(rho, r, dr) # mass in g\n",
    "    P = EOS(rho, arg) # Pressure in dynes/cm2\n",
    "    i = 0\n",
    "    \n",
    "    # add these values to list to keep track\n",
    "    rho_list.append(rho)\n",
    "    P_list.append(P)\n",
    "    m_list.append(m)\n",
    "    r_list.append(r)\n",
    "\n",
    "    # while rho > rhoc*0.005:\n",
    "    while rho > 0:\n",
    "        # update density\n",
    "        rho = drhodr(rho, P, r, m, arg)*dr + rho\n",
    "        rho_list.append(rho)\n",
    "\n",
    "        # update mass\n",
    "        m = dM(rho, r, dr) + m\n",
    "        m_list.append(m)\n",
    "\n",
    "        # update pressure\n",
    "        P = EOS(rho, arg)\n",
    "        P_list.append(P)\n",
    "\n",
    "        # update dP/drho\n",
    "        dPdrho_list.append(dPdrho(rho, P, arg))\n",
    "\n",
    "        # advance r\n",
    "        r = r + dr\n",
    "        r_list.append(r)\n",
    "\n",
    "        # advance i\n",
    "        i = i + 1\n",
    "\n",
    "    return rho_list, P_list, m_list, r_list, dPdrho_list, i \n",
    "    # print i, rho, m/M_sun, P, r/1e5"
   ]
  },
  {
   "cell_type": "code",
   "execution_count": 20,
   "metadata": {
    "collapsed": false
   },
   "outputs": [
    {
     "ename": "AttributeError",
     "evalue": "'numpy.ndarray' object has no attribute 'append'",
     "output_type": "error",
     "traceback": [
      "\u001b[0;31m---------------------------------------------------------------------------\u001b[0m",
      "\u001b[0;31mAttributeError\u001b[0m                            Traceback (most recent call last)",
      "\u001b[0;32m<ipython-input-20-cf8b707a598c>\u001b[0m in \u001b[0;36m<module>\u001b[0;34m()\u001b[0m\n\u001b[0;32m----> 1\u001b[0;31m \u001b[0mget_ipython\u001b[0m\u001b[0;34m(\u001b[0m\u001b[0;34m)\u001b[0m\u001b[0;34m.\u001b[0m\u001b[0mmagic\u001b[0m\u001b[0;34m(\u001b[0m\u001b[0;34mu\"timeit python_NS_Profile(2e16, 'FPS')\"\u001b[0m\u001b[0;34m)\u001b[0m\u001b[0;34m\u001b[0m\u001b[0m\n\u001b[0m",
      "\u001b[0;32m/Users/mattwilde/anaconda/lib/python2.7/site-packages/IPython/core/interactiveshell.pyc\u001b[0m in \u001b[0;36mmagic\u001b[0;34m(self, arg_s)\u001b[0m\n\u001b[1;32m   2334\u001b[0m         \u001b[0mmagic_name\u001b[0m\u001b[0;34m,\u001b[0m \u001b[0m_\u001b[0m\u001b[0;34m,\u001b[0m \u001b[0mmagic_arg_s\u001b[0m \u001b[0;34m=\u001b[0m \u001b[0marg_s\u001b[0m\u001b[0;34m.\u001b[0m\u001b[0mpartition\u001b[0m\u001b[0;34m(\u001b[0m\u001b[0;34m' '\u001b[0m\u001b[0;34m)\u001b[0m\u001b[0;34m\u001b[0m\u001b[0m\n\u001b[1;32m   2335\u001b[0m         \u001b[0mmagic_name\u001b[0m \u001b[0;34m=\u001b[0m \u001b[0mmagic_name\u001b[0m\u001b[0;34m.\u001b[0m\u001b[0mlstrip\u001b[0m\u001b[0;34m(\u001b[0m\u001b[0mprefilter\u001b[0m\u001b[0;34m.\u001b[0m\u001b[0mESC_MAGIC\u001b[0m\u001b[0;34m)\u001b[0m\u001b[0;34m\u001b[0m\u001b[0m\n\u001b[0;32m-> 2336\u001b[0;31m         \u001b[0;32mreturn\u001b[0m \u001b[0mself\u001b[0m\u001b[0;34m.\u001b[0m\u001b[0mrun_line_magic\u001b[0m\u001b[0;34m(\u001b[0m\u001b[0mmagic_name\u001b[0m\u001b[0;34m,\u001b[0m \u001b[0mmagic_arg_s\u001b[0m\u001b[0;34m)\u001b[0m\u001b[0;34m\u001b[0m\u001b[0m\n\u001b[0m\u001b[1;32m   2337\u001b[0m \u001b[0;34m\u001b[0m\u001b[0m\n\u001b[1;32m   2338\u001b[0m     \u001b[0;31m#-------------------------------------------------------------------------\u001b[0m\u001b[0;34m\u001b[0m\u001b[0;34m\u001b[0m\u001b[0m\n",
      "\u001b[0;32m/Users/mattwilde/anaconda/lib/python2.7/site-packages/IPython/core/interactiveshell.pyc\u001b[0m in \u001b[0;36mrun_line_magic\u001b[0;34m(self, magic_name, line)\u001b[0m\n\u001b[1;32m   2255\u001b[0m                 \u001b[0mkwargs\u001b[0m\u001b[0;34m[\u001b[0m\u001b[0;34m'local_ns'\u001b[0m\u001b[0;34m]\u001b[0m \u001b[0;34m=\u001b[0m \u001b[0msys\u001b[0m\u001b[0;34m.\u001b[0m\u001b[0m_getframe\u001b[0m\u001b[0;34m(\u001b[0m\u001b[0mstack_depth\u001b[0m\u001b[0;34m)\u001b[0m\u001b[0;34m.\u001b[0m\u001b[0mf_locals\u001b[0m\u001b[0;34m\u001b[0m\u001b[0m\n\u001b[1;32m   2256\u001b[0m             \u001b[0;32mwith\u001b[0m \u001b[0mself\u001b[0m\u001b[0;34m.\u001b[0m\u001b[0mbuiltin_trap\u001b[0m\u001b[0;34m:\u001b[0m\u001b[0;34m\u001b[0m\u001b[0m\n\u001b[0;32m-> 2257\u001b[0;31m                 \u001b[0mresult\u001b[0m \u001b[0;34m=\u001b[0m \u001b[0mfn\u001b[0m\u001b[0;34m(\u001b[0m\u001b[0;34m*\u001b[0m\u001b[0margs\u001b[0m\u001b[0;34m,\u001b[0m\u001b[0;34m**\u001b[0m\u001b[0mkwargs\u001b[0m\u001b[0;34m)\u001b[0m\u001b[0;34m\u001b[0m\u001b[0m\n\u001b[0m\u001b[1;32m   2258\u001b[0m             \u001b[0;32mreturn\u001b[0m \u001b[0mresult\u001b[0m\u001b[0;34m\u001b[0m\u001b[0m\n\u001b[1;32m   2259\u001b[0m \u001b[0;34m\u001b[0m\u001b[0m\n",
      "\u001b[0;32m/Users/mattwilde/anaconda/lib/python2.7/site-packages/IPython/core/magics/execution.pyc\u001b[0m in \u001b[0;36mtimeit\u001b[0;34m(self, line, cell)\u001b[0m\n",
      "\u001b[0;32m/Users/mattwilde/anaconda/lib/python2.7/site-packages/IPython/core/magic.pyc\u001b[0m in \u001b[0;36m<lambda>\u001b[0;34m(f, *a, **k)\u001b[0m\n\u001b[1;32m    191\u001b[0m     \u001b[0;31m# but it's overkill for just that one bit of state.\u001b[0m\u001b[0;34m\u001b[0m\u001b[0;34m\u001b[0m\u001b[0m\n\u001b[1;32m    192\u001b[0m     \u001b[0;32mdef\u001b[0m \u001b[0mmagic_deco\u001b[0m\u001b[0;34m(\u001b[0m\u001b[0marg\u001b[0m\u001b[0;34m)\u001b[0m\u001b[0;34m:\u001b[0m\u001b[0;34m\u001b[0m\u001b[0m\n\u001b[0;32m--> 193\u001b[0;31m         \u001b[0mcall\u001b[0m \u001b[0;34m=\u001b[0m \u001b[0;32mlambda\u001b[0m \u001b[0mf\u001b[0m\u001b[0;34m,\u001b[0m \u001b[0;34m*\u001b[0m\u001b[0ma\u001b[0m\u001b[0;34m,\u001b[0m \u001b[0;34m**\u001b[0m\u001b[0mk\u001b[0m\u001b[0;34m:\u001b[0m \u001b[0mf\u001b[0m\u001b[0;34m(\u001b[0m\u001b[0;34m*\u001b[0m\u001b[0ma\u001b[0m\u001b[0;34m,\u001b[0m \u001b[0;34m**\u001b[0m\u001b[0mk\u001b[0m\u001b[0;34m)\u001b[0m\u001b[0;34m\u001b[0m\u001b[0m\n\u001b[0m\u001b[1;32m    194\u001b[0m \u001b[0;34m\u001b[0m\u001b[0m\n\u001b[1;32m    195\u001b[0m         \u001b[0;32mif\u001b[0m \u001b[0mcallable\u001b[0m\u001b[0;34m(\u001b[0m\u001b[0marg\u001b[0m\u001b[0;34m)\u001b[0m\u001b[0;34m:\u001b[0m\u001b[0;34m\u001b[0m\u001b[0m\n",
      "\u001b[0;32m/Users/mattwilde/anaconda/lib/python2.7/site-packages/IPython/core/magics/execution.pyc\u001b[0m in \u001b[0;36mtimeit\u001b[0;34m(self, line, cell)\u001b[0m\n\u001b[1;32m   1035\u001b[0m             \u001b[0mnumber\u001b[0m \u001b[0;34m=\u001b[0m \u001b[0;36m1\u001b[0m\u001b[0;34m\u001b[0m\u001b[0m\n\u001b[1;32m   1036\u001b[0m             \u001b[0;32mfor\u001b[0m \u001b[0m_\u001b[0m \u001b[0;32min\u001b[0m \u001b[0mrange\u001b[0m\u001b[0;34m(\u001b[0m\u001b[0;36m1\u001b[0m\u001b[0;34m,\u001b[0m \u001b[0;36m10\u001b[0m\u001b[0;34m)\u001b[0m\u001b[0;34m:\u001b[0m\u001b[0;34m\u001b[0m\u001b[0m\n\u001b[0;32m-> 1037\u001b[0;31m                 \u001b[0mtime_number\u001b[0m \u001b[0;34m=\u001b[0m \u001b[0mtimer\u001b[0m\u001b[0;34m.\u001b[0m\u001b[0mtimeit\u001b[0m\u001b[0;34m(\u001b[0m\u001b[0mnumber\u001b[0m\u001b[0;34m)\u001b[0m\u001b[0;34m\u001b[0m\u001b[0m\n\u001b[0m\u001b[1;32m   1038\u001b[0m                 \u001b[0mworst_tuning\u001b[0m \u001b[0;34m=\u001b[0m \u001b[0mmax\u001b[0m\u001b[0;34m(\u001b[0m\u001b[0mworst_tuning\u001b[0m\u001b[0;34m,\u001b[0m \u001b[0mtime_number\u001b[0m \u001b[0;34m/\u001b[0m \u001b[0mnumber\u001b[0m\u001b[0;34m)\u001b[0m\u001b[0;34m\u001b[0m\u001b[0m\n\u001b[1;32m   1039\u001b[0m                 \u001b[0;32mif\u001b[0m \u001b[0mtime_number\u001b[0m \u001b[0;34m>=\u001b[0m \u001b[0;36m0.2\u001b[0m\u001b[0;34m:\u001b[0m\u001b[0;34m\u001b[0m\u001b[0m\n",
      "\u001b[0;32m/Users/mattwilde/anaconda/lib/python2.7/site-packages/IPython/core/magics/execution.pyc\u001b[0m in \u001b[0;36mtimeit\u001b[0;34m(self, number)\u001b[0m\n\u001b[1;32m    131\u001b[0m         \u001b[0mgc\u001b[0m\u001b[0;34m.\u001b[0m\u001b[0mdisable\u001b[0m\u001b[0;34m(\u001b[0m\u001b[0;34m)\u001b[0m\u001b[0;34m\u001b[0m\u001b[0m\n\u001b[1;32m    132\u001b[0m         \u001b[0;32mtry\u001b[0m\u001b[0;34m:\u001b[0m\u001b[0;34m\u001b[0m\u001b[0m\n\u001b[0;32m--> 133\u001b[0;31m             \u001b[0mtiming\u001b[0m \u001b[0;34m=\u001b[0m \u001b[0mself\u001b[0m\u001b[0;34m.\u001b[0m\u001b[0minner\u001b[0m\u001b[0;34m(\u001b[0m\u001b[0mit\u001b[0m\u001b[0;34m,\u001b[0m \u001b[0mself\u001b[0m\u001b[0;34m.\u001b[0m\u001b[0mtimer\u001b[0m\u001b[0;34m)\u001b[0m\u001b[0;34m\u001b[0m\u001b[0m\n\u001b[0m\u001b[1;32m    134\u001b[0m         \u001b[0;32mfinally\u001b[0m\u001b[0;34m:\u001b[0m\u001b[0;34m\u001b[0m\u001b[0m\n\u001b[1;32m    135\u001b[0m             \u001b[0;32mif\u001b[0m \u001b[0mgcold\u001b[0m\u001b[0;34m:\u001b[0m\u001b[0;34m\u001b[0m\u001b[0m\n",
      "\u001b[0;32m<magic-timeit>\u001b[0m in \u001b[0;36minner\u001b[0;34m(_it, _timer)\u001b[0m\n",
      "\u001b[0;32m<ipython-input-19-9d21ab67acd2>\u001b[0m in \u001b[0;36mpython_NS_Profile\u001b[0;34m(rho_c, arg)\u001b[0m\n\u001b[1;32m     15\u001b[0m \u001b[0;34m\u001b[0m\u001b[0m\n\u001b[1;32m     16\u001b[0m     \u001b[0;31m# add these values to list to keep track\u001b[0m\u001b[0;34m\u001b[0m\u001b[0;34m\u001b[0m\u001b[0m\n\u001b[0;32m---> 17\u001b[0;31m     \u001b[0mrho_list\u001b[0m\u001b[0;34m.\u001b[0m\u001b[0mappend\u001b[0m\u001b[0;34m(\u001b[0m\u001b[0mrho\u001b[0m\u001b[0;34m)\u001b[0m\u001b[0;34m\u001b[0m\u001b[0m\n\u001b[0m\u001b[1;32m     18\u001b[0m     \u001b[0mP_list\u001b[0m\u001b[0;34m.\u001b[0m\u001b[0mappend\u001b[0m\u001b[0;34m(\u001b[0m\u001b[0mP\u001b[0m\u001b[0;34m)\u001b[0m\u001b[0;34m\u001b[0m\u001b[0m\n\u001b[1;32m     19\u001b[0m     \u001b[0mm_list\u001b[0m\u001b[0;34m.\u001b[0m\u001b[0mappend\u001b[0m\u001b[0;34m(\u001b[0m\u001b[0mm\u001b[0m\u001b[0;34m)\u001b[0m\u001b[0;34m\u001b[0m\u001b[0m\n",
      "\u001b[0;31mAttributeError\u001b[0m: 'numpy.ndarray' object has no attribute 'append'"
     ]
    }
   ],
   "source": [
    "%timeit python_NS_Profile(2e16, 'FPS')"
   ]
  },
  {
   "cell_type": "code",
   "execution_count": null,
   "metadata": {
    "collapsed": true
   },
   "outputs": [],
   "source": []
  }
 ],
 "metadata": {
  "kernelspec": {
   "display_name": "Python 2",
   "language": "python",
   "name": "python2"
  },
  "language_info": {
   "codemirror_mode": {
    "name": "ipython",
    "version": 2
   },
   "file_extension": ".py",
   "mimetype": "text/x-python",
   "name": "python",
   "nbconvert_exporter": "python",
   "pygments_lexer": "ipython2",
   "version": "2.7.10"
  }
 },
 "nbformat": 4,
 "nbformat_minor": 0
}
