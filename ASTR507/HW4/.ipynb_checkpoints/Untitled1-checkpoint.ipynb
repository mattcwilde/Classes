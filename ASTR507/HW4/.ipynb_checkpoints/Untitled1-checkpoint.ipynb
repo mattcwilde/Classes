{
 "cells": [
  {
   "cell_type": "code",
   "execution_count": 2,
   "metadata": {
    "collapsed": false
   },
   "outputs": [
    {
     "data": {
      "text/plain": [
       "([12, 11, 10, 9, 8, 7, 6, 5, 4, 3, 2, 1, 0],\n",
       " [144, 121, 100, 81, 64, 49, 36, 25, 16, 9, 4, 1, 0])"
      ]
     },
     "execution_count": 2,
     "metadata": {},
     "output_type": "execute_result"
    }
   ],
   "source": [
    "def f(rho):\n",
    "    rho_list = []\n",
    "    rho_sqrd = []\n",
    "    rho_list.append(rho)\n",
    "    rho_sqrd.append(rho)\n",
    "    while rho > 0:\n",
    "        rho = rho - 1\n",
    "        rho_list.append(rho)\n",
    "        rho_sqrd.append(rho**2)\n",
    "    return rho_list, rho_sqrd\n",
    "    # return None\n",
    "f(13)"
   ]
  },
  {
   "cell_type": "code",
   "execution_count": null,
   "metadata": {
    "collapsed": false
   },
   "outputs": [],
   "source": [
    "rhoc = [9, 16]\n",
    "list_of_rhos_per_rhoc = []\n",
    "for r in rhoc:\n",
    "    r1, r2 = f(r)\n",
    "    list_of_rhos_per_rhoc.append(r1)\n",
    "    "
   ]
  },
  {
   "cell_type": "code",
   "execution_count": null,
   "metadata": {
    "collapsed": false
   },
   "outputs": [],
   "source": [
    "list_of_rhos_per_rhoc"
   ]
  },
  {
   "cell_type": "code",
   "execution_count": null,
   "metadata": {
    "collapsed": true
   },
   "outputs": [],
   "source": []
  }
 ],
 "metadata": {
  "kernelspec": {
   "display_name": "Python 2",
   "language": "python",
   "name": "python2"
  },
  "language_info": {
   "codemirror_mode": {
    "name": "ipython",
    "version": 2
   },
   "file_extension": ".py",
   "mimetype": "text/x-python",
   "name": "python",
   "nbconvert_exporter": "python",
   "pygments_lexer": "ipython2",
   "version": "2.7.10"
  }
 },
 "nbformat": 4,
 "nbformat_minor": 0
}
