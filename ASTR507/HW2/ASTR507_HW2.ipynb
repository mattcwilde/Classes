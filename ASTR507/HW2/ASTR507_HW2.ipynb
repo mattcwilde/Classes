{
 "cells": [
  {
   "cell_type": "markdown",
   "metadata": {},
   "source": [
    "# ASTR507 HW2 "
   ]
  },
  {
   "cell_type": "markdown",
   "metadata": {},
   "source": [
    "### problem 2"
   ]
  },
  {
   "cell_type": "code",
   "execution_count": 2,
   "metadata": {
    "collapsed": false
   },
   "outputs": [],
   "source": [
    "from numpy import pi,exp,sqrt,conj,array\n",
    "from astropy import units as u"
   ]
  },
  {
   "cell_type": "markdown",
   "metadata": {},
   "source": [
    "Initialize Constants and test out units package."
   ]
  },
  {
   "cell_type": "code",
   "execution_count": 3,
   "metadata": {
    "collapsed": false
   },
   "outputs": [],
   "source": [
    "m = 9.1 * 10**(-28)*u.gram #mass of electron\n",
    "k = 1.4 * 10**(-16)*u.erg / u.Kelvin #boltzmann constant\n",
    "T = 10**(6)*u.Kelvin #temperature\n",
    "#V = (40 * 10**(3)*u.parsec**3).to(u.centimeter**3)\n",
    "n = 0.01 * u.centimeter**(-3) #density\n",
    "c = 2.99 * 10**10 *u.cm / u.s #speed of light"
   ]
  },
  {
   "cell_type": "markdown",
   "metadata": {},
   "source": [
    "Define the normalizion constants."
   ]
  },
  {
   "cell_type": "code",
   "execution_count": 4,
   "metadata": {
    "collapsed": false
   },
   "outputs": [],
   "source": [
    "A = (4*pi*m**(3./2.)*n)/(2*pi*k*T)**(3./2.)\n",
    "b = 0.5*m/(k*T)"
   ]
  },
  {
   "cell_type": "markdown",
   "metadata": {},
   "source": [
    "Using the given solution to the integral we are solving equation: $\\frac{Axe^{-bx^2}}{2b} = 1$ since we are solving for the single fastest electron in the distribution."
   ]
  },
  {
   "cell_type": "code",
   "execution_count": 5,
   "metadata": {
    "collapsed": false
   },
   "outputs": [
    {
     "name": "stdout",
     "output_type": "stream",
     "text": [
      "A =  1.32223940717e-28 g(3/2) / (cm erg(3/2) s2)\n",
      "b =  3.25e-18 g / erg\n"
     ]
    }
   ],
   "source": [
    "print \"A = \",(A*(u.cm/u.s)**2)\n",
    "print \"b = \",(b)"
   ]
  },
  {
   "cell_type": "markdown",
   "metadata": {},
   "source": [
    "Stuff in front:"
   ]
  },
  {
   "cell_type": "code",
   "execution_count": 6,
   "metadata": {
    "collapsed": false
   },
   "outputs": [
    {
     "data": {
      "text/latex": [
       "$2.0342145 \\times 10^{-11} \\; \\mathrm{\\frac{g^{1/2}}{erg^{1/2}\\,cm^{3}}}$"
      ],
      "text/plain": [
       "<Quantity 2.0342144725641095e-11 g(1/2) / (cm3 erg(1/2))>"
      ]
     },
     "execution_count": 6,
     "metadata": {},
     "output_type": "execute_result"
    }
   ],
   "source": [
    "A/(2*b)"
   ]
  },
  {
   "cell_type": "markdown",
   "metadata": {},
   "source": [
    " Via Wolfram, the root to this equation is:  "
   ]
  },
  {
   "cell_type": "code",
   "execution_count": 7,
   "metadata": {
    "collapsed": false
   },
   "outputs": [],
   "source": [
    "r = 1.95*10**(8) #real\n",
    "j = 1.1*10**(9) #imaginary"
   ]
  },
  {
   "cell_type": "markdown",
   "metadata": {},
   "source": [
    "therefore the speed is the modulus of (r-j)"
   ]
  },
  {
   "cell_type": "code",
   "execution_count": 8,
   "metadata": {
    "collapsed": false
   },
   "outputs": [],
   "source": [
    "v = sqrt(r**2 + j**2)"
   ]
  },
  {
   "cell_type": "code",
   "execution_count": 9,
   "metadata": {
    "collapsed": false
   },
   "outputs": [
    {
     "name": "stdout",
     "output_type": "stream",
     "text": [
      "speed is 1117150392.74\n",
      "v = 0.0373628893893c\n"
     ]
    }
   ],
   "source": [
    "print \"speed is\",v\n",
    "print \"v = {}c\".format(v/c.value)"
   ]
  },
  {
   "cell_type": "markdown",
   "metadata": {},
   "source": [
    "#### so no, the cosmic rays cannot be of thermal origin, since this speed is so much less than the speed of cosmic rays."
   ]
  },
  {
   "cell_type": "markdown",
   "metadata": {},
   "source": [
    "### problem 3d"
   ]
  },
  {
   "cell_type": "markdown",
   "metadata": {},
   "source": [
    "for $H_{2}$: "
   ]
  },
  {
   "cell_type": "code",
   "execution_count": 229,
   "metadata": {
    "collapsed": false
   },
   "outputs": [],
   "source": [
    "#constants\n",
    "T = 1000 #K\n",
    "g = 980 #cm/s^2\n",
    "r = 637.1 * 10**6 # cm\n",
    "m = 2 * 1.6737236 * 10**(-24) #for Hydrgen Molecule = 2 * m_H\n",
    "G = 6.7*10**(-8) #cgs\n",
    "M = 5.972 * 10**27 #g \n",
    "\n",
    "#composite constants\n",
    "sigma = pi * (10**(-8))**2\n",
    "n = m*g / (sigma * k.value * T)\n",
    "v_s = sqrt(2*k.value*T/m)\n",
    "v_esc = sqrt(2*G*M / r)\n",
    "lam = (v_esc/v_s)**2"
   ]
  },
  {
   "cell_type": "code",
   "execution_count": 230,
   "metadata": {
    "collapsed": true
   },
   "outputs": [],
   "source": [
    "C = (n * v_s) / (2. * sqrt(pi)) "
   ]
  },
  {
   "cell_type": "code",
   "execution_count": 231,
   "metadata": {
    "collapsed": false
   },
   "outputs": [],
   "source": [
    "Flux = C *exp(-lam)*(lam + 1) "
   ]
  },
  {
   "cell_type": "code",
   "execution_count": 232,
   "metadata": {
    "collapsed": false
   },
   "outputs": [
    {
     "name": "stdout",
     "output_type": "stream",
     "text": [
      "29322950.6884\n"
     ]
    }
   ],
   "source": [
    "print Flux # num particles / s cm^2"
   ]
  },
  {
   "cell_type": "code",
   "execution_count": 233,
   "metadata": {
    "collapsed": true
   },
   "outputs": [],
   "source": [
    "t = (1 * 10**9) * (365*24*60*60) # s/Gyr"
   ]
  },
  {
   "cell_type": "markdown",
   "metadata": {},
   "source": [
    "### Rate of loss of hydrogen over the entire area of exosphere:"
   ]
  },
  {
   "cell_type": "code",
   "execution_count": 234,
   "metadata": {
    "collapsed": false
   },
   "outputs": [],
   "source": [
    "N_exo = Flux * 4*pi*r**2 #amount lost thermally over entire area of exosphere"
   ]
  },
  {
   "cell_type": "markdown",
   "metadata": {},
   "source": [
    "### Amount of hydrogen lost thermally over 1Gyr"
   ]
  },
  {
   "cell_type": "code",
   "execution_count": 235,
   "metadata": {
    "collapsed": true
   },
   "outputs": [],
   "source": [
    "N_esc = N_exo * t"
   ]
  },
  {
   "cell_type": "code",
   "execution_count": 236,
   "metadata": {
    "collapsed": false
   },
   "outputs": [
    {
     "name": "stdout",
     "output_type": "stream",
     "text": [
      "number of H2 molecules lost thermally over 1Gyr over entire area of exosphere is 4.71671191201e+42\n",
      "number of H atoms lost (2*N_H2)/N_H2_atmosphere 0.943342382402\n"
     ]
    }
   ],
   "source": [
    "print \"number of H2 molecules lost thermally over 1Gyr over entire area of exosphere is\", N_esc\n",
    "print \"number of H atoms lost (2*N_H2)/N_H2_atmosphere\", (2 * N_esc/10**43)"
   ]
  },
  {
   "cell_type": "markdown",
   "metadata": {},
   "source": [
    "###    number of H2 lost thermally over 1Gyr over entire area of exosphere 4.71671191201e+42 molecules\n",
    "\n",
    "###    number of H atoms lost is $2N_{H{2}}$\n",
    "\n",
    "### $\\frac{N_{H_{atoms escaped}}}{N_{H_{atoms in atmosphere}}} \\approx{0.94}$\n",
    "\n",
    "\n",
    "\n"
   ]
  },
  {
   "cell_type": "markdown",
   "metadata": {},
   "source": [
    "### problem 3e"
   ]
  },
  {
   "cell_type": "markdown",
   "metadata": {},
   "source": [
    "#### for $O_{2}$:"
   ]
  },
  {
   "cell_type": "code",
   "execution_count": 245,
   "metadata": {
    "collapsed": true
   },
   "outputs": [],
   "source": [
    "mo = 2. * 2.6567626 * 10**(-23) # O2 in g\n",
    "v_s = sqrt(2.*k.value*T/mo) \n",
    "v_esc = sqrt(2.*G*M / r)\n",
    "lam = (v_esc/v_s)**2"
   ]
  },
  {
   "cell_type": "code",
   "execution_count": 246,
   "metadata": {
    "collapsed": true
   },
   "outputs": [],
   "source": [
    "n = mo*g / (sigma * k.value * T)"
   ]
  },
  {
   "cell_type": "code",
   "execution_count": 247,
   "metadata": {
    "collapsed": false
   },
   "outputs": [],
   "source": [
    "C = (n * v_s) / (2 * sqrt(pi))\n",
    "Flux_o2 = C * exp(-lam)*(lam + 1.) #num particles / s cm^2"
   ]
  },
  {
   "cell_type": "code",
   "execution_count": 248,
   "metadata": {
    "collapsed": false
   },
   "outputs": [
    {
     "name": "stdout",
     "output_type": "stream",
     "text": [
      "1.75087645658e-88\n"
     ]
    }
   ],
   "source": [
    "print Flux_o2 #num particles / s cm^2"
   ]
  },
  {
   "cell_type": "markdown",
   "metadata": {},
   "source": [
    "### Rate of loss of molecular Oxygen over the entire area of exosphere:"
   ]
  },
  {
   "cell_type": "code",
   "execution_count": 250,
   "metadata": {
    "collapsed": false
   },
   "outputs": [
    {
     "name": "stdout",
     "output_type": "stream",
     "text": [
      "8.93059875204e-70\n"
     ]
    }
   ],
   "source": [
    "N_exo_o = Flux_o2 * 4.*pi*r**2. #amount escaping over entire exosphere / s\n",
    "print N_exo_o"
   ]
  },
  {
   "cell_type": "markdown",
   "metadata": {},
   "source": [
    "### Number of  O2 lost over 1Gyr"
   ]
  },
  {
   "cell_type": "code",
   "execution_count": 224,
   "metadata": {
    "collapsed": false
   },
   "outputs": [],
   "source": [
    "N_o = N_exo_o * t"
   ]
  },
  {
   "cell_type": "code",
   "execution_count": 251,
   "metadata": {
    "collapsed": false,
    "scrolled": true
   },
   "outputs": [
    {
     "name": "stdout",
     "output_type": "stream",
     "text": [
      "Number of O2 molecules escaping over 1Gyr over entire exosphere is 2.81635362244e-53\n"
     ]
    }
   ],
   "source": [
    "print \"Number of O2 molecules escaping over 1Gyr over entire exosphere is\",N_o"
   ]
  },
  {
   "cell_type": "markdown",
   "metadata": {},
   "source": [
    "### $N_{O_{2escaped}} \\approx{0} $"
   ]
  },
  {
   "cell_type": "code",
   "execution_count": 252,
   "metadata": {
    "collapsed": false
   },
   "outputs": [
    {
     "data": {
      "text/plain": [
       "1.6747584090394123e+95"
      ]
     },
     "execution_count": 252,
     "metadata": {},
     "output_type": "execute_result"
    }
   ],
   "source": [
    "4.71671191201e+42 / 2.81635362244e-53"
   ]
  },
  {
   "cell_type": "markdown",
   "metadata": {},
   "source": [
    " ### Flux of $H_{2}$ escaping $ \\approx 3 x 10^{7} \\frac{particles}{cm^{2} s}$\n",
    " ### Flux of $O_{2}$ escaping $ \\approx 2 x 10^{-53} \\frac{particles}{cm^{2} s}$"
   ]
  },
  {
   "cell_type": "markdown",
   "metadata": {},
   "source": [
    "### Assuming no sources or sinks of $H_{2}$ or $O_{2}$ the amount of $O_{2}$ should stay the same while the amount of $H_{2}$ will decrease rapidly unless it is locked up into $H_{2}O$ very quickly. "
   ]
  },
  {
   "cell_type": "code",
   "execution_count": null,
   "metadata": {
    "collapsed": true
   },
   "outputs": [],
   "source": []
  }
 ],
 "metadata": {
  "kernelspec": {
   "display_name": "Python 2",
   "language": "python",
   "name": "python2"
  },
  "language_info": {
   "codemirror_mode": {
    "name": "ipython",
    "version": 2
   },
   "file_extension": ".py",
   "mimetype": "text/x-python",
   "name": "python",
   "nbconvert_exporter": "python",
   "pygments_lexer": "ipython2",
   "version": "2.7.10"
  }
 },
 "nbformat": 4,
 "nbformat_minor": 0
}
