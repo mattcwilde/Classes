{
 "cells": [
  {
   "cell_type": "markdown",
   "metadata": {},
   "source": [
    "## ASTR507 HW2 "
   ]
  },
  {
   "cell_type": "markdown",
   "metadata": {},
   "source": [
    "### problem 2"
   ]
  },
  {
   "cell_type": "code",
   "execution_count": 2,
   "metadata": {
    "collapsed": false
   },
   "outputs": [],
   "source": [
    "from numpy import pi,exp,sqrt,conj,array\n",
    "from astropy import units as u"
   ]
  },
  {
   "cell_type": "markdown",
   "metadata": {},
   "source": [
    "Initialize Constants and test out units package."
   ]
  },
  {
   "cell_type": "code",
   "execution_count": 3,
   "metadata": {
    "collapsed": false
   },
   "outputs": [],
   "source": [
    "m = 9.1 * 10**(-28)*u.gram #mass of electron\n",
    "k = 1.4 * 10**(-16)*u.erg / u.Kelvin #boltzmann constant\n",
    "T = 10**(6)*u.Kelvin #temperature\n",
    "#V = (40 * 10**(3)*u.parsec**3).to(u.centimeter**3)\n",
    "n = 0.01 * u.centimeter**(-3) #density\n",
    "c = 2.99 * 10**10 *u.cm / u.s #speed of light"
   ]
  },
  {
   "cell_type": "markdown",
   "metadata": {},
   "source": [
    "Define the normalizion constants."
   ]
  },
  {
   "cell_type": "code",
   "execution_count": 4,
   "metadata": {
    "collapsed": false
   },
   "outputs": [],
   "source": [
    "A = (4*pi*m**(3./2.)*n)/(2*pi*k*T)**(3./2.)\n",
    "b = 0.5*m/(k*T)"
   ]
  },
  {
   "cell_type": "markdown",
   "metadata": {},
   "source": [
    "Using the given solution to the integral we are solving equation: $\\frac{Axe^{-bx^2}}{2b} = 1$ since we are solving for the single fastest electron in the distribution."
   ]
  },
  {
   "cell_type": "code",
   "execution_count": 5,
   "metadata": {
    "collapsed": false
   },
   "outputs": [
    {
     "name": "stdout",
     "output_type": "stream",
     "text": [
      "A =  1.32223940717e-28 g(3/2) / (cm erg(3/2) s2)\n",
      "b =  3.25e-18 g / erg\n"
     ]
    }
   ],
   "source": [
    "print \"A = \",(A*(u.cm/u.s)**2)\n",
    "print \"b = \",(b)"
   ]
  },
  {
   "cell_type": "markdown",
   "metadata": {},
   "source": [
    "Stuff in front:"
   ]
  },
  {
   "cell_type": "code",
   "execution_count": 6,
   "metadata": {
    "collapsed": false
   },
   "outputs": [
    {
     "data": {
      "text/latex": [
       "$2.0342145 \\times 10^{-11} \\; \\mathrm{\\frac{g^{1/2}}{erg^{1/2}\\,cm^{3}}}$"
      ],
      "text/plain": [
       "<Quantity 2.0342144725641095e-11 g(1/2) / (cm3 erg(1/2))>"
      ]
     },
     "execution_count": 6,
     "metadata": {},
     "output_type": "execute_result"
    }
   ],
   "source": [
    "A/(2*b)"
   ]
  },
  {
   "cell_type": "markdown",
   "metadata": {},
   "source": [
    " Via Wolfram, the root to this equation is:  "
   ]
  },
  {
   "cell_type": "code",
   "execution_count": 7,
   "metadata": {
    "collapsed": false
   },
   "outputs": [],
   "source": [
    "r = 1.95*10**(8) #real\n",
    "j = 1.1*10**(9) #imaginary"
   ]
  },
  {
   "cell_type": "markdown",
   "metadata": {},
   "source": [
    "therefore the speed is the modulus of (r-j)"
   ]
  },
  {
   "cell_type": "code",
   "execution_count": 8,
   "metadata": {
    "collapsed": false
   },
   "outputs": [],
   "source": [
    "v = sqrt(r**2 + j**2)"
   ]
  },
  {
   "cell_type": "code",
   "execution_count": 9,
   "metadata": {
    "collapsed": false
   },
   "outputs": [
    {
     "name": "stdout",
     "output_type": "stream",
     "text": [
      "speed is 1117150392.74\n",
      "v = 0.0373628893893c\n"
     ]
    }
   ],
   "source": [
    "print \"speed is\",v\n",
    "print \"v = {}c\".format(v/c.value)"
   ]
  },
  {
   "cell_type": "markdown",
   "metadata": {},
   "source": [
    "#### so no, the cosmic rays cannot be of thermal origin, since this speed is so much less than the speed of cosmic rays."
   ]
  },
  {
   "cell_type": "markdown",
   "metadata": {},
   "source": [
    "### problem 3d"
   ]
  },
  {
   "cell_type": "markdown",
   "metadata": {},
   "source": [
    "for $H_{2}$: "
   ]
  },
  {
   "cell_type": "code",
   "execution_count": 108,
   "metadata": {
    "collapsed": false
   },
   "outputs": [],
   "source": [
    "#constants\n",
    "T = 1000 #K\n",
    "g = 980 #cm/s^2\n",
    "r = 637.1 * 10**6 # cm\n",
    "m = 2 * 1.6737236 * 10**(-24) #for Hydrgen Molecule = 2 * m_H\n",
    "G = 6.7*10**(-8) #cgs\n",
    "M = 5.972 * 10**27 #g \n",
    "\n",
    "#composite constants\n",
    "sigma = pi * (10**(-8))**2\n",
    "n = m*g / (sigma * k.value * T)\n",
    "v_s = sqrt(2*k.value*T/m)\n",
    "v_esc = sqrt(2*G*M / r)\n",
    "lam = (v_esc/v_s)**2"
   ]
  },
  {
   "cell_type": "code",
   "execution_count": 109,
   "metadata": {
    "collapsed": true
   },
   "outputs": [],
   "source": [
    "C = (n * v_s) / (2. * sqrt(pi)) #whats wrong with this??"
   ]
  },
  {
   "cell_type": "code",
   "execution_count": 110,
   "metadata": {
    "collapsed": false
   },
   "outputs": [],
   "source": [
    "Flux = C *exp(-lam)*(lam + 1) #num particles / s cm^2\n",
    "C5 = (((4*pi*m**(3./2.)*n)/(2*pi*m*k.value*T)**(3./2.)/8.)*(((m/(2.*k.value*T))*v_esc**2. + 1.)/(2.*(m/(2.*k.value*T))**2.)))/exp((v_esc**2.)*(m/(2.*k.value*T)))"
   ]
  },
  {
   "cell_type": "code",
   "execution_count": 111,
   "metadata": {
    "collapsed": false
   },
   "outputs": [
    {
     "name": "stdout",
     "output_type": "stream",
     "text": [
      "29322950.6884\n",
      "2.39390587794e+42\n"
     ]
    }
   ],
   "source": [
    "print Flux\n",
    "print C5 #why vastly different numbers based on not simplifying!?"
   ]
  },
  {
   "cell_type": "code",
   "execution_count": 112,
   "metadata": {
    "collapsed": true
   },
   "outputs": [],
   "source": [
    "t = (1 * 10**9) * (365*24*60*60) #1 Gyr"
   ]
  },
  {
   "cell_type": "code",
   "execution_count": 113,
   "metadata": {
    "collapsed": false
   },
   "outputs": [],
   "source": [
    "N_esc = Flux * t\n",
    "N_newH2 = C5 * t"
   ]
  },
  {
   "cell_type": "code",
   "execution_count": 115,
   "metadata": {
    "collapsed": false
   },
   "outputs": [
    {
     "name": "stdout",
     "output_type": "stream",
     "text": [
      "Number H2 escaping / cm^2 9.2472857291e+23\n",
      "N_esc/N_H2_atmosphere 0.471671191201\n",
      "number H2 / H2_atmosphere 3.85069172973e+34\n"
     ]
    }
   ],
   "source": [
    "print \"Number H2 escaping / cm^2\", N_esc \n",
    "print \"N_esc/N_H2_atmosphere\", (N_esc * 4*pi*r**2)/(10**43) \n",
    "print \"number H2 / H2_atmosphere\", (N_newH2 * 4*pi*r**2)/(10**43) "
   ]
  },
  {
   "cell_type": "markdown",
   "metadata": {},
   "source": [
    "#### $\\frac{N_{H_{2escaped}}}{N_{H_{2atmosphere}}} \\approx{0.5}$ "
   ]
  },
  {
   "cell_type": "markdown",
   "metadata": {},
   "source": [
    "### problem 3e"
   ]
  },
  {
   "cell_type": "markdown",
   "metadata": {},
   "source": [
    "#### for $O_{2}$:"
   ]
  },
  {
   "cell_type": "code",
   "execution_count": 116,
   "metadata": {
    "collapsed": true
   },
   "outputs": [],
   "source": [
    "m = 2. * 2.6567626 * 10**(-23) # O2 in g\n",
    "v_s = sqrt(2.*k.value*T/m) \n",
    "v_esc = sqrt(2.*G*M / r)\n",
    "lam = (v_esc/v_s)**2"
   ]
  },
  {
   "cell_type": "code",
   "execution_count": 117,
   "metadata": {
    "collapsed": true
   },
   "outputs": [],
   "source": [
    "n = m*g / (sigma * k.value * T)"
   ]
  },
  {
   "cell_type": "code",
   "execution_count": 119,
   "metadata": {
    "collapsed": false
   },
   "outputs": [],
   "source": [
    "C = (n * v_s) / (2. * sqrt(pi))\n",
    "Flux = C * exp(-1.*lam)*(lam + 1.) #num particles / s cm^2"
   ]
  },
  {
   "cell_type": "code",
   "execution_count": 120,
   "metadata": {
    "collapsed": false
   },
   "outputs": [
    {
     "name": "stdout",
     "output_type": "stream",
     "text": [
      "1.75087645658e-88\n"
     ]
    }
   ],
   "source": [
    "print Flux "
   ]
  },
  {
   "cell_type": "code",
   "execution_count": 124,
   "metadata": {
    "collapsed": false
   },
   "outputs": [
    {
     "data": {
      "text/plain": [
       "2.2602235224631289e-55"
      ]
     },
     "execution_count": 124,
     "metadata": {},
     "output_type": "execute_result"
    }
   ],
   "source": [
    "C3 = ((4*pi*m**(3./2.)*n)/(2*pi*m*k.value*T)**(3./2.) / 8)*(exp(-v_esc**2*(m/(2*k.value*T))))*(((m/(2*k.value*T))*v_esc**2 + 1))/(2*(m/(2*k.value*T))**2)\n",
    "\n",
    "C3\n",
    "\n",
    "C4 = (1/8.*(4*pi*m**(3./2.)*n)/(2*pi*m*k.value*T)**(3./2.))*exp(-v_esc**2*m/(2*k.value*T))*(m/(2*k.value*T)*v_esc**2+1)/(2*(m/(2*k.value*T))**2)\n",
    "\n",
    "C4"
   ]
  },
  {
   "cell_type": "code",
   "execution_count": 125,
   "metadata": {
    "collapsed": false
   },
   "outputs": [
    {
     "name": "stdout",
     "output_type": "stream",
     "text": [
      "2.26022352246e-55\n"
     ]
    }
   ],
   "source": [
    "C5 = (((4*pi*m**(3./2.)*n)/(2*pi*m*k.value*T)**(3./2.)/8.)*(((m/(2.*k.value*T))*v_esc**2. + 1.)/(2.*(m/(2.*k.value*T))**2.)))/exp((v_esc**2.)*(m/(2.*k.value*T)))\n",
    "print C5"
   ]
  },
  {
   "cell_type": "code",
   "execution_count": 126,
   "metadata": {
    "collapsed": true
   },
   "outputs": [],
   "source": [
    "New_N = C5 * t #amount escaping over 1Gyr\n",
    "N = Flux * t"
   ]
  },
  {
   "cell_type": "code",
   "execution_count": 127,
   "metadata": {
    "collapsed": false
   },
   "outputs": [
    {
     "data": {
      "text/plain": [
       "5.521563993465684e-72"
      ]
     },
     "execution_count": 127,
     "metadata": {},
     "output_type": "execute_result"
    }
   ],
   "source": [
    "New_N\n",
    "N"
   ]
  },
  {
   "cell_type": "code",
   "execution_count": 128,
   "metadata": {
    "collapsed": false,
    "scrolled": true
   },
   "outputs": [
    {
     "name": "stdout",
     "output_type": "stream",
     "text": [
      "N_esc/N_O2_atmosphere =  3.63565840474e-63\n",
      "2.81635362244e-96\n"
     ]
    }
   ],
   "source": [
    "print \"N_esc/N_O2_atmosphere = \", (New_N * 4.*pi*r**2.)/(10.**43.)\n",
    "print N * (4.*pi*r**2.)/(10.**43.)"
   ]
  },
  {
   "cell_type": "markdown",
   "metadata": {},
   "source": [
    "#### $\\frac{N_{O_{2escaped}}}{N_{O_{2atmosphere}}} \\approx{0} $"
   ]
  },
  {
   "cell_type": "code",
   "execution_count": null,
   "metadata": {
    "collapsed": true
   },
   "outputs": [],
   "source": []
  }
 ],
 "metadata": {
  "kernelspec": {
   "display_name": "Python 2",
   "language": "python",
   "name": "python2"
  },
  "language_info": {
   "codemirror_mode": {
    "name": "ipython",
    "version": 2
   },
   "file_extension": ".py",
   "mimetype": "text/x-python",
   "name": "python",
   "nbconvert_exporter": "python",
   "pygments_lexer": "ipython2",
   "version": "2.7.10"
  }
 },
 "nbformat": 4,
 "nbformat_minor": 0
}
