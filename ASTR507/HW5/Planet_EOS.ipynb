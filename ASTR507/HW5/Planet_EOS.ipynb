{
 "cells": [
  {
   "cell_type": "code",
   "execution_count": 1,
   "metadata": {
    "collapsed": false
   },
   "outputs": [
    {
     "name": "stderr",
     "output_type": "stream",
     "text": [
      "/Users/mattwilde/anaconda/lib/python2.7/site-packages/IPython/kernel/__init__.py:13: ShimWarning: The `IPython.kernel` package has been deprecated. You should import from ipykernel or jupyter_client instead.\n",
      "  \"You should import from ipykernel or jupyter_client instead.\", ShimWarning)\n"
     ]
    }
   ],
   "source": [
    "%matplotlib inline\n",
    "from __future__ import division\n",
    "import numpy as np\n",
    "import matplotlib.pyplot as plt\n",
    "import astropy.constants as const\n",
    "from scipy.interpolate import interp1d\n",
    "plt.rc('font', family='serif', size=15)"
   ]
  },
  {
   "cell_type": "code",
   "execution_count": 282,
   "metadata": {
    "collapsed": false
   },
   "outputs": [],
   "source": [
    "# define constants\n",
    "pi = np.pi\n",
    "G = const.G.cgs.value\n",
    "M_earth = const.M_earth.cgs.value\n",
    "R_earth = const.R_earth.cgs.value\n",
    "M_jup = const.M_jup.cgs.value\n",
    "R_jup = const.R_jup.cgs.value\n",
    "k_B = const.k_B.cgs.value\n",
    "m_p = const.m_p.cgs.value\n",
    "sigma_sb = const.sigma_sb.cgs.value"
   ]
  },
  {
   "cell_type": "code",
   "execution_count": 3,
   "metadata": {
    "collapsed": true
   },
   "outputs": [],
   "source": [
    "# read in adiabats\n",
    "\n",
    "# 1 = density\n",
    "# 2 = pressure\n",
    "# 4 = entropy\n",
    "# 5 = Temperature\n",
    "\n",
    "infile = 'lowest_entropy_adia.dat'\n",
    "density, pressure, c1, entropy, temperature, c2, c3 = np.loadtxt(infile,unpack=True)"
   ]
  },
  {
   "cell_type": "code",
   "execution_count": 5,
   "metadata": {
    "collapsed": false
   },
   "outputs": [],
   "source": [
    "#EOS from Seager et. al 2007 converted to cgs units\n",
    "S_EOS = {'Fe': [8.3, 0.00000103472, 0.528], \n",
    "        'MgSiO3': [4.1, 4.63261145e-7, 0.541],\n",
    "        'MgFeSiO3': [4.26, 3.58759757e-7, 0.549], \n",
    "        'H2O': [1.460, 9.54465838e-7, 0.513],\n",
    "        'Cgraphite': [2.250, 0.00000107168, 0.514],\n",
    "        'SiC': [3.220, 4.99491897e-7, 0.537]}"
   ]
  },
  {
   "cell_type": "code",
   "execution_count": 67,
   "metadata": {
    "collapsed": false
   },
   "outputs": [],
   "source": [
    "def init_mass(Mass, num):\n",
    "    m = np.linspace(1e-5*Mass, Mass, num)\n",
    "    return m\n",
    "\n",
    "def init_pressure(Mass):\n",
    "    # p = np.ones_like(Mass)*1e7\n",
    "    p = np.zeros_like(Mass)\n",
    "    return p\n",
    "    \n",
    "def init_rho(Mass, EOS, composition):\n",
    "    # get rhos from Seager Table 3\n",
    "    # sets up a numpy array with all values set to rho0 for a solid core\n",
    "    rho0 = EOS[composition][0]\n",
    "    rho_start = np.ones_like(Mass)*rho0\n",
    "    return rho_start\n",
    "\n",
    "def init_r(Mass):\n",
    "    rs = np.zeros_like(Mass)\n",
    "    rs[0] = 6000\n",
    "    return rs\n",
    "    \n",
    "def calc_r(Mass, rhos, rr):\n",
    "    for i in range(0, len(Mass)-1):\n",
    "        dr3 = (3 / (2*pi)) * (Mass[i+1] - Mass[i]) / (rhos[i+1] + rhos[i])\n",
    "        rr[i+1] = (dr3 + rr[i]**3)**(1./3.)\n",
    "    return rr\n",
    "\n",
    "def calc_P(Mass, rs, p): \n",
    "    # go backwards!!!!!!\n",
    "    for i in range(1, (len(Mass)))[::-1]:\n",
    "        p[i-1] = (-G*(Mass[i] + Mass[i-1]) * (Mass[i-1] - Mass[i])) / (8.*pi*((rs[i] + rs[i-1])/2.)**4) + p[i]\n",
    "    return p\n",
    "\n",
    "\n",
    "      \n"
   ]
  },
  {
   "cell_type": "code",
   "execution_count": 68,
   "metadata": {
    "collapsed": false
   },
   "outputs": [],
   "source": [
    "def calc_rho2(p, rhos, EOS, composition, frac, Mass, p_adiabat, rho_adiabat):\n",
    "    # frac = % (percent) atmo\n",
    "    rho0 = EOS[composition][0] # rho[mks] / 1000 to convert to cgs\n",
    "    c = EOS[composition][1] # 1 dyn·cm−2 or 0.1 Pa\n",
    "    n = EOS[composition][2]\n",
    "    for i in range(0,len(Mass)):\n",
    "        if i < int(len(Mass) - frac*len(Mass)):\n",
    "            rhos[i] = rho0 + c*p[i]**n\n",
    "        else: \n",
    "            rhos[i] = np.interp(p[i], p_adiabat, rho_adiabat)\n",
    "    return rhos"
   ]
  },
  {
   "cell_type": "code",
   "execution_count": 143,
   "metadata": {
    "collapsed": false
   },
   "outputs": [],
   "source": [
    "def calc_rho3(p, rhos, EOS, rock, frac_rock, frac_atmo, Mass, p_adiabat, rho_adiabat):\n",
    "    # frac = % (percent) atmo\n",
    "    if len(rock) != 1:\n",
    "        # rock type1\n",
    "        rho0 = EOS[rock[0]][0] # rho[mks] / 1000 to convert to cgs\n",
    "        c = EOS[rock[0]][1] # 1 dyn·cm−2 or 0.1 Pa\n",
    "        n = EOS[rock[0]][2]\n",
    "\n",
    "        #rock type 2\n",
    "        rho02 = EOS[rock[1]][0] # rho[mks] / 1000 to convert to cgs\n",
    "        c2 = EOS[rock[1]][1] # 1 dyn·cm−2 or 0.1 Pa\n",
    "        n2 = EOS[rock[1]][2]\n",
    "        for i in range(0,int(frac_atmo*len(Mass)*frac_rock)):\n",
    "            rhos[i] = rho0 + c*p[i]**n\n",
    "        for i in range(int(frac_atmo*len(Mass)*frac_rock), int(len(Mass) - frac_atmo*len(Mass))):\n",
    "            rhos[i] = rho02 + c2*p[i]**n2\n",
    "        for i in range(int(len(Mass) - frac_atmo*len(Mass)), len(Mass)):\n",
    "            rhos[i] = np.interp(p[i], p_adiabat, rho_adiabat)\n",
    "    elif len(rock) == 1:\n",
    "        rho0 = EOS[rock][0] # rho[mks] / 1000 to convert to cgs\n",
    "        c = EOS[rock][1] # 1 dyn·cm−2 or 0.1 Pa\n",
    "        n = EOS[rock][2]\n",
    "        for i in range(0,int(frac_atmo*len(Mass))):\n",
    "            rhos[i] = rho0 + c*p[i]**n\n",
    "        for i in range(int(len(Mass) - frac_atmo*len(Mass)), len(Mass)):\n",
    "            rhos[i] = np.interp(p[i], p_adiabat, rho_adiabat)\n",
    "    return rhos\n"
   ]
  },
  {
   "cell_type": "code",
   "execution_count": 151,
   "metadata": {
    "collapsed": false
   },
   "outputs": [],
   "source": [
    "def calc_rho4(p, rhos, EOS, rock, frac_rock, frac_atmo, Mass, p_adiabat, rho_adiabat):\n",
    "\n",
    "    if len(rock) \n",
    "    # frac = % (percent) atmo\n",
    "    # rock type1\n",
    "    rho0 = EOS[rock[0]][0] # rho[mks] / 1000 to convert to cgs\n",
    "    c = EOS[rock[0]][1] # 1 dyn·cm−2 or 0.1 Pa\n",
    "    n = EOS[rock[0]][2]\n",
    "\n",
    "    #rock type 2\n",
    "    rho02 = EOS[rock[1]][0] # rho[mks] / 1000 to convert to cgs\n",
    "    c2 = EOS[rock[1]][1] # 1 dyn·cm−2 or 0.1 Pa\n",
    "    n2 = EOS[rock[1]][2]\n",
    "    for i in range(0,int(frac_atmo*len(Mass)*frac_rock)):\n",
    "        rhos[i] = rho0 + c*p[i]**n\n",
    "    for i in range(int(frac_atmo*len(Mass)*frac_rock), int(len(Mass) - frac_atmo*len(Mass))):\n",
    "        rhos[i] = rho02 + c2*p[i]**n2\n",
    "    for i in range(int(len(Mass) - frac_atmo*len(Mass)), len(Mass)):\n",
    "        rhos[i] = np.interp(p[i], p_adiabat, rho_adiabat)\n",
    "    return rhos\n"
   ]
  },
  {
   "cell_type": "code",
   "execution_count": 152,
   "metadata": {
    "collapsed": false
   },
   "outputs": [],
   "source": [
    "def build_planet(Mtot, frax, EOS, compositions, core_frac, p_adiabat, rho_adiabat):\n",
    "    N = 500\n",
    "    M = init_mass(Mtot, N)\n",
    "    r = init_r(M)\n",
    "    rho = init_rho(M, EOS, compositions[0])\n",
    "    P = init_pressure(M)\n",
    "\n",
    "    for count in range(50):\n",
    "        r = calc_r(M, rho, r)\n",
    "        P = calc_P(M, r, P)\n",
    "        rho = calc_rho3(P, rho, S_EOS, compositions, core_frac, frax, M, p_adiabat, rho_adiabat)\n",
    "    return rho,r,M"
   ]
  },
  {
   "cell_type": "code",
   "execution_count": 70,
   "metadata": {
    "collapsed": false,
    "scrolled": false
   },
   "outputs": [
    {
     "data": {
      "text/plain": [
       "<matplotlib.text.Text at 0x10e22fd50>"
      ]
     },
     "execution_count": 70,
     "metadata": {},
     "output_type": "execute_result"
    },
    {
     "data": {
      "image/png": "[encoded data removed]",
      "text/plain": [
       "<matplotlib.figure.Figure at 0x10e2bd450>"
      ]
     },
     "metadata": {},
     "output_type": "display_data"
    }
   ],
   "source": [
    "N = 5000\n",
    "Mtot = 0.36*M_jup\n",
    "frax = 0.50\n",
    "compositions = 'MgSiO3'\n",
    "\n",
    "M = init_mass(Mtot, N)\n",
    "r = init_r(M)\n",
    "rho = init_rho(M, S_EOS, compositions)\n",
    "P = init_pressure(M)\n",
    "\n",
    "for count in range(10):\n",
    "    r = calc_r(M, rho, r)\n",
    "    P = calc_P(M, r, P)\n",
    "    rho = calc_rho2(P, rho, S_EOS, compositions, frax, M, pressure, density)\n",
    "\n",
    "plt.figure(figsize=(10,8))\n",
    "plt.plot(r/R_jup, rho)\n",
    "plt.title(r'Density Profile of a 0.36$M_{J}$ planet with a core of MgSiO3')\n",
    "plt.ylabel(r'$\\rho$ [g / cm$^{3}$]')\n",
    "plt.xlabel(r'Radius [$R / R_{J}$]')"
   ]
  },
  {
   "cell_type": "code",
   "execution_count": 71,
   "metadata": {
    "collapsed": false
   },
   "outputs": [
    {
     "name": "stdout",
     "output_type": "stream",
     "text": [
      "Radius of planet = 0.649368351596 Jupiter radii\n"
     ]
    }
   ],
   "source": [
    "print 'Radius of planet =', r[len(r)-1]/R_jup, 'Jupiter radii'"
   ]
  },
  {
   "cell_type": "markdown",
   "metadata": {},
   "source": [
    "## 1a) find the minumum mass of rock to get a 0.65 R_jup planet with total mass = 0.36 M_jup with a cold H/He atmosphere"
   ]
  },
  {
   "cell_type": "code",
   "execution_count": 74,
   "metadata": {
    "collapsed": false
   },
   "outputs": [],
   "source": [
    "# find the minimum mass\n",
    "rock = ['MgSiO3', 'MgFeSiO3', 'SiC', 'Cgraphite']\n",
    "Mtotal = 0.36*M_jup\n",
    "f = np.linspace(0.4,0.6,10)\n",
    "mass_list = []\n",
    "rock_list = []\n",
    "frac_list = []\n",
    "m = M_jup\n",
    "for comp in rock:\n",
    "    for frac_rock in f:\n",
    "        Rho,R,Mass = build_planet(Mtotal, frac_rock, S_EOS, comp, pressure, density)\n",
    "        min_m = Mass[(len(Mass)-int(frac_rock*len(Mass)))-1]\n",
    "        if  (R.max()/R_jup - 0.65) < 0.01:\n",
    "            mass_list.append(min_m)\n",
    "            rock_list.append(comp)\n",
    "            frac_list.append(frac_rock)\n"
   ]
  },
  {
   "cell_type": "code",
   "execution_count": 81,
   "metadata": {
    "collapsed": false
   },
   "outputs": [
    {
     "name": "stdout",
     "output_type": "stream",
     "text": [
      "the minimum mass of rock is  55.9464988048 M_earth\n",
      "[ 5 11]\n",
      "rock type(s): MgSiO3 MgFeSiO3\n",
      "fraction of rock: 0.511111111111 0.511111111111\n"
     ]
    },
    {
     "data": {
      "text/plain": [
       "<matplotlib.text.Text at 0x10f8323d0>"
      ]
     },
     "execution_count": 81,
     "metadata": {},
     "output_type": "execute_result"
    },
    {
     "data": {
      "image/png": "[encoded data removed]",
      "text/plain": [
       "<matplotlib.figure.Figure at 0x10f756150>"
      ]
     },
     "metadata": {},
     "output_type": "display_data"
    }
   ],
   "source": [
    "mass_array = np.array(mass_list) \n",
    "\n",
    "print \"the minimum mass of rock is \",mass_array.min() / M_earth, \"M_earth\"\n",
    "# find the indices where this occurs\n",
    "i_min, = np.where(mass_array == mass_array.min())\n",
    "print i_min\n",
    "\n",
    "print \"rock type(s):\",rock_list[i_min[0]], rock_list[i_min[1]]\n",
    "print \"fraction of atmosphere:\", frac_list[i_min[0]], frac_list[i_min[1]]\n",
    "# plt.plot(mass_array)\n",
    "\n",
    "Rho,R,Mass = build_planet(Mtotal, frac_list[i_min[0]], S_EOS, rock_list[i_min[0]], pressure, density)\n",
    "\n",
    "plt.figure(figsize=(10,8))\n",
    "plt.plot(R/R_jup, Rho)\n",
    "plt.title(r'Density Profile of a 0.36$M_{J}$ planet with a core of MgSiO3')\n",
    "plt.ylabel(r'$\\rho$ [g / cm$^{3}$]')\n",
    "plt.xlabel(r'Radius [$R / R_{J}$]')"
   ]
  },
  {
   "cell_type": "markdown",
   "metadata": {},
   "source": [
    "### Minimum mass in rock is 55.9464988048 M_earth"
   ]
  },
  {
   "cell_type": "markdown",
   "metadata": {},
   "source": [
    "### 1b) Kepler-11e"
   ]
  },
  {
   "cell_type": "code",
   "execution_count": 171,
   "metadata": {
    "collapsed": false
   },
   "outputs": [],
   "source": [
    "Mtotal = 8.4 * M_earth\n",
    "mass_atmo= Mtotal\n",
    "# find the minimum mass of the atmosphere\n",
    "# core = ['Fe', 'MgSiO3', 'MgFeSiO3', 'H2O', 'SiC', 'Cgraphite']\n",
    "core = ['MgFeSiO3','MgSiO3']\n",
    "frac_core = 0.5\n",
    "f = np.linspace(0,1,20)\n",
    "mass_list = []\n",
    "rock_list = []\n",
    "frac_list = []\n",
    "for comp in core:\n",
    "    for frac_rock in f:\n",
    "        Rho,R,Mass = build_planet(Mtotal, frac_rock, S_EOS, core, frac_core, pressure, density)\n",
    "        if R.max()/R_earth > 4.5:\n",
    "            # mass of the envelope is just total mass minus core mass\n",
    "            mass_atmo = Mass.max() - Mass[(len(Mass)-int(frac_rock*len(Mass)))-1]\n",
    "            if mass_atmo != 0:\n",
    "                mass_list.append(mass_atmo)\n",
    "                rock_list.append(comp)\n",
    "                frac_list.append(frac_rock)"
   ]
  },
  {
   "cell_type": "code",
   "execution_count": 175,
   "metadata": {
    "collapsed": false
   },
   "outputs": [
    {
     "name": "stdout",
     "output_type": "stream",
     "text": [
      "[  1.85042709e+28   2.11190048e+28   2.37337388e+28   2.64490394e+28\n",
      "   2.90637733e+28   3.16785073e+28   3.43938079e+28   3.70085418e+28\n",
      "   3.96232757e+28   4.23385764e+28   4.49533103e+28   4.75680442e+28\n",
      "   1.85042709e+28   2.11190048e+28   2.37337388e+28   2.64490394e+28\n",
      "   2.90637733e+28   3.16785073e+28   3.43938079e+28   3.70085418e+28\n",
      "   3.96232757e+28   4.23385764e+28   4.49533103e+28   4.75680442e+28]\n",
      "the minimum mass of envolope is  3.09736381563 M_earth\n",
      "[ 0 12]\n",
      "core type(s): MgFeSiO3\n",
      "fraction of atmosphere: 0.368421052632\n",
      "core type(s): MgSiO3\n",
      "fraction of atmosphere: 0.368421052632\n"
     ]
    },
    {
     "data": {
      "text/plain": [
       "<matplotlib.text.Text at 0x1160da3d0>"
      ]
     },
     "execution_count": 175,
     "metadata": {},
     "output_type": "execute_result"
    },
    {
     "data": {
      "image/png": "[encoded data removed]",
      "text/plain": [
       "<matplotlib.figure.Figure at 0x1150475d0>"
      ]
     },
     "metadata": {},
     "output_type": "display_data"
    }
   ],
   "source": [
    "mass_array = np.array(mass_list) \n",
    "print mass_array\n",
    "\n",
    "print \"the minimum mass of envolope is \",mass_array.min() / M_earth, \"M_earth\"\n",
    "# find the indices where this occurs\n",
    "i_min, = np.where(mass_array == mass_array.min())\n",
    "print i_min\n",
    "for i in i_min:\n",
    "    print \"core type(s):\",rock_list[i]\n",
    "    print \"fraction of atmosphere:\", frac_list[i]\n",
    "\n",
    "Rho,R,Mass = build_planet(Mtotal, frac_list[i], S_EOS, core, 0.5, pressure, density)\n",
    "\n",
    "plt.figure(figsize=(10,8))\n",
    "plt.plot(R/R_earth, Rho)\n",
    "plt.title(r'Density Profile of Kepler-11e with MgFeSiO3 and MgSiO3 core and H/He envelope')\n",
    "plt.ylabel(r'$\\rho$ [g / cm$^{3}$]')\n",
    "plt.xlabel(r'Radius [$R / R_{earth}$]')"
   ]
  },
  {
   "cell_type": "markdown",
   "metadata": {},
   "source": [
    "### Minimum mass in the envelope is  3.09736381563 M_earth"
   ]
  },
  {
   "cell_type": "code",
   "execution_count": 179,
   "metadata": {
    "collapsed": false
   },
   "outputs": [
    {
     "data": {
      "text/plain": [
       "<matplotlib.text.Text at 0x116294410>"
      ]
     },
     "execution_count": 179,
     "metadata": {},
     "output_type": "execute_result"
    },
    {
     "data": {
      "image/png": "[encoded data removed]",
      "text/plain": [
       "<matplotlib.figure.Figure at 0x1169d29d0>"
      ]
     },
     "metadata": {},
     "output_type": "display_data"
    }
   ],
   "source": [
    "#core = ['MgFeSiO3','SiC']\n",
    "core = ['H2O', 'H2O']\n",
    "Mtotal = 8.4 * M_earth\n",
    "Rho,R,Mass = build_planet(Mtotal, 0, S_EOS, core, 0.5, pressure, density)\n",
    "plt.figure(figsize=(10,8))\n",
    "plt.plot(R/R_earth, Rho)\n",
    "plt.title(r'Density Profile of Kepler-11e as a pure water world')\n",
    "plt.ylabel(r'$\\rho$ [g / cm$^{3}$]')\n",
    "plt.xlabel(r'Radius [$R / R_{earth}$]')"
   ]
  },
  {
   "cell_type": "markdown",
   "metadata": {},
   "source": [
    "### As we can see from the density plot, Kepler-11e cannot be a pure water world as the maximum Radius is only ~2.5 R_earth"
   ]
  },
  {
   "cell_type": "markdown",
   "metadata": {},
   "source": [
    "### 1c) WASP-31"
   ]
  },
  {
   "cell_type": "code",
   "execution_count": 228,
   "metadata": {
    "collapsed": true
   },
   "outputs": [],
   "source": [
    "Mtotal = 0.479329 * M_jup\n",
    "R_planet = 1.537 * R_jup"
   ]
  },
  {
   "cell_type": "code",
   "execution_count": 195,
   "metadata": {
    "collapsed": false,
    "scrolled": false
   },
   "outputs": [],
   "source": [
    "# read in adiabats\n",
    "\n",
    "# 1 = density\n",
    "# 2 = pressure\n",
    "# 4 = entropy\n",
    "# 5 = Temperature\n",
    "\n",
    "infile = 'adia_deep126.dat'\n",
    "density, pressure, c1, entropy, temperature, c2, c3 = np.loadtxt(infile,unpack=True)\n",
    "\n",
    "def chunks(l, n):\n",
    "    n = max(1, n)\n",
    "    return [l[i:i + n] for i in range(0, len(l), n)]\n",
    "\n",
    "adia_rho = chunks(density, 516)\n",
    "adia_p = chunks(pressure, 516)\n",
    "adia_e = chunks(entropy, 516)\n",
    "adia_t = chunks(temperature, 516)\n",
    "\n",
    "\n",
    "#adia_rho = []\n",
    "#adia_p = []\n",
    "#adia_e = []\n",
    "#adia_t = []\n",
    "#for i in range(126):\n",
    "#    adia_rho.append(chunks(density, 516)[i])\n",
    "#    adia_p.append(chunks(pressure, 516)[i])\n",
    "#    adia_e.append(chunks(entropy, 516)[i])\n",
    "#    adia_t.append(chunks(temperature, 516))"
   ]
  },
  {
   "cell_type": "code",
   "execution_count": null,
   "metadata": {
    "collapsed": false,
    "scrolled": false
   },
   "outputs": [],
   "source": []
  },
  {
   "cell_type": "code",
   "execution_count": null,
   "metadata": {
    "collapsed": true
   },
   "outputs": [],
   "source": [
    "Rho,R,Mass = build_planet(Mtotal, frac_rock, S_EOS, core, frac_core, pressure, density)"
   ]
  },
  {
   "cell_type": "code",
   "execution_count": 216,
   "metadata": {
    "collapsed": true
   },
   "outputs": [],
   "source": [
    "def calc_rho_adia(p, rhos, Mass, p_adiabat, rho_adiabat):\n",
    "    for i in range(len(Mass)):\n",
    "        rhos[i] = np.interp(p[i], p_adiabat, rho_adiabat)\n",
    "    return rhos\n",
    "\n",
    "def build_gas_planet(Mtot, EOS, p_adiabat, rho_adiabat, composition):\n",
    "    N = 500\n",
    "    M = init_mass(Mtot, N)\n",
    "    r = init_r(M)\n",
    "    rho = init_rho(M, EOS, composition)\n",
    "    P = init_pressure(M)\n",
    "    \n",
    "\n",
    "    for count in range(50):\n",
    "        r = calc_r(M, rho, r)\n",
    "        P = calc_P(M, r, P)\n",
    "        rho = calc_rho_adia(P, rho, M, p_adiabat, rho_adiabat)\n",
    "    return rho, r, M"
   ]
  },
  {
   "cell_type": "code",
   "execution_count": 241,
   "metadata": {
    "collapsed": false
   },
   "outputs": [
    {
     "name": "stdout",
     "output_type": "stream",
     "text": [
      "46\n",
      "47\n",
      "48\n"
     ]
    }
   ],
   "source": [
    "Mtotal = 0.479329 * M_jup\n",
    "for i in range(126):\n",
    "    Rho,R,Mass = build_gas_planet(Mtotal, S_EOS, adia_p[i], adia_rho[i], 'H2O')\n",
    "    if abs(R.max()/R_jup - 1.537) < 0.05:\n",
    "        print i\n"
   ]
  },
  {
   "cell_type": "markdown",
   "metadata": {},
   "source": [
    "### adiabat 47 best approximates WASP-31b"
   ]
  },
  {
   "cell_type": "code",
   "execution_count": 328,
   "metadata": {
    "collapsed": false
   },
   "outputs": [],
   "source": [
    "def E(Mass, rho_adia, T_adia):\n",
    "    \"\"\"Function to find thermal content of planet.\"\"\"\n",
    "    T = np.zeros_like(Mass)\n",
    "    dE = np.zeros_like(Mass)\n",
    "    for i in range(len(Mass)):\n",
    "        T[i] = np.interp(T[i], rho_adia, T_adia)\n",
    "    for i in range(1, len(Mass)-1):\n",
    "        dE = (Mass[i+1]-Mass[i])*k_B*T[i]/m_p\n",
    "    return dE.sum()\n",
    "    \n",
    "def dEdt(Mass, R_p, rho_adia, T_adia):\n",
    "    T = np.zeros_like(Mass)\n",
    "    dE = np.zeros_like(Mass)\n",
    "    for i in range(1, len(Mass)):\n",
    "        T[i] = np.interp(T[i], rho_adia, T_adia)\n",
    "    dEdt = 4*pi*R_p**2*sigma_sb*T[len(Mass)-1]**4\n",
    "    return dEdt, T[len(Mass)-1]\n",
    "    "
   ]
  },
  {
   "cell_type": "code",
   "execution_count": 329,
   "metadata": {
    "collapsed": false
   },
   "outputs": [],
   "source": [
    "Mtotal = 0.479329 * M_jup\n",
    "\n",
    "Rho47, R47, Mass47 = build_gas_planet(Mtotal, S_EOS, adia_p[47], adia_rho[47], 'H2O')\n",
    "Rho_cold, R_cold, Mass_cold = build_gas_planet(Mtotal, S_EOS, adia_p[125], adia_rho[125], 'H2O')\n",
    "\n"
   ]
  },
  {
   "cell_type": "code",
   "execution_count": 330,
   "metadata": {
    "collapsed": false
   },
   "outputs": [
    {
     "name": "stdout",
     "output_type": "stream",
     "text": [
      "Energy content of WASP-31b: 2.33015860166e+38 [erg]\n",
      "Energy content of coldest H/He adiabat: 1.89522978655e+37 [erg]\n",
      "Therefore, WASP-31b is : 12.2948605926 E_coldest\n"
     ]
    }
   ],
   "source": [
    "print \"Energy content of WASP-31b:\", E(Mass47, adia_rho[47], adia_t[47]), \"[erg]\"\n",
    "print \"Energy content of coldest H/He adiabat:\", E(Mass_cold, adia_rho[125], adia_t[125]), \"[erg]\"\n",
    "ratio = E(Mass47, adia_rho[47], adia_t[47]) / E(Mass_cold, adia_rho[125], adia_t[125])\n",
    "print \"Therefore, WASP-31b is :\",ratio, \"E_coldest\""
   ]
  },
  {
   "cell_type": "code",
   "execution_count": 331,
   "metadata": {
    "collapsed": false
   },
   "outputs": [
    {
     "name": "stdout",
     "output_type": "stream",
     "text": [
      "1.8781050482e+42\n"
     ]
    }
   ],
   "source": [
    "E_jup = (Mass47*k_B*100/m_p).sum()\n",
    "print E_jup"
   ]
  },
  {
   "cell_type": "code",
   "execution_count": 340,
   "metadata": {
    "collapsed": false
   },
   "outputs": [
    {
     "name": "stdout",
     "output_type": "stream",
     "text": [
      "4.93791363354e+29 1547.8\n",
      "9.14747685972e+24 125.89\n"
     ]
    }
   ],
   "source": [
    "R_planet = 1.537 * R_jup\n",
    "dE,T_surface = dEdt(Mass47, R_planet, adia_rho[47], adia_t[47])\n",
    "dE_cold, T_s_cold = dEdt(Mass_cold, R_jup, adia_rho[125], adia_t[125])\n",
    "print dE, T_surface\n",
    "print dE_cold, T_s_cold"
   ]
  },
  {
   "cell_type": "code",
   "execution_count": 341,
   "metadata": {
    "collapsed": false
   },
   "outputs": [],
   "source": [
    "delta_T = T_surface - 100\n",
    "E_hot = E(Mass47, adia_rho[47], adia_t[47])\n",
    "E_cold = E(Mass_cold, adia_rho[125], adia_t[125])\n",
    "delta_E = E_hot - E_cold\n",
    "delta_P = dE - dE_cold\n",
    "\n",
    "dt = delta_E / delta_P"
   ]
  },
  {
   "cell_type": "code",
   "execution_count": null,
   "metadata": {
    "collapsed": false
   },
   "outputs": [],
   "source": []
  },
  {
   "cell_type": "code",
   "execution_count": 343,
   "metadata": {
    "collapsed": false
   },
   "outputs": [
    {
     "name": "stdout",
     "output_type": "stream",
     "text": [
      "15.0283861103\n",
      "65982.8250347\n"
     ]
    }
   ],
   "source": [
    "dt_hot = E_hot / dE\n",
    "dt_cold = E_cold / dE_cold \n",
    "print dt_hot / 3.14e7\n",
    "print dt_cold / 3.14e7"
   ]
  },
  {
   "cell_type": "markdown",
   "metadata": {},
   "source": [
    "### So we find that even a cold (T ~ 100K) planet only takes $66 \\times 10^{4}$ years to lose its energy. The hot puffy jupiters would lose their energy much faster and thus we would not expect to find them around old stars unless they are significantly heated."
   ]
  },
  {
   "cell_type": "code",
   "execution_count": null,
   "metadata": {
    "collapsed": true
   },
   "outputs": [],
   "source": []
  }
 ],
 "metadata": {
  "kernelspec": {
   "display_name": "Python 2",
   "language": "python",
   "name": "python2"
  },
  "language_info": {
   "codemirror_mode": {
    "name": "ipython",
    "version": 2
   },
   "file_extension": ".py",
   "mimetype": "text/x-python",
   "name": "python",
   "nbconvert_exporter": "python",
   "pygments_lexer": "ipython2",
   "version": "2.7.10"
  }
 },
 "nbformat": 4,
 "nbformat_minor": 0
}
