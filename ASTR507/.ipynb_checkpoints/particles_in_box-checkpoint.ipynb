{
 "metadata": {
  "name": "",
  "signature": "sha256:5716642e59df06b2cea4232fca9e391b3fdc0a311bc48e702cecbec613b68a9e"
 },
 "nbformat": 3,
 "nbformat_minor": 0,
 "worksheets": [
  {
   "cells": [
    {
     "cell_type": "code",
     "collapsed": false,
     "input": [
      "\"\"\"\n",
      "ASTR507 HW#1 particle in a box\n",
      "\n",
      "\"\"\"\n",
      "%matplotlib inline\n",
      "import math \n",
      "import numpy as np\n",
      "\n",
      "#define classes for our objects\n",
      "class Particle():\n",
      "    def __init__(self,position,radius,mass,velocity):\n",
      "        self.x = position[0]\n",
      "        self.y = position[1]\n",
      "        self.r = radius\n",
      "        self.m = mass\n",
      "        self.vx = velocity[0]\n",
      "        self.vy = velocity[1]\n",
      "        self.E = 0.5*mass*(velocity[0]**2 + velocity[1]**2)\n",
      "    #helper funciton that might be useful in future\n",
      "    def move_to(new_x,new_y):\n",
      "        self.x = new_x\n",
      "        self.y = new_y\n",
      "\n",
      "#define a grid for the particles to move around on\n",
      "#allow it to change size\n",
      "class Grid():\n",
      "    #initialize the grid\n",
      "    def __init__(self,width,height):\n",
      "        self.height = height\n",
      "        self.width = width\n",
      "    #add particles to grid, chosing the number,radius, and mass\n",
      "    def add_particles(self,num,radius,mass):\n",
      "        self.particles = []\n",
      "        for i in range(1,num+1):\n",
      "            self.pos = [(1-radius)*np.random.random(),(1-radius)*np.random.random()]\n",
      "            self.theta = 2*np.pi*np.random.random() \n",
      "            self.vmag = np.random.random()\n",
      "            self.vel = [self.vmag*np.cos(self.theta),self.vmag*np.sin(self.theta)]\n",
      "            self.mass = mass\n",
      "            self.radius =radius\n",
      "            self.particles.append(Particle(self.pos,self.radius,self.mass,self.vel))"
     ],
     "language": "python",
     "metadata": {},
     "outputs": [],
     "prompt_number": 74
    },
    {
     "cell_type": "code",
     "collapsed": false,
     "input": [
      "#make a particle\n",
      "#p = Particle([0.5,0.5],0.02,1,[0.1,0.1])\n",
      "#make a grid\n",
      "g = Grid(1.0,1.0)\n",
      "g.add_particles(1,0.2,1)\n",
      "\n",
      "p = g.particles\n",
      "\n",
      "#make loop \n",
      "t = 0.0\n",
      "end = 10   \n",
      "for p in g.particles:\n",
      "    print p \n",
      "    while t < end:\n",
      "        time_step = 0.05\n",
      "\n",
      "        p.x += p.vx*time_step\n",
      "        p.y += p.vy*time_step\n",
      "\n",
      "        #set boundary of box and make sure they dont cross over the edge\n",
      "        #look ahead one timestep to make sure not crossing over boundaries\n",
      "        if p.x+p.r+p.vx*time_step >= g.width:\n",
      "            time_step = abs(p.x+p.r+p.vx*time_step-g.width)/p.vx\n",
      "            p.vx = -p.vx\n",
      "            print \"hit right wall\"\n",
      "        if p.x-p.r+p.vx*time_step <= 0:\n",
      "            time_step = p.x-p.r+p.vx*time_step/p.vx\n",
      "            p.vx = -p.vx\n",
      "            print \"hit left wall\"\n",
      "        if p.y+p.r+p.vy*time_step >= g.height: \n",
      "            time_step = abs(p.y+p.r+p.vy*t-g.height)/p.vy\n",
      "            p.vy = -p.vy\n",
      "            print \"hit ceiling\"\n",
      "        if p.y-p.r+p.vy*time_step <= 0:\n",
      "            time_step = abs(p.y-p.r+p.vy*time_step)/p.vy\n",
      "            p.vy = -p.vy\n",
      "            print \"hit floor\"\n",
      "        print p.x, p.y\n",
      "\n",
      "        t += time_step\n",
      "    \n",
      "    \n",
      "    \n"
     ],
     "language": "python",
     "metadata": {},
     "outputs": [
      {
       "ename": "AttributeError",
       "evalue": "Grid instance has no attribute 'radius'",
       "output_type": "pyerr",
       "traceback": [
        "\u001b[0;31m---------------------------------------------------------------------------\u001b[0m\n\u001b[0;31mAttributeError\u001b[0m                            Traceback (most recent call last)",
        "\u001b[0;32m<ipython-input-75-7bce5bc16fbf>\u001b[0m in \u001b[0;36m<module>\u001b[0;34m()\u001b[0m\n\u001b[1;32m      3\u001b[0m \u001b[0;31m#make a grid\u001b[0m\u001b[0;34m\u001b[0m\u001b[0;34m\u001b[0m\u001b[0m\n\u001b[1;32m      4\u001b[0m \u001b[0mg\u001b[0m \u001b[0;34m=\u001b[0m \u001b[0mGrid\u001b[0m\u001b[0;34m(\u001b[0m\u001b[0;36m1.0\u001b[0m\u001b[0;34m,\u001b[0m\u001b[0;36m1.0\u001b[0m\u001b[0;34m)\u001b[0m\u001b[0;34m\u001b[0m\u001b[0m\n\u001b[0;32m----> 5\u001b[0;31m \u001b[0mg\u001b[0m\u001b[0;34m.\u001b[0m\u001b[0madd_particles\u001b[0m\u001b[0;34m(\u001b[0m\u001b[0;36m1\u001b[0m\u001b[0;34m,\u001b[0m\u001b[0;36m0.2\u001b[0m\u001b[0;34m,\u001b[0m\u001b[0;36m1\u001b[0m\u001b[0;34m)\u001b[0m\u001b[0;34m\u001b[0m\u001b[0m\n\u001b[0m\u001b[1;32m      6\u001b[0m \u001b[0;34m\u001b[0m\u001b[0m\n\u001b[1;32m      7\u001b[0m \u001b[0mp\u001b[0m \u001b[0;34m=\u001b[0m \u001b[0mg\u001b[0m\u001b[0;34m.\u001b[0m\u001b[0mparticles\u001b[0m\u001b[0;34m\u001b[0m\u001b[0m\n",
        "\u001b[0;32m<ipython-input-74-91e8942369ad>\u001b[0m in \u001b[0;36madd_particles\u001b[0;34m(self, num, radius, mass)\u001b[0m\n\u001b[1;32m     38\u001b[0m             \u001b[0mself\u001b[0m\u001b[0;34m.\u001b[0m\u001b[0mvel\u001b[0m \u001b[0;34m=\u001b[0m \u001b[0;34m[\u001b[0m\u001b[0mself\u001b[0m\u001b[0;34m.\u001b[0m\u001b[0mvmag\u001b[0m\u001b[0;34m*\u001b[0m\u001b[0mnp\u001b[0m\u001b[0;34m.\u001b[0m\u001b[0mcos\u001b[0m\u001b[0;34m(\u001b[0m\u001b[0mself\u001b[0m\u001b[0;34m.\u001b[0m\u001b[0mtheta\u001b[0m\u001b[0;34m)\u001b[0m\u001b[0;34m,\u001b[0m\u001b[0mself\u001b[0m\u001b[0;34m.\u001b[0m\u001b[0mvmag\u001b[0m\u001b[0;34m*\u001b[0m\u001b[0mnp\u001b[0m\u001b[0;34m.\u001b[0m\u001b[0msin\u001b[0m\u001b[0;34m(\u001b[0m\u001b[0mself\u001b[0m\u001b[0;34m.\u001b[0m\u001b[0mtheta\u001b[0m\u001b[0;34m)\u001b[0m\u001b[0;34m]\u001b[0m\u001b[0;34m\u001b[0m\u001b[0m\n\u001b[1;32m     39\u001b[0m             \u001b[0mself\u001b[0m\u001b[0;34m.\u001b[0m\u001b[0mmass\u001b[0m \u001b[0;34m=\u001b[0m \u001b[0mmass\u001b[0m\u001b[0;34m\u001b[0m\u001b[0m\n\u001b[0;32m---> 40\u001b[0;31m             \u001b[0mself\u001b[0m\u001b[0;34m.\u001b[0m\u001b[0mparticles\u001b[0m\u001b[0;34m.\u001b[0m\u001b[0mappend\u001b[0m\u001b[0;34m(\u001b[0m\u001b[0mParticle\u001b[0m\u001b[0;34m(\u001b[0m\u001b[0mself\u001b[0m\u001b[0;34m.\u001b[0m\u001b[0mpos\u001b[0m\u001b[0;34m,\u001b[0m\u001b[0mself\u001b[0m\u001b[0;34m.\u001b[0m\u001b[0mradius\u001b[0m\u001b[0;34m,\u001b[0m\u001b[0mself\u001b[0m\u001b[0;34m.\u001b[0m\u001b[0mmass\u001b[0m\u001b[0;34m,\u001b[0m\u001b[0mself\u001b[0m\u001b[0;34m.\u001b[0m\u001b[0mvel\u001b[0m\u001b[0;34m)\u001b[0m\u001b[0;34m)\u001b[0m\u001b[0;34m\u001b[0m\u001b[0m\n\u001b[0m",
        "\u001b[0;31mAttributeError\u001b[0m: Grid instance has no attribute 'radius'"
       ]
      }
     ],
     "prompt_number": 75
    },
    {
     "cell_type": "code",
     "collapsed": false,
     "input": [
      "g.particles"
     ],
     "language": "python",
     "metadata": {},
     "outputs": [
      {
       "metadata": {},
       "output_type": "pyout",
       "prompt_number": 66,
       "text": [
        "array([], dtype=float64)"
       ]
      }
     ],
     "prompt_number": 66
    },
    {
     "cell_type": "code",
     "collapsed": false,
     "input": [
      "for i in range(1,2):\n",
      "    print i"
     ],
     "language": "python",
     "metadata": {},
     "outputs": [
      {
       "output_type": "stream",
       "stream": "stdout",
       "text": [
        "1\n"
       ]
      }
     ],
     "prompt_number": 54
    },
    {
     "cell_type": "code",
     "collapsed": false,
     "input": [],
     "language": "python",
     "metadata": {},
     "outputs": [],
     "prompt_number": 51
    },
    {
     "cell_type": "code",
     "collapsed": false,
     "input": [],
     "language": "python",
     "metadata": {},
     "outputs": [],
     "prompt_number": 51
    },
    {
     "cell_type": "code",
     "collapsed": false,
     "input": [],
     "language": "python",
     "metadata": {},
     "outputs": []
    }
   ],
   "metadata": {}
  }
 ]
}